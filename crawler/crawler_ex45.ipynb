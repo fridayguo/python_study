{
 "cells": [
  {
   "cell_type": "code",
   "execution_count": 4,
   "metadata": {
    "collapsed": true
   },
   "outputs": [],
   "source": [
    "import requests\n",
    "import re \n",
    "proxies  = {'http':'http://10.14.87.100:8080'}\n",
    "\n",
    "login_data={'username':'sssskull','password':'123456'}\n",
    "\n",
    "url='http://www.heibanke.com/lesson/crawler_ex02/'\n",
    "login_url='http://www.heibanke.com/accounts/login/?next=/lesson/crawler_ex03/'\n",
    "page_base_url= 'http://www.heibanke.com/lesson/crawler_ex03/pw_list/'"
   ]
  },
  {
   "cell_type": "code",
   "execution_count": 2,
   "metadata": {
    "collapsed": true
   },
   "outputs": [
    {
     "name": "stdout",
     "output_type": "stream",
     "text": [
      "<RequestsCookieJar[<Cookie csrftoken=umIhR6lq1rWymzyS2ZJmyxwZnd4LKrdO for www.heibanke.com/>]>\n<!DOCTYPE html>\n<html lang=\"zh-CN\" >\n    <meta name=\"viewport\" content=\"width=device-width, initial-scale=1\">\n    <meta http-equiv=\"Content-Type\" content=\"text/html; charset=utf-8\" >\n    <meta name=\"baidu-site-verification\" content=\"f2dwZkRE36\" />\n    <meta name=\"description\" content=\"该博客用于记录网易云课堂中相关课程讲述的思路和一些扩展.\" />\n    <meta name=\"keywords\" content=\"blog, 博客, 黑板客, 爬虫闯关, 机器学习, django后端开发, 用python做些事.\" />\n    <meta name=\"author\" content=\"heibanke\" />\n    <head>\n        <title>登录</title>\n\n        <link rel=\"stylesheet\" href=\"/static/libs/bootstrap/css/bootstrap.min.css\">\n        <link href=\"/static/libs/jquery-ui-1.11.2/jquery-ui.min.css\" rel=\"stylesheet\" type=\"text/css\"/>\n \n        <!--[if lt IE 9]><script src=\"/static/libs/js/ie8-responsive-file-warning.js\"></script><![endif]-->\n\n\n        <!--[if lt IE 9]>\n          <script src=\"/static/libs/js/html5shiv.js\"></script>\n          <script src=\"/static/libs/js/respond.min.js\"></script>\n        <![endif]-->\n        <script src=\"/static/libs/jquery-ui-1.11.2/external/jquery/jquery.js\"></script>\n        <script src=\"/static/libs/bootstrap/js/bootstrap.min.js\"></script>\n        <script src=\"/static/libs/js/d3.min.js\"></script>\n        <script src=\"/static/libs/jquery-ui-1.11.2/jquery-ui.min.js\"></script>\n        \n        <script>\n            var _hmt = _hmt || [];\n            (function() {\n              var hm = document.createElement(\"script\");\n              hm.src = \"//hm.baidu.com/hm.js?74e694103cf02b31b28db0a346da0b6b\";\n              var s = document.getElementsByTagName(\"script\")[0]; \n              s.parentNode.insertBefore(hm, s);\n            })();\n        </script>\n    \n         \n    </head>\n    <body>\n        <div class=\"container-fluid\">\n         \n        <div class=\"row\">\n            <div class=\"col-sm-1 col-md-2 col-lg-3\"></div>\n            <div class=\"col-xs-12 col-sm-10 col-md-8 col-lg-6\">\n                \n        <h2> 欢迎来到黑板客记账站点 </h2>\n        <form action=\"\" method=\"post\" class=\"form\"  role=\"form\">\n        <input type='hidden' name='csrfmiddlewaretoken' value='umIhR6lq1rWymzyS2ZJmyxwZnd4LKrdO' />\n\n        \n        \n        \n\n            \n                <div class=\"form-group\">\n                \n                <label for=\"id_username\">昵称:</label> \n                <input class=\"form-control\" id=\"id_username\" maxlength=\"40\" name=\"username\" size=\"40\" type=\"text\" />\n                </div>\n            \n\n        \n\n            \n                <div class=\"form-group\">\n                \n                <label for=\"id_password\">密码:</label> \n                <input class=\"form-control\" id=\"id_password\" maxlength=\"40\" name=\"password\" size=\"40\" type=\"password\" />\n                </div>\n            \n\n        \n        <button id='id_submit' type=\"submit\" class=\"btn btn-default\">登录</button>\n        <button id='id_register' type='button' class=\"btn btn-default\" onclick='javascrtpt:window.location.href=\"/accounts/register\"'>注册</button>\n\n        </form>\n        \n        <h3> 在这里你可以</h3>\n        <ul>\n            <li>随时随地通过网络记账</li>\n            <li>统计分析自己每月收支</li>\n            <li>导出表格进行备份</li>\n            <li>导入以前记录的表格</li>\n        </ul>\n  \n\n                <div class=\"text-center\">\n<table class=\"table\">\n<thead>\n<tr>\n<td><a href=\"http://www.miitbeian.gov.cn\" target=\"_blank\" ><small>京ICP备14042321号</small></a></td>\n<td><a href=\"http://www.heibanke.com/jizhang\" target=\"_blank\" ><small>云记账demo</small></a></td>\n<td><a href=\"http://www.heibanke.com\" target=\"_blank\" ><small>黑板客blog</small></a></td>\n<td><a href=\"http://study.163.com/course/courseMain.htm?courseId=1000035\" target=\"_blank\" ><small>用Python做些事</small></a></td>\n\n</tr>\n</thead>\n</table>\n</div>    \n            </div>\n            <div class=\"col-sm-1 col-md-2 col-lg-3\"></div>\n        </div>  \n        </div>\n    </body>\n</html>\n\n"
     ]
    }
   ],
   "source": [
    "r2=requests.get(login_url, proxies=proxies)\n",
    "c2=r2.cookies\n",
    "print c2 \n",
    "#print r2.text"
   ]
  },
  {
   "cell_type": "code",
   "execution_count": 3,
   "metadata": {},
   "outputs": [],
   "source": [
    "login_data['csrfmiddlewaretoken']=c2['csrftoken']\n",
    "r3=requests.post(login_url,data=login_data,allow_redirects=False,cookies=c2, proxies=proxies)\n",
    "c3=r3.cookies"
   ]
  },
  {
   "cell_type": "code",
   "execution_count": 6,
   "metadata": {},
   "outputs": [
    {
     "data": {
      "text/plain": [
       "'http://www.heibanke.com/lesson/crawler_ex03/pw_list/?page=2'"
      ]
     },
     "execution_count": 6,
     "metadata": {},
     "output_type": "execute_result"
    }
   ],
   "source": [
    "page_num = 2\n",
    "page_url = page_base_url + \"?page=\" + str(page_num)\n",
    "page_url"
   ]
  },
  {
   "cell_type": "code",
   "execution_count": 8,
   "metadata": {
    "collapsed": true
   },
   "outputs": [
    {
     "data": {
      "text/plain": [
       "u'\\n<!DOCTYPE html>\\n<html lang=\"zh-CN\" >\\n    <meta name=\"viewport\" content=\"width=device-width, initial-scale=1\">\\n    <meta http-equiv=\"Content-Type\" content=\"text/html; charset=utf-8\" >\\n    <meta name=\"baidu-site-verification\" content=\"f2dwZkRE36\" />\\n    <meta name=\"description\" content=\"\\u8be5\\u535a\\u5ba2\\u7528\\u4e8e\\u8bb0\\u5f55\\u7f51\\u6613\\u4e91\\u8bfe\\u5802\\u4e2d\\u76f8\\u5173\\u8bfe\\u7a0b\\u8bb2\\u8ff0\\u7684\\u601d\\u8def\\u548c\\u4e00\\u4e9b\\u6269\\u5c55.\" />\\n    <meta name=\"keywords\" content=\"blog, \\u535a\\u5ba2, \\u9ed1\\u677f\\u5ba2, \\u722c\\u866b\\u95ef\\u5173, \\u673a\\u5668\\u5b66\\u4e60, django\\u540e\\u7aef\\u5f00\\u53d1, \\u7528python\\u505a\\u4e9b\\u4e8b.\" />\\n    <meta name=\"author\" content=\"heibanke\" />\\n    <head>\\n        <title>\\u7b2c4\\u5173password\\u5217\\u8868</title>\\n\\n        <link rel=\"stylesheet\" href=\"/static/libs/bootstrap/css/bootstrap.min.css\">\\n        <link href=\"/static/libs/jquery-ui-1.11.2/jquery-ui.min.css\" rel=\"stylesheet\" type=\"text/css\"/>\\n \\n        <!--[if lt IE 9]><script src=\"/static/libs/js/ie8-responsive-file-warning.js\"></script><![endif]-->\\n\\n\\n        <!--[if lt IE 9]>\\n          <script src=\"/static/libs/js/html5shiv.js\"></script>\\n          <script src=\"/static/libs/js/respond.min.js\"></script>\\n        <![endif]-->\\n        <script src=\"/static/libs/jquery-ui-1.11.2/external/jquery/jquery.js\"></script>\\n        <script src=\"/static/libs/bootstrap/js/bootstrap.min.js\"></script>\\n        <script src=\"/static/libs/js/d3.min.js\"></script>\\n        <script src=\"/static/libs/jquery-ui-1.11.2/jquery-ui.min.js\"></script>\\n        \\n        <script>\\n            var _hmt = _hmt || [];\\n            (function() {\\n              var hm = document.createElement(\"script\");\\n              hm.src = \"//hm.baidu.com/hm.js?74e694103cf02b31b28db0a346da0b6b\";\\n              var s = document.getElementsByTagName(\"script\")[0]; \\n              s.parentNode.insertBefore(hm, s);\\n            })();\\n        </script>\\n    \\n        \\n\\n\\n    </head>\\n    <body>\\n        <div class=\"container-fluid\">\\n         \\n        <div class=\"row\">\\n            <div class=\"col-sm-1 col-md-2 col-lg-3\"></div>\\n            <div class=\"col-xs-12 col-sm-10 col-md-8 col-lg-6\">\\n                \\n\\n\\n<h5>\\u6b22\\u8fce sssskull \\u8bbf\\u95ee\\u6211\\u4eec\\u7ad9\\u70b9!   <a href=\"/accounts/logout\">\\u6ce8\\u9500</a></h5>\\n\\n\\n\\n    <h2>\\u8fd9\\u4e2a\\u7f51\\u9875\\u7684\\u8f7d\\u5165\\u4f1a\\u6162\\u534a\\u62cd, \\u6240\\u4ee5\\u8bf7\\u8010\\u5fc3\\u7b49\\u5f85</h2>\\n    <table class=\"table table-striped\">\\n        <tr class=\"info\">\\n            <td><strong>\\u5bc6\\u7801\\u7684\\u4f4d\\u7f6e(\\u968f\\u673a)</strong></td>\\n            <td><strong>\\u5bc6\\u7801\\u7684\\u503c</strong></td>\\n        </tr>\\n\\n        \\n            \\n            <tr class=\"\">\\n                <td data-toggle=\"tooltip\" data-placement=\"left\" title=\"password_pos\">46</td>\\n                <td data-toggle=\"tooltip\" data-placement=\"left\" title=\"password_val\">4</td>\\n            </tr>\\n            \\n            <tr class=\"active\">\\n                <td data-toggle=\"tooltip\" data-placement=\"left\" title=\"password_pos\">53</td>\\n                <td data-toggle=\"tooltip\" data-placement=\"left\" title=\"password_val\">4</td>\\n            </tr>\\n            \\n            <tr class=\"\">\\n                <td data-toggle=\"tooltip\" data-placement=\"left\" title=\"password_pos\">61</td>\\n                <td data-toggle=\"tooltip\" data-placement=\"left\" title=\"password_val\">3</td>\\n            </tr>\\n            \\n            <tr class=\"active\">\\n                <td data-toggle=\"tooltip\" data-placement=\"left\" title=\"password_pos\">77</td>\\n                <td data-toggle=\"tooltip\" data-placement=\"left\" title=\"password_val\">9</td>\\n            </tr>\\n            \\n            <tr class=\"\">\\n                <td data-toggle=\"tooltip\" data-placement=\"left\" title=\"password_pos\">16</td>\\n                <td data-toggle=\"tooltip\" data-placement=\"left\" title=\"password_val\">4</td>\\n            </tr>\\n            \\n            <tr class=\"active\">\\n                <td data-toggle=\"tooltip\" data-placement=\"left\" title=\"password_pos\">2</td>\\n                <td data-toggle=\"tooltip\" data-placement=\"left\" title=\"password_val\">8</td>\\n            </tr>\\n            \\n            <tr class=\"\">\\n                <td data-toggle=\"tooltip\" data-placement=\"left\" title=\"password_pos\">72</td>\\n                <td data-toggle=\"tooltip\" data-placement=\"left\" title=\"password_val\">5</td>\\n            </tr>\\n            \\n            <tr class=\"active\">\\n                <td data-toggle=\"tooltip\" data-placement=\"left\" title=\"password_pos\">6</td>\\n                <td data-toggle=\"tooltip\" data-placement=\"left\" title=\"password_val\">1</td>\\n            </tr>\\n            \\n        \\n\\n\\n    </table>\\n      \\n    <ul class=\"pagination\">\\n        \\n           <li><a href=\"?page=1\">&laquo;</a></li>\\n        \\n        \\n         \\n            \\n            <li ><a href=\"?page=1\">1</a></li>\\n            \\n         \\n            \\n            <li class=\"active\"><a href=\"?page=2\">2</a></li>\\n            \\n         \\n            \\n            <li ><a href=\"?page=3\">3</a></li>\\n            \\n         \\n            \\n            <li ><a href=\"?page=4\">4</a></li>\\n            \\n         \\n            \\n            <li ><a href=\"?page=5\">5</a></li>\\n            \\n         \\n            \\n            <li ><a href=\"?page=6\">6</a></li>\\n            \\n         \\n            \\n            <li><a><strong>...</strong></a></li>\\n            \\n         \\n            \\n         \\n            \\n         \\n            \\n         \\n            \\n         \\n            \\n         \\n            \\n            <li ><a href=\"?page=13\">13</a></li>\\n            \\n        \\n        \\n           <li><a href=\"?page=3\">&raquo;</a></li>\\n        \\n     </ul>\\n  \\n\\n\\n\\n                <div class=\"text-center\">\\n<table class=\"table\">\\n<thead>\\n<tr>\\n<td><a href=\"http://www.miitbeian.gov.cn\" target=\"_blank\" ><small>\\u4eacICP\\u590714042321\\u53f7</small></a></td>\\n<td><a href=\"http://www.heibanke.com/jizhang\" target=\"_blank\" ><small>\\u4e91\\u8bb0\\u8d26demo</small></a></td>\\n<td><a href=\"http://www.heibanke.com\" target=\"_blank\" ><small>\\u9ed1\\u677f\\u5ba2blog</small></a></td>\\n<td><a href=\"http://study.163.com/course/courseMain.htm?courseId=1000035\" target=\"_blank\" ><small>\\u7528Python\\u505a\\u4e9b\\u4e8b</small></a></td>\\n\\n</tr>\\n</thead>\\n</table>\\n</div>    \\n            </div>\\n            <div class=\"col-sm-1 col-md-2 col-lg-3\"></div>\\n        </div>  \\n        </div>\\n    </body>\\n</html>\\n'"
      ]
     },
     "execution_count": 8,
     "metadata": {},
     "output_type": "execute_result"
    }
   ],
   "source": [
    "login_data['csrfmiddlewaretoken']=c3['csrftoken']\n",
    "r_page=requests.post(page_url,data=login_data,allow_redirects=False,cookies=c3, proxies=proxies)\n",
    "r_page.text"
   ]
  },
  {
   "cell_type": "code",
   "execution_count": 9,
   "metadata": {
    "collapsed": true
   },
   "outputs": [
    {
     "name": "stdout",
     "output_type": "stream",
     "text": [
      "<!DOCTYPE html>\n<html lang=\"zh-CN\">\n <head>\n  <meta content=\"width=device-width, initial-scale=1\" name=\"viewport\"/>\n  <meta content=\"text/html; charset=utf-8\" http-equiv=\"Content-Type\"/>\n  <meta content=\"f2dwZkRE36\" name=\"baidu-site-verification\"/>\n  <meta content=\"该博客用于记录网易云课堂中相关课程讲述的思路和一些扩展.\" name=\"description\"/>\n  <meta content=\"blog, 博客, 黑板客, 爬虫闯关, 机器学习, django后端开发, 用python做些事.\" name=\"keywords\"/>\n  <meta content=\"heibanke\" name=\"author\"/>\n  <title>\n   第4关password列表\n  </title>\n  <link href=\"/static/libs/bootstrap/css/bootstrap.min.css\" rel=\"stylesheet\"/>\n  <link href=\"/static/libs/jquery-ui-1.11.2/jquery-ui.min.css\" rel=\"stylesheet\" type=\"text/css\"/>\n  <!--[if lt IE 9]><script src=\"/static/libs/js/ie8-responsive-file-warning.js\"></script><![endif]-->\n  <!--[if lt IE 9]>\n          <script src=\"/static/libs/js/html5shiv.js\"></script>\n          <script src=\"/static/libs/js/respond.min.js\"></script>\n        <![endif]-->\n  <script src=\"/static/libs/jquery-ui-1.11.2/external/jquery/jquery.js\">\n  </script>\n  <script src=\"/static/libs/bootstrap/js/bootstrap.min.js\">\n  </script>\n  <script src=\"/static/libs/js/d3.min.js\">\n  </script>\n  <script src=\"/static/libs/jquery-ui-1.11.2/jquery-ui.min.js\">\n  </script>\n  <script>\n   var _hmt = _hmt || [];\n            (function() {\n              var hm = document.createElement(\"script\");\n              hm.src = \"//hm.baidu.com/hm.js?74e694103cf02b31b28db0a346da0b6b\";\n              var s = document.getElementsByTagName(\"script\")[0]; \n              s.parentNode.insertBefore(hm, s);\n            })();\n  </script>\n </head>\n <body>\n  <div class=\"container-fluid\">\n   <div class=\"row\">\n    <div class=\"col-sm-1 col-md-2 col-lg-3\">\n    </div>\n    <div class=\"col-xs-12 col-sm-10 col-md-8 col-lg-6\">\n     <h5>\n      欢迎 sssskull 访问我们站点!\n      <a href=\"/accounts/logout\">\n       注销\n      </a>\n     </h5>\n     <h2>\n      这个网页的载入会慢半拍, 所以请耐心等待\n     </h2>\n     <table class=\"table table-striped\">\n      <tr class=\"info\">\n       <td>\n        <strong>\n         密码的位置(随机)\n        </strong>\n       </td>\n       <td>\n        <strong>\n         密码的值\n        </strong>\n       </td>\n      </tr>\n      <tr class=\"\">\n       <td data-placement=\"left\" data-toggle=\"tooltip\" title=\"password_pos\">\n        46\n       </td>\n       <td data-placement=\"left\" data-toggle=\"tooltip\" title=\"password_val\">\n        4\n       </td>\n      </tr>\n      <tr class=\"active\">\n       <td data-placement=\"left\" data-toggle=\"tooltip\" title=\"password_pos\">\n        53\n       </td>\n       <td data-placement=\"left\" data-toggle=\"tooltip\" title=\"password_val\">\n        4\n       </td>\n      </tr>\n      <tr class=\"\">\n       <td data-placement=\"left\" data-toggle=\"tooltip\" title=\"password_pos\">\n        61\n       </td>\n       <td data-placement=\"left\" data-toggle=\"tooltip\" title=\"password_val\">\n        3\n       </td>\n      </tr>\n      <tr class=\"active\">\n       <td data-placement=\"left\" data-toggle=\"tooltip\" title=\"password_pos\">\n        77\n       </td>\n       <td data-placement=\"left\" data-toggle=\"tooltip\" title=\"password_val\">\n        9\n       </td>\n      </tr>\n      <tr class=\"\">\n       <td data-placement=\"left\" data-toggle=\"tooltip\" title=\"password_pos\">\n        16\n       </td>\n       <td data-placement=\"left\" data-toggle=\"tooltip\" title=\"password_val\">\n        4\n       </td>\n      </tr>\n      <tr class=\"active\">\n       <td data-placement=\"left\" data-toggle=\"tooltip\" title=\"password_pos\">\n        2\n       </td>\n       <td data-placement=\"left\" data-toggle=\"tooltip\" title=\"password_val\">\n        8\n       </td>\n      </tr>\n      <tr class=\"\">\n       <td data-placement=\"left\" data-toggle=\"tooltip\" title=\"password_pos\">\n        72\n       </td>\n       <td data-placement=\"left\" data-toggle=\"tooltip\" title=\"password_val\">\n        5\n       </td>\n      </tr>\n      <tr class=\"active\">\n       <td data-placement=\"left\" data-toggle=\"tooltip\" title=\"password_pos\">\n        6\n       </td>\n       <td data-placement=\"left\" data-toggle=\"tooltip\" title=\"password_val\">\n        1\n       </td>\n      </tr>\n     </table>\n     <ul class=\"pagination\">\n      <li>\n       <a href=\"?page=1\">\n        «\n       </a>\n      </li>\n      <li>\n       <a href=\"?page=1\">\n        1\n       </a>\n      </li>\n      <li class=\"active\">\n       <a href=\"?page=2\">\n        2\n       </a>\n      </li>\n      <li>\n       <a href=\"?page=3\">\n        3\n       </a>\n      </li>\n      <li>\n       <a href=\"?page=4\">\n        4\n       </a>\n      </li>\n      <li>\n       <a href=\"?page=5\">\n        5\n       </a>\n      </li>\n      <li>\n       <a href=\"?page=6\">\n        6\n       </a>\n      </li>\n      <li>\n       <a>\n        <strong>\n         ...\n        </strong>\n       </a>\n      </li>\n      <li>\n       <a href=\"?page=13\">\n        13\n       </a>\n      </li>\n      <li>\n       <a href=\"?page=3\">\n        »\n       </a>\n      </li>\n     </ul>\n     <div class=\"text-center\">\n      <table class=\"table\">\n       <thead>\n        <tr>\n         <td>\n          <a href=\"http://www.miitbeian.gov.cn\" target=\"_blank\">\n           <small>\n            京ICP备14042321号\n           </small>\n          </a>\n         </td>\n         <td>\n          <a href=\"http://www.heibanke.com/jizhang\" target=\"_blank\">\n           <small>\n            云记账demo\n           </small>\n          </a>\n         </td>\n         <td>\n          <a href=\"http://www.heibanke.com\" target=\"_blank\">\n           <small>\n            黑板客blog\n           </small>\n          </a>\n         </td>\n         <td>\n          <a href=\"http://study.163.com/course/courseMain.htm?courseId=1000035\" target=\"_blank\">\n           <small>\n            用Python做些事\n           </small>\n          </a>\n         </td>\n        </tr>\n       </thead>\n      </table>\n     </div>\n    </div>\n    <div class=\"col-sm-1 col-md-2 col-lg-3\">\n    </div>\n   </div>\n  </div>\n </body>\n</html>\n\n"
     ]
    }
   ],
   "source": [
    "from bs4 import BeautifulSoup\n",
    "soup = BeautifulSoup(r_page.text)\n",
    "print soup.prettify()"
   ]
  },
  {
   "cell_type": "code",
   "execution_count": 32,
   "metadata": {},
   "outputs": [],
   "source": [
    "def add_pass_dict(html, pass_dict):\n",
    "    from bs4 import BeautifulSoup\n",
    "    soup = BeautifulSoup(html)\n",
    "    \n",
    "    pos = soup.find_all(title=[\"password_pos\"])\n",
    "    val = soup.find_all(title=[\"password_val\"])\n",
    "    \n",
    "    for i in range(0, len(pos)):\n",
    "        pass_dict[pos[i].string] = val[i].string\n",
    "        #print pos[i].string, val[i].string"
   ]
  },
  {
   "cell_type": "code",
   "execution_count": 31,
   "metadata": {},
   "outputs": [
    {
     "name": "stdout",
     "output_type": "stream",
     "text": [
      "{u'45': u'4', u'43': u'6', u'52': u'6', u'89': u'9', u'64': u'0', u'81': u'1', u'94': u'4', u'78': u'0'}\n"
     ]
    }
   ],
   "source": [
    "pass_dict = {}\n",
    "add_pass_dict(r_page.text, pass_dict)\n",
    "print pass_dict"
   ]
  },
  {
   "cell_type": "code",
   "execution_count": 41,
   "metadata": {},
   "outputs": [
    {
     "name": "stdout",
     "output_type": "stream",
     "text": [
      "http://www.heibanke.com/lesson/crawler_ex03/pw_list/?page=1\n"
     ]
    },
    {
     "name": "stdout",
     "output_type": "stream",
     "text": [
      "53 4\n5 6\n38 8\n93 6\n8 6\n39 1\n29 1\n58 8\n8\nhttp://www.heibanke.com/lesson/crawler_ex03/pw_list/?page=2\n"
     ]
    },
    {
     "name": "stdout",
     "output_type": "stream",
     "text": [
      "76 1\n67 3\n5 6\n88 3\n74 3\n37 1\n15 9\n93 6\n14\nhttp://www.heibanke.com/lesson/crawler_ex03/pw_list/?page=3\n"
     ]
    },
    {
     "name": "stdout",
     "output_type": "stream",
     "text": [
      "30 3\n79 1\n99 1\n24 4\n15 9\n64 0\n97 6\n22 6\n21\nhttp://www.heibanke.com/lesson/crawler_ex03/pw_list/?page=4\n"
     ]
    },
    {
     "name": "stdout",
     "output_type": "stream",
     "text": [
      "61 3\n88 3\n1 4\n22 6\n81 1\n27 3\n4 4\n69 0\n27\nhttp://www.heibanke.com/lesson/crawler_ex03/pw_list/?page=5\n"
     ]
    },
    {
     "name": "stdout",
     "output_type": "stream",
     "text": [
      "77 9\n98 9\n57 4\n93 6\n25 8\n80 6\n36 6\n15 9\n33\nhttp://www.heibanke.com/lesson/crawler_ex03/pw_list/?page=6\n"
     ]
    },
    {
     "name": "stdout",
     "output_type": "stream",
     "text": [
      "62 6\n86 4\n71 2\n51 2\n27 3\n85 9\n93 6\n96 9\n39\nhttp://www.heibanke.com/lesson/crawler_ex03/pw_list/?page=7\n"
     ]
    },
    {
     "name": "stdout",
     "output_type": "stream",
     "text": [
      "12 9\n91 3\n54 7\n53 4\n65 2\n49 6\n18 7\n47 9\n46\nhttp://www.heibanke.com/lesson/crawler_ex03/pw_list/?page=8\n"
     ]
    },
    {
     "name": "stdout",
     "output_type": "stream",
     "text": [
      "26 4\n61 3\n66 8\n94 4\n55 0\n2 8\n75 8\n50 3\n53\nhttp://www.heibanke.com/lesson/crawler_ex03/pw_list/?page=9\n"
     ]
    },
    {
     "name": "stdout",
     "output_type": "stream",
     "text": [
      "20 3\n3 9\n6 1\n88 3\n18 7\n40 3\n49 6\n70 5\n58\nhttp://www.heibanke.com/lesson/crawler_ex03/pw_list/?page=10\n"
     ]
    },
    {
     "name": "stdout",
     "output_type": "stream",
     "text": [
      "56 6\n28 7\n22 6\n69 0\n81 1\n93 6\n43 6\n62 6\n61\nhttp://www.heibanke.com/lesson/crawler_ex03/pw_list/?page=11\n"
     ]
    },
    {
     "name": "stdout",
     "output_type": "stream",
     "text": [
      "59 9\n43 6\n45 4\n76 1\n69 0\n75 8\n67 3\n73 3\n64\nhttp://www.heibanke.com/lesson/crawler_ex03/pw_list/?page=12\n"
     ]
    },
    {
     "name": "stdout",
     "output_type": "stream",
     "text": [
      "23 0\n11 9\n15 9\n5 6\n54 7\n99 1\n21 2\n40 3\n67\nhttp://www.heibanke.com/lesson/crawler_ex03/pw_list/?page=13\n"
     ]
    },
    {
     "name": "stdout",
     "output_type": "stream",
     "text": [
      "76 1\n66 8\n60 9\n52 6\n69\nhttp://www.heibanke.com/lesson/crawler_ex03/pw_list/?page=1\n"
     ]
    },
    {
     "name": "stdout",
     "output_type": "stream",
     "text": [
      "92 9\n70 5\n76 1\n91 3\n94 4\n10 7\n50 3\n2 8\n71\nhttp://www.heibanke.com/lesson/crawler_ex03/pw_list/?page=2\n"
     ]
    },
    {
     "name": "stdout",
     "output_type": "stream",
     "text": [
      "81 1\n89 9\n22 6\n13 0\n23 0\n44 3\n56 6\n12 9\n74\nhttp://www.heibanke.com/lesson/crawler_ex03/pw_list/?page=3\n"
     ]
    },
    {
     "name": "stdout",
     "output_type": "stream",
     "text": [
      "65 2\n70 5\n100 1\n29 1\n44 3\n24 4\n54 7\n18 7\n75\nhttp://www.heibanke.com/lesson/crawler_ex03/pw_list/?page=4\n"
     ]
    },
    {
     "name": "stdout",
     "output_type": "stream",
     "text": [
      "65 2\n63 7\n85 9\n70 5\n40 3\n83 5\n96 9\n28 7\n77\nhttp://www.heibanke.com/lesson/crawler_ex03/pw_list/?page=5\n"
     ]
    },
    {
     "name": "stdout",
     "output_type": "stream",
     "text": [
      "68 1\n76 1\n30 3\n51 2\n67 3\n97 6\n42 9\n85 9\n79\nhttp://www.heibanke.com/lesson/crawler_ex03/pw_list/?page=6\n"
     ]
    },
    {
     "name": "stdout",
     "output_type": "stream",
     "text": [
      "91 3\n95 2\n1 4\n66 8\n80 6\n57 4\n88 3\n97 6\n80\nhttp://www.heibanke.com/lesson/crawler_ex03/pw_list/?page=7\n"
     ]
    },
    {
     "name": "stdout",
     "output_type": "stream",
     "text": [
      "66 8\n89 9\n19 4\n9 4\n98 9\n13 0\n32 8\n24 4\n83\nhttp://www.heibanke.com/lesson/crawler_ex03/pw_list/?page=8\n"
     ]
    },
    {
     "name": "stdout",
     "output_type": "stream",
     "text": [
      "94 4\n93 6\n13 0\n73 3\n62 6\n71 2\n6 1\n53 4\n83\nhttp://www.heibanke.com/lesson/crawler_ex03/pw_list/?page=9\n"
     ]
    },
    {
     "name": "stdout",
     "output_type": "stream",
     "text": [
      "65 2\n75 8\n14 3\n73 3\n11 9\n93 6\n7 3\n20 3\n85\nhttp://www.heibanke.com/lesson/crawler_ex03/pw_list/?page=10\n"
     ]
    },
    {
     "name": "stdout",
     "output_type": "stream",
     "text": [
      "92 9\n3 9\n82 3\n88 3\n41 6\n47 9\n38 8\n18 7\n87\nhttp://www.heibanke.com/lesson/crawler_ex03/pw_list/?page=11\n"
     ]
    },
    {
     "name": "stdout",
     "output_type": "stream",
     "text": [
      "4 4\n89 9\n43 6\n32 8\n41 6\n25 8\n1 4\n63 7\n87\nhttp://www.heibanke.com/lesson/crawler_ex03/pw_list/?page=12\n"
     ]
    },
    {
     "name": "stdout",
     "output_type": "stream",
     "text": [
      "92 9\n27 3\n33 7\n70 5\n98 9\n17 8\n18 7\n80 6\n89\nhttp://www.heibanke.com/lesson/crawler_ex03/pw_list/?page=13\n"
     ]
    },
    {
     "name": "stdout",
     "output_type": "stream",
     "text": [
      "25 8\n100 1\n11 9\n49 6\n89\nhttp://www.heibanke.com/lesson/crawler_ex03/pw_list/?page=1\n"
     ]
    },
    {
     "name": "stdout",
     "output_type": "stream",
     "text": [
      "12 9\n74 3\n44 3\n20 3\n58 8\n46 4\n39 1\n79 1\n90\nhttp://www.heibanke.com/lesson/crawler_ex03/pw_list/?page=2\n"
     ]
    },
    {
     "name": "stdout",
     "output_type": "stream",
     "text": [
      "52 6\n63 7\n78 0\n74 3\n14 3\n62 6\n56 6\n43 6\n91\nhttp://www.heibanke.com/lesson/crawler_ex03/pw_list/?page=3\n"
     ]
    },
    {
     "name": "stdout",
     "output_type": "stream",
     "text": [
      "45 4\n100 1\n38 8\n75 8\n17 8\n76 1\n44 3\n25 8\n91\nhttp://www.heibanke.com/lesson/crawler_ex03/pw_list/?page=4\n"
     ]
    },
    {
     "name": "stdout",
     "output_type": "stream",
     "text": [
      "24 4\n81 1\n36 6\n7 3\n60 9\n34 7\n89 9\n74 3\n92\nhttp://www.heibanke.com/lesson/crawler_ex03/pw_list/?page=5\n"
     ]
    },
    {
     "name": "stdout",
     "output_type": "stream",
     "text": [
      "57 4\n55 0\n80 6\n13 0\n67 3\n73 3\n63 7\n31 4\n93\nhttp://www.heibanke.com/lesson/crawler_ex03/pw_list/?page=6\n"
     ]
    },
    {
     "name": "stdout",
     "output_type": "stream",
     "text": [
      "80 6\n79 1\n63 7\n36 6\n73 3\n4 4\n69 0\n58 8\n93\nhttp://www.heibanke.com/lesson/crawler_ex03/pw_list/?page=7\n"
     ]
    },
    {
     "name": "stdout",
     "output_type": "stream",
     "text": [
      "6 1\n53 4\n79 1\n2 8\n34 7\n94 4\n71 2\n32 8\n93\nhttp://www.heibanke.com/lesson/crawler_ex03/pw_list/?page=8\n"
     ]
    },
    {
     "name": "stdout",
     "output_type": "stream",
     "text": [
      "39 1\n66 8\n80 6\n78 0\n43 6\n77 9\n19 4\n15 9\n93\nhttp://www.heibanke.com/lesson/crawler_ex03/pw_list/?page=9\n"
     ]
    },
    {
     "name": "stdout",
     "output_type": "stream",
     "text": [
      "20 3\n96 9\n10 7\n12 9\n4 4\n7 3\n75 8\n42 9\n93\nhttp://www.heibanke.com/lesson/crawler_ex03/pw_list/?page=10\n"
     ]
    },
    {
     "name": "stdout",
     "output_type": "stream",
     "text": [
      "51 2\n79 1\n86 4\n27 3\n7 3\n20 3\n89 9\n13 0\n93\nhttp://www.heibanke.com/lesson/crawler_ex03/pw_list/?page=11\n"
     ]
    },
    {
     "name": "stdout",
     "output_type": "stream",
     "text": [
      "9 4\n97 6\n92 9\n87 3\n96 9\n75 8\n57 4\n69 0\n94\nhttp://www.heibanke.com/lesson/crawler_ex03/pw_list/?page=12\n"
     ]
    },
    {
     "name": "stdout",
     "output_type": "stream",
     "text": [
      "88 3\n65 2\n24 4\n37 1\n67 3\n32 8\n8 6\n25 8\n94\nhttp://www.heibanke.com/lesson/crawler_ex03/pw_list/?page=13\n"
     ]
    },
    {
     "name": "stdout",
     "output_type": "stream",
     "text": [
      "47 9\n21 2\n53 4\n99 1\n94\nhttp://www.heibanke.com/lesson/crawler_ex03/pw_list/?page=1\n"
     ]
    },
    {
     "name": "stdout",
     "output_type": "stream",
     "text": [
      "1 4\n76 1\n52 6\n10 7\n91 3\n21 2\n9 4\n88 3\n94\nhttp://www.heibanke.com/lesson/crawler_ex03/pw_list/?page=2\n"
     ]
    },
    {
     "name": "stdout",
     "output_type": "stream",
     "text": [
      "65 2\n17 8\n68 1\n6 1\n40 3\n53 4\n100 1\n27 3\n94\nhttp://www.heibanke.com/lesson/crawler_ex03/pw_list/?page=3\n"
     ]
    },
    {
     "name": "stdout",
     "output_type": "stream",
     "text": [
      "70 5\n4 4\n12 9\n59 9\n91 3\n63 7\n65 2\n9 4\n94\nhttp://www.heibanke.com/lesson/crawler_ex03/pw_list/?page=4\n"
     ]
    },
    {
     "name": "stdout",
     "output_type": "stream",
     "text": [
      "57 4\n81 1\n28 7\n29 1\n59 9\n21 2\n66 8\n30 3\n94\nhttp://www.heibanke.com/lesson/crawler_ex03/pw_list/?page=5\n"
     ]
    },
    {
     "name": "stdout",
     "output_type": "stream",
     "text": [
      "2 8\n91 3\n22 6\n61 3\n32 8\n59 9\n1 4\n12 9\n94\nhttp://www.heibanke.com/lesson/crawler_ex03/pw_list/?page=6\n"
     ]
    },
    {
     "name": "stdout",
     "output_type": "stream",
     "text": [
      "42 9\n15 9\n31 4\n93 6\n95 2\n44 3\n100 1\n47 9\n94\nhttp://www.heibanke.com/lesson/crawler_ex03/pw_list/?page=7\n"
     ]
    },
    {
     "name": "stdout",
     "output_type": "stream",
     "text": [
      "29 1\n59 9\n10 7\n9 4\n81 1\n73 3\n78 0\n28 7\n94\nhttp://www.heibanke.com/lesson/crawler_ex03/pw_list/?page=8\n"
     ]
    },
    {
     "name": "stdout",
     "output_type": "stream",
     "text": [
      "72 5\n27 3\n1 4\n19 4\n13 0\n38 8\n69 0\n47 9\n95\nhttp://www.heibanke.com/lesson/crawler_ex03/pw_list/?page=9\n"
     ]
    },
    {
     "name": "stdout",
     "output_type": "stream",
     "text": [
      "76 1\n14 3\n54 7\n84 7\n32 8\n59 9\n6 1\n85 9\n96\nhttp://www.heibanke.com/lesson/crawler_ex03/pw_list/?page=10\n"
     ]
    },
    {
     "name": "stdout",
     "output_type": "stream",
     "text": [
      "1 4\n85 9\n11 9\n35 6\n27 3\n58 8\n93 6\n90 6\n98\nhttp://www.heibanke.com/lesson/crawler_ex03/pw_list/?page=11\n"
     ]
    },
    {
     "name": "stdout",
     "output_type": "stream",
     "text": [
      "65 2\n58 8\n4 4\n23 0\n33 7\n64 0\n54 7\n75 8\n98\nhttp://www.heibanke.com/lesson/crawler_ex03/pw_list/?page=12\n"
     ]
    },
    {
     "name": "stdout",
     "output_type": "stream",
     "text": [
      "84 7\n24 4\n65 2\n8 6\n50 3\n63 7\n26 4\n73 3\n98\nhttp://www.heibanke.com/lesson/crawler_ex03/pw_list/?page=13\n"
     ]
    },
    {
     "name": "stdout",
     "output_type": "stream",
     "text": [
      "83 5\n38 8\n82 3\n98 9\n98\nhttp://www.heibanke.com/lesson/crawler_ex03/pw_list/?page=1\n"
     ]
    },
    {
     "name": "stdout",
     "output_type": "stream",
     "text": [
      "40 3\n1 4\n90 6\n59 9\n49 6\n61 3\n24 4\n91 3\n98\nhttp://www.heibanke.com/lesson/crawler_ex03/pw_list/?page=2\n"
     ]
    },
    {
     "name": "stdout",
     "output_type": "stream",
     "text": [
      "87 3\n3 9\n49 6\n7 3\n63 7\n48 1\n8 6\n37 1\n99\nhttp://www.heibanke.com/lesson/crawler_ex03/pw_list/?page=3\n"
     ]
    },
    {
     "name": "stdout",
     "output_type": "stream",
     "text": [
      "90 6\n5 6\n71 2\n14 3\n22 6\n21 2\n20 3\n81 1\n99\nhttp://www.heibanke.com/lesson/crawler_ex03/pw_list/?page=4\n"
     ]
    },
    {
     "name": "stdout",
     "output_type": "stream",
     "text": [
      "41 6\n65 2\n94 4\n13 0\n25 8\n40 3\n26 4\n58 8\n99\nhttp://www.heibanke.com/lesson/crawler_ex03/pw_list/?page=5\n"
     ]
    },
    {
     "name": "stdout",
     "output_type": "stream",
     "text": [
      "74 3\n34 7\n93 6\n37 1\n65 2\n60 9\n12 9\n4 4\n99\nhttp://www.heibanke.com/lesson/crawler_ex03/pw_list/?page=6\n"
     ]
    },
    {
     "name": "stdout",
     "output_type": "stream",
     "text": [
      "98 9\n74 3\n97 6\n53 4\n72 5\n4 4\n88 3\n31 4\n99\nhttp://www.heibanke.com/lesson/crawler_ex03/pw_list/?page=7\n"
     ]
    },
    {
     "name": "stdout",
     "output_type": "stream",
     "text": [
      "37 1\n84 7\n33 7\n80 6\n22 6\n45 4\n40 3\n66 8\n99\nhttp://www.heibanke.com/lesson/crawler_ex03/pw_list/?page=8\n"
     ]
    },
    {
     "name": "stdout",
     "output_type": "stream",
     "text": [
      "7 3\n58 8\n85 9\n23 0\n8 6\n32 8\n1 4\n9 4\n99\nhttp://www.heibanke.com/lesson/crawler_ex03/pw_list/?page=9\n"
     ]
    },
    {
     "name": "stdout",
     "output_type": "stream",
     "text": [
      "20 3\n55 0\n51 2\n50 3\n10 7\n95 2\n56 6\n30 3\n99\nhttp://www.heibanke.com/lesson/crawler_ex03/pw_list/?page=10\n"
     ]
    },
    {
     "name": "stdout",
     "output_type": "stream",
     "text": [
      "54 7\n39 1\n73 3\n61 3\n29 1\n15 9\n34 7\n91 3\n99\nhttp://www.heibanke.com/lesson/crawler_ex03/pw_list/?page=11\n"
     ]
    },
    {
     "name": "stdout",
     "output_type": "stream",
     "text": [
      "88 3\n11 9\n9 4\n52 6\n12 9\n97 6\n67 3\n74 3\n99\nhttp://www.heibanke.com/lesson/crawler_ex03/pw_list/?page=12\n"
     ]
    },
    {
     "name": "stdout",
     "output_type": "stream",
     "text": [
      "50 3\n16 4\n25 8\n79 1\n80 6\n10 7\n51 2\n70 5\n100\n{u'24': u'4', u'25': u'8', u'26': u'4', u'27': u'3', u'20': u'3', u'21': u'2', u'22': u'6', u'23': u'0', u'28': u'7', u'29': u'1', u'4': u'4', u'8': u'6', u'59': u'9', u'58': u'8', u'55': u'0', u'54': u'7', u'57': u'4', u'56': u'6', u'51': u'2', u'50': u'3', u'53': u'4', u'52': u'6', u'88': u'3', u'89': u'9', u'82': u'3', u'83': u'5', u'80': u'6', u'81': u'1', u'86': u'4', u'87': u'3', u'84': u'7', u'85': u'9', u'3': u'9', u'7': u'3', u'100': u'1', u'39': u'1', u'38': u'8', u'33': u'7', u'32': u'8', u'31': u'4', u'30': u'3', u'37': u'1', u'36': u'6', u'35': u'6', u'34': u'7', u'60': u'9', u'61': u'3', u'62': u'6', u'63': u'7', u'64': u'0', u'65': u'2', u'66': u'8', u'67': u'3', u'68': u'1', u'69': u'0', u'2': u'8', u'6': u'1', u'99': u'1', u'98': u'9', u'91': u'3', u'90': u'6', u'93': u'6', u'92': u'9', u'95': u'2', u'94': u'4', u'97': u'6', u'96': u'9', u'11': u'9', u'10': u'7', u'13': u'0', u'12': u'9', u'15': u'9', u'14': u'3', u'17': u'8', u'16': u'4', u'19': u'4', u'18': u'7', u'48': u'1', u'49': u'6', u'46': u'4', u'47': u'9', u'44': u'3', u'45': u'4', u'42': u'9', u'43': u'6', u'40': u'3', u'41': u'6', u'1': u'4', u'5': u'6', u'9': u'4', u'77': u'9', u'76': u'1', u'75': u'8', u'74': u'3', u'73': u'3', u'72': u'5', u'71': u'2', u'70': u'5', u'79': u'1', u'78': u'0'}\n"
     ]
    }
   ],
   "source": [
    "pass_dict = {}\n",
    "while len(pass_dict) != 100:\n",
    "    for page_num in range(1,14):\n",
    "        page_url = page_base_url + \"?page=\" + str(page_num)\n",
    "        print page_url\n",
    "        r_page=requests.post(page_url,data=login_data,allow_redirects=False,cookies=c3, proxies=proxies)\n",
    "        add_pass_dict(r_page.text, pass_dict)\n",
    "        print len(pass_dict)\n",
    "        if len(pass_dict) == 100:\n",
    "            break\n",
    "            \n",
    "print pass_dict"
   ]
  },
  {
   "cell_type": "code",
   "execution_count": 40,
   "metadata": {},
   "outputs": [
    {
     "ename": "KeyError",
     "evalue": "'5'",
     "traceback": [
      "\u001b[1;31m\u001b[0m",
      "\u001b[1;31mKeyError\u001b[0mTraceback (most recent call last)",
      "\u001b[1;32m<ipython-input-40-f19794888ae1>\u001b[0m in \u001b[0;36m<module>\u001b[1;34m()\u001b[0m\n\u001b[0;32m      1\u001b[0m \u001b[0mpasswd\u001b[0m \u001b[1;33m=\u001b[0m \u001b[1;34m''\u001b[0m\u001b[1;33m\u001b[0m\u001b[0m\n\u001b[0;32m      2\u001b[0m \u001b[1;32mfor\u001b[0m \u001b[0mi\u001b[0m \u001b[1;32min\u001b[0m \u001b[0mrange\u001b[0m\u001b[1;33m(\u001b[0m\u001b[1;36m1\u001b[0m\u001b[1;33m,\u001b[0m \u001b[0mlen\u001b[0m\u001b[1;33m(\u001b[0m\u001b[0mpass_dict\u001b[0m\u001b[1;33m)\u001b[0m\u001b[1;33m)\u001b[0m\u001b[1;33m:\u001b[0m\u001b[1;33m\u001b[0m\u001b[0m\n\u001b[1;32m----> 3\u001b[1;33m     \u001b[0mpasswd\u001b[0m \u001b[1;33m=\u001b[0m \u001b[0mpasswd\u001b[0m \u001b[1;33m+\u001b[0m \u001b[0mstr\u001b[0m\u001b[1;33m(\u001b[0m\u001b[0mpass_dict\u001b[0m\u001b[1;33m[\u001b[0m\u001b[0mstr\u001b[0m\u001b[1;33m(\u001b[0m\u001b[0mi\u001b[0m\u001b[1;33m)\u001b[0m\u001b[1;33m]\u001b[0m\u001b[1;33m)\u001b[0m\u001b[1;33m\u001b[0m\u001b[0m\n\u001b[0m\u001b[0;32m      4\u001b[0m \u001b[1;32mprint\u001b[0m \u001b[0mlen\u001b[0m\u001b[1;33m(\u001b[0m\u001b[0mpasswd\u001b[0m\u001b[1;33m)\u001b[0m\u001b[1;33m\u001b[0m\u001b[0m\n\u001b[0;32m      5\u001b[0m \u001b[1;32mprint\u001b[0m \u001b[0mpasswd\u001b[0m\u001b[1;33m\u001b[0m\u001b[0m\n",
      "\u001b[1;31mKeyError\u001b[0m: '5'"
     ],
     "output_type": "error"
    }
   ],
   "source": [
    "passwd = ''\n",
    "for i in range(1, len(pass_dict)):\n",
    "    passwd = passwd + str(pass_dict[str(i)])\n",
    "print len(passwd)\n",
    "print passwd"
   ]
  }
 ],
 "metadata": {
  "kernelspec": {
   "display_name": "Python 2",
   "language": "python",
   "name": "python2"
  },
  "language_info": {
   "codemirror_mode": {
    "name": "ipython",
    "version": 2.0
   },
   "file_extension": ".py",
   "mimetype": "text/x-python",
   "name": "python",
   "nbconvert_exporter": "python",
   "pygments_lexer": "ipython2",
   "version": "2.7.6"
  }
 },
 "nbformat": 4,
 "nbformat_minor": 0
}