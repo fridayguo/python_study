{
 "cells": [
  {
   "cell_type": "code",
   "execution_count": 26,
   "metadata": {
    "collapsed": true
   },
   "outputs": [],
   "source": [
    "import urllib2\n",
    "import cookielib\n",
    "\n",
    "cookie = cookielib.CookieJar()\n",
    "cookie_support = urllib2.HTTPCookieProcessor(cookie)\n",
    "#proxy_support = urllib2.ProxyHandler({'http':'http://dev-proxy.oa.com:8080'})\n",
    "proxy_support = urllib2.ProxyHandler({'http':'http://10.14.87.100:8080'})\n",
    "opener = urllib2.build_opener(proxy_support, cookie_support)\n",
    "urllib2.install_opener(opener)"
   ]
  },
  {
   "cell_type": "code",
   "execution_count": 40,
   "metadata": {},
   "outputs": [],
   "source": [
    "import urllib2\n",
    "import cookielib\n",
    "\n",
    "filename = 'cookie.txt'\n",
    "#声明一个MozillaCookieJar对象实例来保存cookie，之后写入文件\n",
    "cookie = cookielib.MozillaCookieJar(filename)\n",
    "#利用urllib2库的HTTPCookieProcessor对象来创建cookie处理器\n",
    "cookie_support = urllib2.HTTPCookieProcessor(cookie)\n",
    "#proxy_support = urllib2.ProxyHandler({'http':'http://dev-proxy.oa.com:8080'})\n",
    "proxy_support = urllib2.ProxyHandler({'http':'http://10.14.87.100:8080'})\n",
    "opener = urllib2.build_opener(proxy_support, cookie_support)\n",
    "urllib2.install_opener(opener)"
   ]
  },
  {
   "cell_type": "code",
   "execution_count": 44,
   "metadata": {
    "collapsed": false
   },
   "outputs": [
    {
     "name": "stdout",
     "output_type": "stream",
     "text": [
      "csrftoken 6hBgTOwli1WtaSijv4zGNdc7IlifkuOJ\n<MozillaCookieJar[<Cookie csrftoken=6hBgTOwli1WtaSijv4zGNdc7IlifkuOJ for www.heibanke.com/>]>\n"
     ]
    }
   ],
   "source": [
    "# 写法1 \n",
    "craw_url = 'http://www.heibanke.com/lesson/crawler_ex02/'\n",
    "craw_url='http://www.heibanke.com/accounts/login/?next=/lesson/crawler_ex02/'\n",
    "#craw_url = 'http://ts.epc.oa.com'\n",
    "#response = urllib2.urlopen(\"http://www.baidu.com\")\n",
    "response = urllib2.urlopen(craw_url)\n",
    "# response = opener.open(craw_url)\n",
    "\n",
    "html = response.read()\n",
    "for item in cookie:\n",
    "    print item.name, item.value\n",
    "    \n",
    "print cookie\n",
    "#保存cookie到文件\n",
    "cookie.save(ignore_discard=True, ignore_expires=True)\n",
    "\n",
    "login_cookie = cookie"
   ]
  },
  {
   "cell_type": "code",
   "execution_count": 43,
   "metadata": {
    "collapsed": true
   },
   "outputs": [
    {
     "name": "stdout",
     "output_type": "stream",
     "text": [
      "<!DOCTYPE html>\n<html lang=\"zh-CN\" >\n    <meta name=\"viewport\" content=\"width=device-width, initial-scale=1\">\n    <meta http-equiv=\"Content-Type\" content=\"text/html; charset=utf-8\" >\n    <meta name=\"baidu-site-verification\" content=\"f2dwZkRE36\" />\n    <meta name=\"description\" content=\"该博客用于记录网易云课堂中相关课程讲述的思路和一些扩展.\" />\n    <meta name=\"keywords\" content=\"blog, 博客, 黑板客, 爬虫闯关, 机器学习, django后端开发, 用python做些事.\" />\n    <meta name=\"author\" content=\"heibanke\" />\n    <head>\n        <title>登录</title>\n\n        <link rel=\"stylesheet\" href=\"/static/libs/bootstrap/css/bootstrap.min.css\">\n        <link href=\"/static/libs/jquery-ui-1.11.2/jquery-ui.min.css\" rel=\"stylesheet\" type=\"text/css\"/>\n \n        <!--[if lt IE 9]><script src=\"/static/libs/js/ie8-responsive-file-warning.js\"></script><![endif]-->\n\n\n        <!--[if lt IE 9]>\n          <script src=\"/static/libs/js/html5shiv.js\"></script>\n          <script src=\"/static/libs/js/respond.min.js\"></script>\n        <![endif]-->\n        <script src=\"/static/libs/jquery-ui-1.11.2/external/jquery/jquery.js\"></script>\n        <script src=\"/static/libs/bootstrap/js/bootstrap.min.js\"></script>\n        <script src=\"/static/libs/js/d3.min.js\"></script>\n        <script src=\"/static/libs/jquery-ui-1.11.2/jquery-ui.min.js\"></script>\n        \n        <script>\n            var _hmt = _hmt || [];\n            (function() {\n              var hm = document.createElement(\"script\");\n              hm.src = \"//hm.baidu.com/hm.js?74e694103cf02b31b28db0a346da0b6b\";\n              var s = document.getElementsByTagName(\"script\")[0]; \n              s.parentNode.insertBefore(hm, s);\n            })();\n        </script>\n    \n         \n    </head>\n    <body>\n        <div class=\"container-fluid\">\n         \n        <div class=\"row\">\n            <div class=\"col-sm-1 col-md-2 col-lg-3\"></div>\n            <div class=\"col-xs-12 col-sm-10 col-md-8 col-lg-6\">\n                \n        <h2> 欢迎来到黑板客记账站点 </h2>\n        <form action=\"\" method=\"post\" class=\"form\"  role=\"form\">\n        <input type='hidden' name='csrfmiddlewaretoken' value='6hBgTOwli1WtaSijv4zGNdc7IlifkuOJ' />\n\n        \n        \n        \n\n            \n                <div class=\"form-group\">\n                \n                <label for=\"id_username\">昵称:</label> \n                <input class=\"form-control\" id=\"id_username\" maxlength=\"40\" name=\"username\" size=\"40\" type=\"text\" />\n                </div>\n            \n\n        \n\n            \n                <div class=\"form-group\">\n                \n                <label for=\"id_password\">密码:</label> \n                <input class=\"form-control\" id=\"id_password\" maxlength=\"40\" name=\"password\" size=\"40\" type=\"password\" />\n                </div>\n            \n\n        \n        <button id='id_submit' type=\"submit\" class=\"btn btn-default\">登录</button>\n        <button id='id_register' type='button' class=\"btn btn-default\" onclick='javascrtpt:window.location.href=\"/accounts/register\"'>注册</button>\n\n        </form>\n        \n        <h3> 在这里你可以</h3>\n        <ul>\n            <li>随时随地通过网络记账</li>\n            <li>统计分析自己每月收支</li>\n            <li>导出表格进行备份</li>\n            <li>导入以前记录的表格</li>\n        </ul>\n  \n\n                <div class=\"text-center\">\n<table class=\"table\">\n<thead>\n<tr>\n<td><a href=\"http://www.miitbeian.gov.cn\" target=\"_blank\" ><small>京ICP备14042321号</small></a></td>\n<td><a href=\"http://www.heibanke.com/jizhang\" target=\"_blank\" ><small>云记账demo</small></a></td>\n<td><a href=\"http://www.heibanke.com\" target=\"_blank\" ><small>黑板客blog</small></a></td>\n<td><a href=\"http://study.163.com/course/courseMain.htm?courseId=1000035\" target=\"_blank\" ><small>用Python做些事</small></a></td>\n\n</tr>\n</thead>\n</table>\n</div>    \n            </div>\n            <div class=\"col-sm-1 col-md-2 col-lg-3\"></div>\n        </div>  \n        </div>\n    </body>\n</html>\n\n"
     ]
    }
   ],
   "source": [
    "print html"
   ]
  },
  {
   "cell_type": "code",
   "execution_count": 21,
   "metadata": {},
   "outputs": [
    {
     "data": {
      "text/plain": [
       "{'Accept': 'text/html,application/xhtml+xml,application/xml;q=0.9,image/webp,*/*;q=0.8',\n 'Accept-Encoding': 'gzip, deflate',\n 'Accept-Language': 'zh-CN,zh;q=0.8',\n 'Cache-Control': 'max-age=0',\n 'Content-Length': '78',\n 'Content-Type': 'application/x-www-form-urlencoded',\n 'Cookie': '___rl__test__cookies=1506316645785; sessionid=w0yiamot53evezqs00nxfl6291phdmmi; csrftoken=CqldX1lxnZx3E83SVLZtROQwptFPtia6; Hm_lvt_74e694103cf02b31b28db0a346da0b6b=1505711070,1505796617; Hm_lpvt_74e694103cf02b31b28db0a346da0b6b=1506316276; OUTFOX_SEARCH_USER_ID_NCOO=999114290.2054107',\n 'Host': 'www.heibanke.com',\n 'Origin': 'http://www.heibanke.com',\n 'Proxy-Connection': 'keep-alive',\n 'Referer': 'http://www.heibanke.com/lesson/crawler_ex02/',\n 'Upgrade-Insecure-Requests': '1',\n 'User-Agent': 'Mozilla/5.0 (iPhone; CPU iPhone OS 9_1 like Mac OS X) AppleWebKit/601.1.46 (KHTML, like Gecko) Version/9.0 Mobile/13B143 Safari/601.1'}"
      ]
     },
     "execution_count": 21,
     "metadata": {},
     "output_type": "execute_result"
    }
   ],
   "source": [
    "header = {\n",
    "'Host': 'www.heibanke.com',\n",
    "'Proxy-Connection': 'keep-alive',\n",
    "'Content-Length': '78',\n",
    "'Cache-Control': 'max-age=0',\n",
    "'Origin': 'http://www.heibanke.com',\n",
    "'Upgrade-Insecure-Requests': '1',\n",
    "'User-Agent': 'Mozilla/5.0 (iPhone; CPU iPhone OS 9_1 like Mac OS X) AppleWebKit/601.1.46 (KHTML, like Gecko) Version/9.0 Mobile/13B143 Safari/601.1',\n",
    "'Content-Type': 'application/x-www-form-urlencoded',\n",
    "'Accept': 'text/html,application/xhtml+xml,application/xml;q=0.9,image/webp,*/*;q=0.8',\n",
    "'Referer': 'http://www.heibanke.com/lesson/crawler_ex02/',\n",
    "'Accept-Encoding': 'gzip, deflate',\n",
    "'Accept-Language': 'zh-CN,zh;q=0.8',\n",
    "'Cookie': '___rl__test__cookies=1506316645785; sessionid=w0yiamot53evezqs00nxfl6291phdmmi; csrftoken=CqldX1lxnZx3E83SVLZtROQwptFPtia6; Hm_lvt_74e694103cf02b31b28db0a346da0b6b=1505711070,1505796617; Hm_lpvt_74e694103cf02b31b28db0a346da0b6b=1506316276; OUTFOX_SEARCH_USER_ID_NCOO=999114290.2054107',\n",
    "}\n",
    "\n",
    "header"
   ]
  },
  {
   "cell_type": "code",
   "execution_count": 47,
   "metadata": {},
   "outputs": [
    {
     "data": {
      "text/plain": [
       "'6hBgTOwli1WtaSijv4zGNdc7IlifkuOJ'"
      ]
     },
     "execution_count": 47,
     "metadata": {},
     "output_type": "execute_result"
    }
   ],
   "source": [
    "def get_token(cookie):\n",
    "    for item in cookie:\n",
    "        if item.name == 'csrftoken':\n",
    "            return item.value\n",
    "        \n",
    "get_token(cookie)"
   ]
  },
  {
   "cell_type": "code",
   "execution_count": 46,
   "metadata": {
    "collapsed": true
   },
   "outputs": [
    {
     "name": "stdout",
     "output_type": "stream",
     "text": [
      "{'username': 'sssskull', 'csrfmiddlewaretoken': '6hBgTOwli1WtaSijv4zGNdc7IlifkuOJ', 'password': '21'}\n"
     ]
    },
    {
     "name": "stdout",
     "output_type": "stream",
     "text": [
      "<!DOCTYPE html>\n<html lang=\"zh-CN\" >\n    <meta name=\"viewport\" content=\"width=device-width, initial-scale=1\">\n    <meta http-equiv=\"Content-Type\" content=\"text/html; charset=utf-8\" >\n    <meta name=\"baidu-site-verification\" content=\"f2dwZkRE36\" />\n    <meta name=\"description\" content=\"该博客用于记录网易云课堂中相关课程讲述的思路和一些扩展.\" />\n    <meta name=\"keywords\" content=\"blog, 博客, 黑板客, 爬虫闯关, 机器学习, django后端开发, 用python做些事.\" />\n    <meta name=\"author\" content=\"heibanke\" />\n    <head>\n        <title>登录</title>\n\n        <link rel=\"stylesheet\" href=\"/static/libs/bootstrap/css/bootstrap.min.css\">\n        <link href=\"/static/libs/jquery-ui-1.11.2/jquery-ui.min.css\" rel=\"stylesheet\" type=\"text/css\"/>\n \n        <!--[if lt IE 9]><script src=\"/static/libs/js/ie8-responsive-file-warning.js\"></script><![endif]-->\n\n\n        <!--[if lt IE 9]>\n          <script src=\"/static/libs/js/html5shiv.js\"></script>\n          <script src=\"/static/libs/js/respond.min.js\"></script>\n        <![endif]-->\n        <script src=\"/static/libs/jquery-ui-1.11.2/external/jquery/jquery.js\"></script>\n        <script src=\"/static/libs/bootstrap/js/bootstrap.min.js\"></script>\n        <script src=\"/static/libs/js/d3.min.js\"></script>\n        <script src=\"/static/libs/jquery-ui-1.11.2/jquery-ui.min.js\"></script>\n        \n        <script>\n            var _hmt = _hmt || [];\n            (function() {\n              var hm = document.createElement(\"script\");\n              hm.src = \"//hm.baidu.com/hm.js?74e694103cf02b31b28db0a346da0b6b\";\n              var s = document.getElementsByTagName(\"script\")[0]; \n              s.parentNode.insertBefore(hm, s);\n            })();\n        </script>\n    \n         \n    </head>\n    <body>\n        <div class=\"container-fluid\">\n         \n        <div class=\"row\">\n            <div class=\"col-sm-1 col-md-2 col-lg-3\"></div>\n            <div class=\"col-xs-12 col-sm-10 col-md-8 col-lg-6\">\n                \n        <h2> 欢迎来到黑板客记账站点 </h2>\n        <form action=\"\" method=\"post\" class=\"form\"  role=\"form\">\n        <input type='hidden' name='csrfmiddlewaretoken' value='6hBgTOwli1WtaSijv4zGNdc7IlifkuOJ' />\n\n        \n        \n        \n\n            \n                <div class=\"form-group\">\n                \n                <label for=\"id_username\">昵称:</label> \n                <input class=\"form-control\" id=\"id_username\" maxlength=\"40\" name=\"username\" size=\"40\" type=\"text\" />\n                </div>\n            \n\n        \n\n            \n                <div class=\"form-group\">\n                \n                <label for=\"id_password\">密码:</label> \n                <input class=\"form-control\" id=\"id_password\" maxlength=\"40\" name=\"password\" size=\"40\" type=\"password\" />\n                </div>\n            \n\n        \n        <button id='id_submit' type=\"submit\" class=\"btn btn-default\">登录</button>\n        <button id='id_register' type='button' class=\"btn btn-default\" onclick='javascrtpt:window.location.href=\"/accounts/register\"'>注册</button>\n\n        </form>\n        \n        <h3> 在这里你可以</h3>\n        <ul>\n            <li>随时随地通过网络记账</li>\n            <li>统计分析自己每月收支</li>\n            <li>导出表格进行备份</li>\n            <li>导入以前记录的表格</li>\n        </ul>\n  \n\n                <div class=\"text-center\">\n<table class=\"table\">\n<thead>\n<tr>\n<td><a href=\"http://www.miitbeian.gov.cn\" target=\"_blank\" ><small>京ICP备14042321号</small></a></td>\n<td><a href=\"http://www.heibanke.com/jizhang\" target=\"_blank\" ><small>云记账demo</small></a></td>\n<td><a href=\"http://www.heibanke.com\" target=\"_blank\" ><small>黑板客blog</small></a></td>\n<td><a href=\"http://study.163.com/course/courseMain.htm?courseId=1000035\" target=\"_blank\" ><small>用Python做些事</small></a></td>\n\n</tr>\n</thead>\n</table>\n</div>    \n            </div>\n            <div class=\"col-sm-1 col-md-2 col-lg-3\"></div>\n        </div>  \n        </div>\n    </body>\n</html>\n\n"
     ]
    }
   ],
   "source": [
    "import urllib \n",
    "values = {'csrfmiddlewaretoken':'Mm6QxNgzlZhN5U5u5an14Q8osNQZHmY',\n",
    "          'username':'sssskull',\n",
    "          'password':'21'\n",
    "          }\n",
    "#values['password'] = password\n",
    "values['csrfmiddlewaretoken'] = get_token(cookie)\n",
    "\n",
    "print values\n",
    "\n",
    "craw_url = 'http://www.heibanke.com/lesson/crawler_ex02/'\n",
    "data = urllib.urlencode(values)\n",
    "req = urllib2.Request(craw_url, data)\n",
    "response = urllib2.urlopen(req)\n",
    "\n",
    "html = response.read()\n",
    "print html"
   ]
  },
  {
   "cell_type": "code",
   "execution_count": 3,
   "metadata": {
    "collapsed": true
   },
   "outputs": [
    {
     "ename": "URLError",
     "evalue": "<urlopen error [Errno 10060] >",
     "traceback": [
      "\u001b[1;31m\u001b[0m",
      "\u001b[1;31mURLError\u001b[0mTraceback (most recent call last)",
      "\u001b[1;32m<ipython-input-3-07a69d03cf89>\u001b[0m in \u001b[0;36m<module>\u001b[1;34m()\u001b[0m\n\u001b[0;32m      4\u001b[0m \u001b[0mcraw_url\u001b[0m \u001b[1;33m=\u001b[0m \u001b[1;34m'https://www.tianyancha.com/search?key=%E7%81%AB%E7%8B%90&checkFrom=searchBox'\u001b[0m\u001b[1;33m\u001b[0m\u001b[0m\n\u001b[0;32m      5\u001b[0m \u001b[0mreq\u001b[0m \u001b[1;33m=\u001b[0m \u001b[0murllib2\u001b[0m\u001b[1;33m.\u001b[0m\u001b[0mRequest\u001b[0m\u001b[1;33m(\u001b[0m\u001b[0mcraw_url\u001b[0m\u001b[1;33m)\u001b[0m\u001b[1;33m\u001b[0m\u001b[0m\n\u001b[1;32m----> 6\u001b[1;33m \u001b[0mresponse\u001b[0m \u001b[1;33m=\u001b[0m \u001b[0murllib2\u001b[0m\u001b[1;33m.\u001b[0m\u001b[0murlopen\u001b[0m\u001b[1;33m(\u001b[0m\u001b[0mreq\u001b[0m\u001b[1;33m)\u001b[0m\u001b[1;33m\u001b[0m\u001b[0m\n\u001b[0m\u001b[0;32m      7\u001b[0m \u001b[1;33m\u001b[0m\u001b[0m\n\u001b[0;32m      8\u001b[0m \u001b[0mhtml\u001b[0m \u001b[1;33m=\u001b[0m \u001b[0mresponse\u001b[0m\u001b[1;33m.\u001b[0m\u001b[0mread\u001b[0m\u001b[1;33m(\u001b[0m\u001b[1;33m)\u001b[0m\u001b[1;33m\u001b[0m\u001b[0m\n",
      "\u001b[1;32mC:\\Anaconda2\\lib\\urllib2.pyc\u001b[0m in \u001b[0;36murlopen\u001b[1;34m(url, data, timeout, cafile, capath, cadefault, context)\u001b[0m\n\u001b[0;32m    152\u001b[0m     \u001b[1;32melse\u001b[0m\u001b[1;33m:\u001b[0m\u001b[1;33m\u001b[0m\u001b[0m\n\u001b[0;32m    153\u001b[0m         \u001b[0mopener\u001b[0m \u001b[1;33m=\u001b[0m \u001b[0m_opener\u001b[0m\u001b[1;33m\u001b[0m\u001b[0m\n\u001b[1;32m--> 154\u001b[1;33m     \u001b[1;32mreturn\u001b[0m \u001b[0mopener\u001b[0m\u001b[1;33m.\u001b[0m\u001b[0mopen\u001b[0m\u001b[1;33m(\u001b[0m\u001b[0murl\u001b[0m\u001b[1;33m,\u001b[0m \u001b[0mdata\u001b[0m\u001b[1;33m,\u001b[0m \u001b[0mtimeout\u001b[0m\u001b[1;33m)\u001b[0m\u001b[1;33m\u001b[0m\u001b[0m\n\u001b[0m\u001b[0;32m    155\u001b[0m \u001b[1;33m\u001b[0m\u001b[0m\n\u001b[0;32m    156\u001b[0m \u001b[1;32mdef\u001b[0m \u001b[0minstall_opener\u001b[0m\u001b[1;33m(\u001b[0m\u001b[0mopener\u001b[0m\u001b[1;33m)\u001b[0m\u001b[1;33m:\u001b[0m\u001b[1;33m\u001b[0m\u001b[0m\n",
      "\u001b[1;32mC:\\Anaconda2\\lib\\urllib2.pyc\u001b[0m in \u001b[0;36mopen\u001b[1;34m(self, fullurl, data, timeout)\u001b[0m\n\u001b[0;32m    427\u001b[0m             \u001b[0mreq\u001b[0m \u001b[1;33m=\u001b[0m \u001b[0mmeth\u001b[0m\u001b[1;33m(\u001b[0m\u001b[0mreq\u001b[0m\u001b[1;33m)\u001b[0m\u001b[1;33m\u001b[0m\u001b[0m\n\u001b[0;32m    428\u001b[0m \u001b[1;33m\u001b[0m\u001b[0m\n\u001b[1;32m--> 429\u001b[1;33m         \u001b[0mresponse\u001b[0m \u001b[1;33m=\u001b[0m \u001b[0mself\u001b[0m\u001b[1;33m.\u001b[0m\u001b[0m_open\u001b[0m\u001b[1;33m(\u001b[0m\u001b[0mreq\u001b[0m\u001b[1;33m,\u001b[0m \u001b[0mdata\u001b[0m\u001b[1;33m)\u001b[0m\u001b[1;33m\u001b[0m\u001b[0m\n\u001b[0m\u001b[0;32m    430\u001b[0m \u001b[1;33m\u001b[0m\u001b[0m\n\u001b[0;32m    431\u001b[0m         \u001b[1;31m# post-process response\u001b[0m\u001b[1;33m\u001b[0m\u001b[1;33m\u001b[0m\u001b[0m\n",
      "\u001b[1;32mC:\\Anaconda2\\lib\\urllib2.pyc\u001b[0m in \u001b[0;36m_open\u001b[1;34m(self, req, data)\u001b[0m\n\u001b[0;32m    445\u001b[0m         \u001b[0mprotocol\u001b[0m \u001b[1;33m=\u001b[0m \u001b[0mreq\u001b[0m\u001b[1;33m.\u001b[0m\u001b[0mget_type\u001b[0m\u001b[1;33m(\u001b[0m\u001b[1;33m)\u001b[0m\u001b[1;33m\u001b[0m\u001b[0m\n\u001b[0;32m    446\u001b[0m         result = self._call_chain(self.handle_open, protocol, protocol +\n\u001b[1;32m--> 447\u001b[1;33m                                   '_open', req)\n\u001b[0m\u001b[0;32m    448\u001b[0m         \u001b[1;32mif\u001b[0m \u001b[0mresult\u001b[0m\u001b[1;33m:\u001b[0m\u001b[1;33m\u001b[0m\u001b[0m\n\u001b[0;32m    449\u001b[0m             \u001b[1;32mreturn\u001b[0m \u001b[0mresult\u001b[0m\u001b[1;33m\u001b[0m\u001b[0m\n",
      "\u001b[1;32mC:\\Anaconda2\\lib\\urllib2.pyc\u001b[0m in \u001b[0;36m_call_chain\u001b[1;34m(self, chain, kind, meth_name, *args)\u001b[0m\n\u001b[0;32m    405\u001b[0m             \u001b[0mfunc\u001b[0m \u001b[1;33m=\u001b[0m \u001b[0mgetattr\u001b[0m\u001b[1;33m(\u001b[0m\u001b[0mhandler\u001b[0m\u001b[1;33m,\u001b[0m \u001b[0mmeth_name\u001b[0m\u001b[1;33m)\u001b[0m\u001b[1;33m\u001b[0m\u001b[0m\n\u001b[0;32m    406\u001b[0m \u001b[1;33m\u001b[0m\u001b[0m\n\u001b[1;32m--> 407\u001b[1;33m             \u001b[0mresult\u001b[0m \u001b[1;33m=\u001b[0m \u001b[0mfunc\u001b[0m\u001b[1;33m(\u001b[0m\u001b[1;33m*\u001b[0m\u001b[0margs\u001b[0m\u001b[1;33m)\u001b[0m\u001b[1;33m\u001b[0m\u001b[0m\n\u001b[0m\u001b[0;32m    408\u001b[0m             \u001b[1;32mif\u001b[0m \u001b[0mresult\u001b[0m \u001b[1;32mis\u001b[0m \u001b[1;32mnot\u001b[0m \u001b[0mNone\u001b[0m\u001b[1;33m:\u001b[0m\u001b[1;33m\u001b[0m\u001b[0m\n\u001b[0;32m    409\u001b[0m                 \u001b[1;32mreturn\u001b[0m \u001b[0mresult\u001b[0m\u001b[1;33m\u001b[0m\u001b[0m\n",
      "\u001b[1;32mC:\\Anaconda2\\lib\\urllib2.pyc\u001b[0m in \u001b[0;36mhttps_open\u001b[1;34m(self, req)\u001b[0m\n\u001b[0;32m   1239\u001b[0m         \u001b[1;32mdef\u001b[0m \u001b[0mhttps_open\u001b[0m\u001b[1;33m(\u001b[0m\u001b[0mself\u001b[0m\u001b[1;33m,\u001b[0m \u001b[0mreq\u001b[0m\u001b[1;33m)\u001b[0m\u001b[1;33m:\u001b[0m\u001b[1;33m\u001b[0m\u001b[0m\n\u001b[0;32m   1240\u001b[0m             return self.do_open(httplib.HTTPSConnection, req,\n\u001b[1;32m-> 1241\u001b[1;33m                 context=self._context)\n\u001b[0m\u001b[0;32m   1242\u001b[0m \u001b[1;33m\u001b[0m\u001b[0m\n\u001b[0;32m   1243\u001b[0m         \u001b[0mhttps_request\u001b[0m \u001b[1;33m=\u001b[0m \u001b[0mAbstractHTTPHandler\u001b[0m\u001b[1;33m.\u001b[0m\u001b[0mdo_request_\u001b[0m\u001b[1;33m\u001b[0m\u001b[0m\n",
      "\u001b[1;32mC:\\Anaconda2\\lib\\urllib2.pyc\u001b[0m in \u001b[0;36mdo_open\u001b[1;34m(self, http_class, req, **http_conn_args)\u001b[0m\n\u001b[0;32m   1196\u001b[0m         \u001b[1;32mexcept\u001b[0m \u001b[0msocket\u001b[0m\u001b[1;33m.\u001b[0m\u001b[0merror\u001b[0m\u001b[1;33m,\u001b[0m \u001b[0merr\u001b[0m\u001b[1;33m:\u001b[0m \u001b[1;31m# XXX what error?\u001b[0m\u001b[1;33m\u001b[0m\u001b[0m\n\u001b[0;32m   1197\u001b[0m             \u001b[0mh\u001b[0m\u001b[1;33m.\u001b[0m\u001b[0mclose\u001b[0m\u001b[1;33m(\u001b[0m\u001b[1;33m)\u001b[0m\u001b[1;33m\u001b[0m\u001b[0m\n\u001b[1;32m-> 1198\u001b[1;33m             \u001b[1;32mraise\u001b[0m \u001b[0mURLError\u001b[0m\u001b[1;33m(\u001b[0m\u001b[0merr\u001b[0m\u001b[1;33m)\u001b[0m\u001b[1;33m\u001b[0m\u001b[0m\n\u001b[0m\u001b[0;32m   1199\u001b[0m         \u001b[1;32melse\u001b[0m\u001b[1;33m:\u001b[0m\u001b[1;33m\u001b[0m\u001b[0m\n\u001b[0;32m   1200\u001b[0m             \u001b[1;32mtry\u001b[0m\u001b[1;33m:\u001b[0m\u001b[1;33m\u001b[0m\u001b[0m\n",
      "\u001b[1;31mURLError\u001b[0m: <urlopen error [Errno 10060] >"
     ],
     "output_type": "error"
    }
   ],
   "source": [
    "# 写法2 \n",
    "\n",
    "craw_url = 'http://www.heibanke.com/lesson/crawler_ex00/'\n",
    "craw_url = 'https://www.tianyancha.com/search?key=%E7%81%AB%E7%8B%90&checkFrom=searchBox'\n",
    "req = urllib2.Request(craw_url)\n",
    "response = urllib2.urlopen(req)\n",
    "\n",
    "html = response.read()\n",
    "print html"
   ]
  },
  {
   "cell_type": "code",
   "execution_count": 5,
   "metadata": {},
   "outputs": [
    {
     "data": {
      "text/plain": [
       "('67917',)"
      ]
     },
     "execution_count": 5,
     "metadata": {},
     "output_type": "execute_result"
    }
   ],
   "source": [
    "import re \n",
    "\n",
    "str = '<h3>下一个你需要输入的数字是43396.</h3>'\n",
    "str = '<h3>下一个你需要输入的数字是67917. 还有一大波数字马上就要到来...</h3>'\n",
    "pattern = re.compile(r'<h3>.*数字[^\\d]*(\\d+).*</h3>')\n",
    "res = re.match(pattern, str)\n",
    "res.group(1)\n",
    "res.groups()"
   ]
  },
  {
   "cell_type": "code",
   "execution_count": 35,
   "metadata": {
    "collapsed": false
   },
   "outputs": [
    {
     "name": "stdout",
     "output_type": "stream",
     "text": [
      "None\n"
     ]
    }
   ],
   "source": [
    "def get_next_num(html):\n",
    "    import  re\n",
    "    pattern = re.compile(r'<h3>.*数字[^\\d]*(\\d+).*</h3>')\n",
    "    # print html\n",
    "    res = re.search(pattern, html)\n",
    "    if res is None:\n",
    "        return None\n",
    "    else:\n",
    "        return res.group(1)\n",
    "\n",
    "print get_next_num(html)"
   ]
  },
  {
   "cell_type": "code",
   "execution_count": 36,
   "metadata": {},
   "outputs": [],
   "source": [
    "def get_next_html(new_url):\n",
    "    req = urllib2.Request(new_url)\n",
    "    response = urllib2.urlopen(req)\n",
    "\n",
    "    html = response.read()\n",
    "    return html"
   ]
  },
  {
   "cell_type": "heading",
   "metadata": {},
   "level": 3,
   "source": [
    "爬虫第一关结尾\n",
    "http://www.heibanke.com/lesson/crawler_ex00/53685"
   ]
  },
  {
   "cell_type": "code",
   "execution_count": 39,
   "metadata": {
    "collapsed": true
   },
   "outputs": [
    {
     "name": "stdout",
     "output_type": "stream",
     "text": [
      "num: 43396\n"
     ]
    },
    {
     "name": "stdout",
     "output_type": "stream",
     "text": [
      "num: 39642\n"
     ]
    },
    {
     "ename": "KeyboardInterrupt",
     "evalue": "",
     "traceback": [
      "\u001b[1;31m\u001b[0m",
      "\u001b[1;31mKeyboardInterrupt\u001b[0mTraceback (most recent call last)",
      "\u001b[1;32m<ipython-input-39-bd11e21b2502>\u001b[0m in \u001b[0;36m<module>\u001b[1;34m()\u001b[0m\n\u001b[0;32m      6\u001b[0m \u001b[1;32mwhile\u001b[0m \u001b[0mnext_num\u001b[0m \u001b[1;32mis\u001b[0m \u001b[1;32mnot\u001b[0m \u001b[0mNone\u001b[0m\u001b[1;33m:\u001b[0m\u001b[1;33m\u001b[0m\u001b[0m\n\u001b[0;32m      7\u001b[0m     \u001b[0mnew_url\u001b[0m \u001b[1;33m=\u001b[0m \u001b[0mcraw_url\u001b[0m \u001b[1;33m+\u001b[0m \u001b[0mnext_num\u001b[0m\u001b[1;33m\u001b[0m\u001b[0m\n\u001b[1;32m----> 8\u001b[1;33m     \u001b[0mhtml\u001b[0m \u001b[1;33m=\u001b[0m \u001b[0mget_next_html\u001b[0m\u001b[1;33m(\u001b[0m\u001b[0mnew_url\u001b[0m\u001b[1;33m)\u001b[0m\u001b[1;33m\u001b[0m\u001b[0m\n\u001b[0m\u001b[0;32m      9\u001b[0m     \u001b[1;31m# print html\u001b[0m\u001b[1;33m\u001b[0m\u001b[1;33m\u001b[0m\u001b[0m\n\u001b[0;32m     10\u001b[0m     \u001b[0mnext_num\u001b[0m \u001b[1;33m=\u001b[0m \u001b[0mget_next_num\u001b[0m\u001b[1;33m(\u001b[0m\u001b[0mhtml\u001b[0m\u001b[1;33m)\u001b[0m\u001b[1;33m\u001b[0m\u001b[0m\n",
      "\u001b[1;32m<ipython-input-36-136eb4268234>\u001b[0m in \u001b[0;36mget_next_html\u001b[1;34m(new_url)\u001b[0m\n\u001b[0;32m      1\u001b[0m \u001b[1;32mdef\u001b[0m \u001b[0mget_next_html\u001b[0m\u001b[1;33m(\u001b[0m\u001b[0mnew_url\u001b[0m\u001b[1;33m)\u001b[0m\u001b[1;33m:\u001b[0m\u001b[1;33m\u001b[0m\u001b[0m\n\u001b[0;32m      2\u001b[0m     \u001b[0mreq\u001b[0m \u001b[1;33m=\u001b[0m \u001b[0murllib2\u001b[0m\u001b[1;33m.\u001b[0m\u001b[0mRequest\u001b[0m\u001b[1;33m(\u001b[0m\u001b[0mnew_url\u001b[0m\u001b[1;33m)\u001b[0m\u001b[1;33m\u001b[0m\u001b[0m\n\u001b[1;32m----> 3\u001b[1;33m     \u001b[0mresponse\u001b[0m \u001b[1;33m=\u001b[0m \u001b[0murllib2\u001b[0m\u001b[1;33m.\u001b[0m\u001b[0murlopen\u001b[0m\u001b[1;33m(\u001b[0m\u001b[0mreq\u001b[0m\u001b[1;33m)\u001b[0m\u001b[1;33m\u001b[0m\u001b[0m\n\u001b[0m\u001b[0;32m      4\u001b[0m \u001b[1;33m\u001b[0m\u001b[0m\n\u001b[0;32m      5\u001b[0m     \u001b[0mhtml\u001b[0m \u001b[1;33m=\u001b[0m \u001b[0mresponse\u001b[0m\u001b[1;33m.\u001b[0m\u001b[0mread\u001b[0m\u001b[1;33m(\u001b[0m\u001b[1;33m)\u001b[0m\u001b[1;33m\u001b[0m\u001b[0m\n",
      "\u001b[1;32mC:\\Anaconda2\\lib\\urllib2.pyc\u001b[0m in \u001b[0;36murlopen\u001b[1;34m(url, data, timeout, cafile, capath, cadefault, context)\u001b[0m\n\u001b[0;32m    152\u001b[0m     \u001b[1;32melse\u001b[0m\u001b[1;33m:\u001b[0m\u001b[1;33m\u001b[0m\u001b[0m\n\u001b[0;32m    153\u001b[0m         \u001b[0mopener\u001b[0m \u001b[1;33m=\u001b[0m \u001b[0m_opener\u001b[0m\u001b[1;33m\u001b[0m\u001b[0m\n\u001b[1;32m--> 154\u001b[1;33m     \u001b[1;32mreturn\u001b[0m \u001b[0mopener\u001b[0m\u001b[1;33m.\u001b[0m\u001b[0mopen\u001b[0m\u001b[1;33m(\u001b[0m\u001b[0murl\u001b[0m\u001b[1;33m,\u001b[0m \u001b[0mdata\u001b[0m\u001b[1;33m,\u001b[0m \u001b[0mtimeout\u001b[0m\u001b[1;33m)\u001b[0m\u001b[1;33m\u001b[0m\u001b[0m\n\u001b[0m\u001b[0;32m    155\u001b[0m \u001b[1;33m\u001b[0m\u001b[0m\n\u001b[0;32m    156\u001b[0m \u001b[1;32mdef\u001b[0m \u001b[0minstall_opener\u001b[0m\u001b[1;33m(\u001b[0m\u001b[0mopener\u001b[0m\u001b[1;33m)\u001b[0m\u001b[1;33m:\u001b[0m\u001b[1;33m\u001b[0m\u001b[0m\n",
      "\u001b[1;32mC:\\Anaconda2\\lib\\urllib2.pyc\u001b[0m in \u001b[0;36mopen\u001b[1;34m(self, fullurl, data, timeout)\u001b[0m\n\u001b[0;32m    433\u001b[0m         \u001b[1;32mfor\u001b[0m \u001b[0mprocessor\u001b[0m \u001b[1;32min\u001b[0m \u001b[0mself\u001b[0m\u001b[1;33m.\u001b[0m\u001b[0mprocess_response\u001b[0m\u001b[1;33m.\u001b[0m\u001b[0mget\u001b[0m\u001b[1;33m(\u001b[0m\u001b[0mprotocol\u001b[0m\u001b[1;33m,\u001b[0m \u001b[1;33m[\u001b[0m\u001b[1;33m]\u001b[0m\u001b[1;33m)\u001b[0m\u001b[1;33m:\u001b[0m\u001b[1;33m\u001b[0m\u001b[0m\n\u001b[0;32m    434\u001b[0m             \u001b[0mmeth\u001b[0m \u001b[1;33m=\u001b[0m \u001b[0mgetattr\u001b[0m\u001b[1;33m(\u001b[0m\u001b[0mprocessor\u001b[0m\u001b[1;33m,\u001b[0m \u001b[0mmeth_name\u001b[0m\u001b[1;33m)\u001b[0m\u001b[1;33m\u001b[0m\u001b[0m\n\u001b[1;32m--> 435\u001b[1;33m             \u001b[0mresponse\u001b[0m \u001b[1;33m=\u001b[0m \u001b[0mmeth\u001b[0m\u001b[1;33m(\u001b[0m\u001b[0mreq\u001b[0m\u001b[1;33m,\u001b[0m \u001b[0mresponse\u001b[0m\u001b[1;33m)\u001b[0m\u001b[1;33m\u001b[0m\u001b[0m\n\u001b[0m\u001b[0;32m    436\u001b[0m \u001b[1;33m\u001b[0m\u001b[0m\n\u001b[0;32m    437\u001b[0m         \u001b[1;32mreturn\u001b[0m \u001b[0mresponse\u001b[0m\u001b[1;33m\u001b[0m\u001b[0m\n",
      "\u001b[1;32mC:\\Anaconda2\\lib\\urllib2.pyc\u001b[0m in \u001b[0;36mhttp_response\u001b[1;34m(self, request, response)\u001b[0m\n\u001b[0;32m    546\u001b[0m         \u001b[1;32mif\u001b[0m \u001b[1;32mnot\u001b[0m \u001b[1;33m(\u001b[0m\u001b[1;36m200\u001b[0m \u001b[1;33m<=\u001b[0m \u001b[0mcode\u001b[0m \u001b[1;33m<\u001b[0m \u001b[1;36m300\u001b[0m\u001b[1;33m)\u001b[0m\u001b[1;33m:\u001b[0m\u001b[1;33m\u001b[0m\u001b[0m\n\u001b[0;32m    547\u001b[0m             response = self.parent.error(\n\u001b[1;32m--> 548\u001b[1;33m                 'http', request, response, code, msg, hdrs)\n\u001b[0m\u001b[0;32m    549\u001b[0m \u001b[1;33m\u001b[0m\u001b[0m\n\u001b[0;32m    550\u001b[0m         \u001b[1;32mreturn\u001b[0m \u001b[0mresponse\u001b[0m\u001b[1;33m\u001b[0m\u001b[0m\n",
      "\u001b[1;32mC:\\Anaconda2\\lib\\urllib2.pyc\u001b[0m in \u001b[0;36merror\u001b[1;34m(self, proto, *args)\u001b[0m\n\u001b[0;32m    465\u001b[0m             \u001b[0mhttp_err\u001b[0m \u001b[1;33m=\u001b[0m \u001b[1;36m0\u001b[0m\u001b[1;33m\u001b[0m\u001b[0m\n\u001b[0;32m    466\u001b[0m         \u001b[0margs\u001b[0m \u001b[1;33m=\u001b[0m \u001b[1;33m(\u001b[0m\u001b[0mdict\u001b[0m\u001b[1;33m,\u001b[0m \u001b[0mproto\u001b[0m\u001b[1;33m,\u001b[0m \u001b[0mmeth_name\u001b[0m\u001b[1;33m)\u001b[0m \u001b[1;33m+\u001b[0m \u001b[0margs\u001b[0m\u001b[1;33m\u001b[0m\u001b[0m\n\u001b[1;32m--> 467\u001b[1;33m         \u001b[0mresult\u001b[0m \u001b[1;33m=\u001b[0m \u001b[0mself\u001b[0m\u001b[1;33m.\u001b[0m\u001b[0m_call_chain\u001b[0m\u001b[1;33m(\u001b[0m\u001b[1;33m*\u001b[0m\u001b[0margs\u001b[0m\u001b[1;33m)\u001b[0m\u001b[1;33m\u001b[0m\u001b[0m\n\u001b[0m\u001b[0;32m    468\u001b[0m         \u001b[1;32mif\u001b[0m \u001b[0mresult\u001b[0m\u001b[1;33m:\u001b[0m\u001b[1;33m\u001b[0m\u001b[0m\n\u001b[0;32m    469\u001b[0m             \u001b[1;32mreturn\u001b[0m \u001b[0mresult\u001b[0m\u001b[1;33m\u001b[0m\u001b[0m\n",
      "\u001b[1;32mC:\\Anaconda2\\lib\\urllib2.pyc\u001b[0m in \u001b[0;36m_call_chain\u001b[1;34m(self, chain, kind, meth_name, *args)\u001b[0m\n\u001b[0;32m    405\u001b[0m             \u001b[0mfunc\u001b[0m \u001b[1;33m=\u001b[0m \u001b[0mgetattr\u001b[0m\u001b[1;33m(\u001b[0m\u001b[0mhandler\u001b[0m\u001b[1;33m,\u001b[0m \u001b[0mmeth_name\u001b[0m\u001b[1;33m)\u001b[0m\u001b[1;33m\u001b[0m\u001b[0m\n\u001b[0;32m    406\u001b[0m \u001b[1;33m\u001b[0m\u001b[0m\n\u001b[1;32m--> 407\u001b[1;33m             \u001b[0mresult\u001b[0m \u001b[1;33m=\u001b[0m \u001b[0mfunc\u001b[0m\u001b[1;33m(\u001b[0m\u001b[1;33m*\u001b[0m\u001b[0margs\u001b[0m\u001b[1;33m)\u001b[0m\u001b[1;33m\u001b[0m\u001b[0m\n\u001b[0m\u001b[0;32m    408\u001b[0m             \u001b[1;32mif\u001b[0m \u001b[0mresult\u001b[0m \u001b[1;32mis\u001b[0m \u001b[1;32mnot\u001b[0m \u001b[0mNone\u001b[0m\u001b[1;33m:\u001b[0m\u001b[1;33m\u001b[0m\u001b[0m\n\u001b[0;32m    409\u001b[0m                 \u001b[1;32mreturn\u001b[0m \u001b[0mresult\u001b[0m\u001b[1;33m\u001b[0m\u001b[0m\n",
      "\u001b[1;32mC:\\Anaconda2\\lib\\urllib2.pyc\u001b[0m in \u001b[0;36mhttp_error_302\u001b[1;34m(self, req, fp, code, msg, headers)\u001b[0m\n\u001b[0;32m    652\u001b[0m         \u001b[0mfp\u001b[0m\u001b[1;33m.\u001b[0m\u001b[0mclose\u001b[0m\u001b[1;33m(\u001b[0m\u001b[1;33m)\u001b[0m\u001b[1;33m\u001b[0m\u001b[0m\n\u001b[0;32m    653\u001b[0m \u001b[1;33m\u001b[0m\u001b[0m\n\u001b[1;32m--> 654\u001b[1;33m         \u001b[1;32mreturn\u001b[0m \u001b[0mself\u001b[0m\u001b[1;33m.\u001b[0m\u001b[0mparent\u001b[0m\u001b[1;33m.\u001b[0m\u001b[0mopen\u001b[0m\u001b[1;33m(\u001b[0m\u001b[0mnew\u001b[0m\u001b[1;33m,\u001b[0m \u001b[0mtimeout\u001b[0m\u001b[1;33m=\u001b[0m\u001b[0mreq\u001b[0m\u001b[1;33m.\u001b[0m\u001b[0mtimeout\u001b[0m\u001b[1;33m)\u001b[0m\u001b[1;33m\u001b[0m\u001b[0m\n\u001b[0m\u001b[0;32m    655\u001b[0m \u001b[1;33m\u001b[0m\u001b[0m\n\u001b[0;32m    656\u001b[0m     \u001b[0mhttp_error_301\u001b[0m \u001b[1;33m=\u001b[0m \u001b[0mhttp_error_303\u001b[0m \u001b[1;33m=\u001b[0m \u001b[0mhttp_error_307\u001b[0m \u001b[1;33m=\u001b[0m \u001b[0mhttp_error_302\u001b[0m\u001b[1;33m\u001b[0m\u001b[0m\n",
      "\u001b[1;32mC:\\Anaconda2\\lib\\urllib2.pyc\u001b[0m in \u001b[0;36mopen\u001b[1;34m(self, fullurl, data, timeout)\u001b[0m\n\u001b[0;32m    427\u001b[0m             \u001b[0mreq\u001b[0m \u001b[1;33m=\u001b[0m \u001b[0mmeth\u001b[0m\u001b[1;33m(\u001b[0m\u001b[0mreq\u001b[0m\u001b[1;33m)\u001b[0m\u001b[1;33m\u001b[0m\u001b[0m\n\u001b[0;32m    428\u001b[0m \u001b[1;33m\u001b[0m\u001b[0m\n\u001b[1;32m--> 429\u001b[1;33m         \u001b[0mresponse\u001b[0m \u001b[1;33m=\u001b[0m \u001b[0mself\u001b[0m\u001b[1;33m.\u001b[0m\u001b[0m_open\u001b[0m\u001b[1;33m(\u001b[0m\u001b[0mreq\u001b[0m\u001b[1;33m,\u001b[0m \u001b[0mdata\u001b[0m\u001b[1;33m)\u001b[0m\u001b[1;33m\u001b[0m\u001b[0m\n\u001b[0m\u001b[0;32m    430\u001b[0m \u001b[1;33m\u001b[0m\u001b[0m\n\u001b[0;32m    431\u001b[0m         \u001b[1;31m# post-process response\u001b[0m\u001b[1;33m\u001b[0m\u001b[1;33m\u001b[0m\u001b[0m\n",
      "\u001b[1;32mC:\\Anaconda2\\lib\\urllib2.pyc\u001b[0m in \u001b[0;36m_open\u001b[1;34m(self, req, data)\u001b[0m\n\u001b[0;32m    445\u001b[0m         \u001b[0mprotocol\u001b[0m \u001b[1;33m=\u001b[0m \u001b[0mreq\u001b[0m\u001b[1;33m.\u001b[0m\u001b[0mget_type\u001b[0m\u001b[1;33m(\u001b[0m\u001b[1;33m)\u001b[0m\u001b[1;33m\u001b[0m\u001b[0m\n\u001b[0;32m    446\u001b[0m         result = self._call_chain(self.handle_open, protocol, protocol +\n\u001b[1;32m--> 447\u001b[1;33m                                   '_open', req)\n\u001b[0m\u001b[0;32m    448\u001b[0m         \u001b[1;32mif\u001b[0m \u001b[0mresult\u001b[0m\u001b[1;33m:\u001b[0m\u001b[1;33m\u001b[0m\u001b[0m\n\u001b[0;32m    449\u001b[0m             \u001b[1;32mreturn\u001b[0m \u001b[0mresult\u001b[0m\u001b[1;33m\u001b[0m\u001b[0m\n",
      "\u001b[1;32mC:\\Anaconda2\\lib\\urllib2.pyc\u001b[0m in \u001b[0;36m_call_chain\u001b[1;34m(self, chain, kind, meth_name, *args)\u001b[0m\n\u001b[0;32m    405\u001b[0m             \u001b[0mfunc\u001b[0m \u001b[1;33m=\u001b[0m \u001b[0mgetattr\u001b[0m\u001b[1;33m(\u001b[0m\u001b[0mhandler\u001b[0m\u001b[1;33m,\u001b[0m \u001b[0mmeth_name\u001b[0m\u001b[1;33m)\u001b[0m\u001b[1;33m\u001b[0m\u001b[0m\n\u001b[0;32m    406\u001b[0m \u001b[1;33m\u001b[0m\u001b[0m\n\u001b[1;32m--> 407\u001b[1;33m             \u001b[0mresult\u001b[0m \u001b[1;33m=\u001b[0m \u001b[0mfunc\u001b[0m\u001b[1;33m(\u001b[0m\u001b[1;33m*\u001b[0m\u001b[0margs\u001b[0m\u001b[1;33m)\u001b[0m\u001b[1;33m\u001b[0m\u001b[0m\n\u001b[0m\u001b[0;32m    408\u001b[0m             \u001b[1;32mif\u001b[0m \u001b[0mresult\u001b[0m \u001b[1;32mis\u001b[0m \u001b[1;32mnot\u001b[0m \u001b[0mNone\u001b[0m\u001b[1;33m:\u001b[0m\u001b[1;33m\u001b[0m\u001b[0m\n\u001b[0;32m    409\u001b[0m                 \u001b[1;32mreturn\u001b[0m \u001b[0mresult\u001b[0m\u001b[1;33m\u001b[0m\u001b[0m\n",
      "\u001b[1;32mC:\\Anaconda2\\lib\\urllib2.pyc\u001b[0m in \u001b[0;36mhttp_open\u001b[1;34m(self, req)\u001b[0m\n\u001b[0;32m   1226\u001b[0m \u001b[1;33m\u001b[0m\u001b[0m\n\u001b[0;32m   1227\u001b[0m     \u001b[1;32mdef\u001b[0m \u001b[0mhttp_open\u001b[0m\u001b[1;33m(\u001b[0m\u001b[0mself\u001b[0m\u001b[1;33m,\u001b[0m \u001b[0mreq\u001b[0m\u001b[1;33m)\u001b[0m\u001b[1;33m:\u001b[0m\u001b[1;33m\u001b[0m\u001b[0m\n\u001b[1;32m-> 1228\u001b[1;33m         \u001b[1;32mreturn\u001b[0m \u001b[0mself\u001b[0m\u001b[1;33m.\u001b[0m\u001b[0mdo_open\u001b[0m\u001b[1;33m(\u001b[0m\u001b[0mhttplib\u001b[0m\u001b[1;33m.\u001b[0m\u001b[0mHTTPConnection\u001b[0m\u001b[1;33m,\u001b[0m \u001b[0mreq\u001b[0m\u001b[1;33m)\u001b[0m\u001b[1;33m\u001b[0m\u001b[0m\n\u001b[0m\u001b[0;32m   1229\u001b[0m \u001b[1;33m\u001b[0m\u001b[0m\n\u001b[0;32m   1230\u001b[0m     \u001b[0mhttp_request\u001b[0m \u001b[1;33m=\u001b[0m \u001b[0mAbstractHTTPHandler\u001b[0m\u001b[1;33m.\u001b[0m\u001b[0mdo_request_\u001b[0m\u001b[1;33m\u001b[0m\u001b[0m\n",
      "\u001b[1;32mC:\\Anaconda2\\lib\\urllib2.pyc\u001b[0m in \u001b[0;36mdo_open\u001b[1;34m(self, http_class, req, **http_conn_args)\u001b[0m\n\u001b[0;32m   1199\u001b[0m         \u001b[1;32melse\u001b[0m\u001b[1;33m:\u001b[0m\u001b[1;33m\u001b[0m\u001b[0m\n\u001b[0;32m   1200\u001b[0m             \u001b[1;32mtry\u001b[0m\u001b[1;33m:\u001b[0m\u001b[1;33m\u001b[0m\u001b[0m\n\u001b[1;32m-> 1201\u001b[1;33m                 \u001b[0mr\u001b[0m \u001b[1;33m=\u001b[0m \u001b[0mh\u001b[0m\u001b[1;33m.\u001b[0m\u001b[0mgetresponse\u001b[0m\u001b[1;33m(\u001b[0m\u001b[0mbuffering\u001b[0m\u001b[1;33m=\u001b[0m\u001b[0mTrue\u001b[0m\u001b[1;33m)\u001b[0m\u001b[1;33m\u001b[0m\u001b[0m\n\u001b[0m\u001b[0;32m   1202\u001b[0m             \u001b[1;32mexcept\u001b[0m \u001b[0mTypeError\u001b[0m\u001b[1;33m:\u001b[0m \u001b[1;31m# buffering kw not supported\u001b[0m\u001b[1;33m\u001b[0m\u001b[0m\n\u001b[0;32m   1203\u001b[0m                 \u001b[0mr\u001b[0m \u001b[1;33m=\u001b[0m \u001b[0mh\u001b[0m\u001b[1;33m.\u001b[0m\u001b[0mgetresponse\u001b[0m\u001b[1;33m(\u001b[0m\u001b[1;33m)\u001b[0m\u001b[1;33m\u001b[0m\u001b[0m\n",
      "\u001b[1;32mC:\\Anaconda2\\lib\\httplib.pyc\u001b[0m in \u001b[0;36mgetresponse\u001b[1;34m(self, buffering)\u001b[0m\n\u001b[0;32m   1119\u001b[0m \u001b[1;33m\u001b[0m\u001b[0m\n\u001b[0;32m   1120\u001b[0m         \u001b[1;32mtry\u001b[0m\u001b[1;33m:\u001b[0m\u001b[1;33m\u001b[0m\u001b[0m\n\u001b[1;32m-> 1121\u001b[1;33m             \u001b[0mresponse\u001b[0m\u001b[1;33m.\u001b[0m\u001b[0mbegin\u001b[0m\u001b[1;33m(\u001b[0m\u001b[1;33m)\u001b[0m\u001b[1;33m\u001b[0m\u001b[0m\n\u001b[0m\u001b[0;32m   1122\u001b[0m             \u001b[1;32massert\u001b[0m \u001b[0mresponse\u001b[0m\u001b[1;33m.\u001b[0m\u001b[0mwill_close\u001b[0m \u001b[1;33m!=\u001b[0m \u001b[0m_UNKNOWN\u001b[0m\u001b[1;33m\u001b[0m\u001b[0m\n\u001b[0;32m   1123\u001b[0m             \u001b[0mself\u001b[0m\u001b[1;33m.\u001b[0m\u001b[0m__state\u001b[0m \u001b[1;33m=\u001b[0m \u001b[0m_CS_IDLE\u001b[0m\u001b[1;33m\u001b[0m\u001b[0m\n",
      "\u001b[1;32mC:\\Anaconda2\\lib\\httplib.pyc\u001b[0m in \u001b[0;36mbegin\u001b[1;34m(self)\u001b[0m\n\u001b[0;32m    436\u001b[0m         \u001b[1;31m# read until we get a non-100 response\u001b[0m\u001b[1;33m\u001b[0m\u001b[1;33m\u001b[0m\u001b[0m\n\u001b[0;32m    437\u001b[0m         \u001b[1;32mwhile\u001b[0m \u001b[0mTrue\u001b[0m\u001b[1;33m:\u001b[0m\u001b[1;33m\u001b[0m\u001b[0m\n\u001b[1;32m--> 438\u001b[1;33m             \u001b[0mversion\u001b[0m\u001b[1;33m,\u001b[0m \u001b[0mstatus\u001b[0m\u001b[1;33m,\u001b[0m \u001b[0mreason\u001b[0m \u001b[1;33m=\u001b[0m \u001b[0mself\u001b[0m\u001b[1;33m.\u001b[0m\u001b[0m_read_status\u001b[0m\u001b[1;33m(\u001b[0m\u001b[1;33m)\u001b[0m\u001b[1;33m\u001b[0m\u001b[0m\n\u001b[0m\u001b[0;32m    439\u001b[0m             \u001b[1;32mif\u001b[0m \u001b[0mstatus\u001b[0m \u001b[1;33m!=\u001b[0m \u001b[0mCONTINUE\u001b[0m\u001b[1;33m:\u001b[0m\u001b[1;33m\u001b[0m\u001b[0m\n\u001b[0;32m    440\u001b[0m                 \u001b[1;32mbreak\u001b[0m\u001b[1;33m\u001b[0m\u001b[0m\n",
      "\u001b[1;32mC:\\Anaconda2\\lib\\httplib.pyc\u001b[0m in \u001b[0;36m_read_status\u001b[1;34m(self)\u001b[0m\n\u001b[0;32m    392\u001b[0m     \u001b[1;32mdef\u001b[0m \u001b[0m_read_status\u001b[0m\u001b[1;33m(\u001b[0m\u001b[0mself\u001b[0m\u001b[1;33m)\u001b[0m\u001b[1;33m:\u001b[0m\u001b[1;33m\u001b[0m\u001b[0m\n\u001b[0;32m    393\u001b[0m         \u001b[1;31m# Initialize with Simple-Response defaults\u001b[0m\u001b[1;33m\u001b[0m\u001b[1;33m\u001b[0m\u001b[0m\n\u001b[1;32m--> 394\u001b[1;33m         \u001b[0mline\u001b[0m \u001b[1;33m=\u001b[0m \u001b[0mself\u001b[0m\u001b[1;33m.\u001b[0m\u001b[0mfp\u001b[0m\u001b[1;33m.\u001b[0m\u001b[0mreadline\u001b[0m\u001b[1;33m(\u001b[0m\u001b[0m_MAXLINE\u001b[0m \u001b[1;33m+\u001b[0m \u001b[1;36m1\u001b[0m\u001b[1;33m)\u001b[0m\u001b[1;33m\u001b[0m\u001b[0m\n\u001b[0m\u001b[0;32m    395\u001b[0m         \u001b[1;32mif\u001b[0m \u001b[0mlen\u001b[0m\u001b[1;33m(\u001b[0m\u001b[0mline\u001b[0m\u001b[1;33m)\u001b[0m \u001b[1;33m>\u001b[0m \u001b[0m_MAXLINE\u001b[0m\u001b[1;33m:\u001b[0m\u001b[1;33m\u001b[0m\u001b[0m\n\u001b[0;32m    396\u001b[0m             \u001b[1;32mraise\u001b[0m \u001b[0mLineTooLong\u001b[0m\u001b[1;33m(\u001b[0m\u001b[1;34m\"header line\"\u001b[0m\u001b[1;33m)\u001b[0m\u001b[1;33m\u001b[0m\u001b[0m\n",
      "\u001b[1;32mC:\\Anaconda2\\lib\\socket.pyc\u001b[0m in \u001b[0;36mreadline\u001b[1;34m(self, size)\u001b[0m\n\u001b[0;32m    478\u001b[0m             \u001b[1;32mwhile\u001b[0m \u001b[0mTrue\u001b[0m\u001b[1;33m:\u001b[0m\u001b[1;33m\u001b[0m\u001b[0m\n\u001b[0;32m    479\u001b[0m                 \u001b[1;32mtry\u001b[0m\u001b[1;33m:\u001b[0m\u001b[1;33m\u001b[0m\u001b[0m\n\u001b[1;32m--> 480\u001b[1;33m                     \u001b[0mdata\u001b[0m \u001b[1;33m=\u001b[0m \u001b[0mself\u001b[0m\u001b[1;33m.\u001b[0m\u001b[0m_sock\u001b[0m\u001b[1;33m.\u001b[0m\u001b[0mrecv\u001b[0m\u001b[1;33m(\u001b[0m\u001b[0mself\u001b[0m\u001b[1;33m.\u001b[0m\u001b[0m_rbufsize\u001b[0m\u001b[1;33m)\u001b[0m\u001b[1;33m\u001b[0m\u001b[0m\n\u001b[0m\u001b[0;32m    481\u001b[0m                 \u001b[1;32mexcept\u001b[0m \u001b[0merror\u001b[0m\u001b[1;33m,\u001b[0m \u001b[0me\u001b[0m\u001b[1;33m:\u001b[0m\u001b[1;33m\u001b[0m\u001b[0m\n\u001b[0;32m    482\u001b[0m                     \u001b[1;32mif\u001b[0m \u001b[0me\u001b[0m\u001b[1;33m.\u001b[0m\u001b[0margs\u001b[0m\u001b[1;33m[\u001b[0m\u001b[1;36m0\u001b[0m\u001b[1;33m]\u001b[0m \u001b[1;33m==\u001b[0m \u001b[0mEINTR\u001b[0m\u001b[1;33m:\u001b[0m\u001b[1;33m\u001b[0m\u001b[0m\n",
      "\u001b[1;31mKeyboardInterrupt\u001b[0m: "
     ],
     "output_type": "error"
    }
   ],
   "source": [
    "## \n",
    "\n",
    "next_num = ''\n",
    "\n",
    "craw_url = 'http://www.heibanke.com/lesson/crawler_ex00/'\n",
    "while next_num is not None:\n",
    "    new_url = craw_url + next_num\n",
    "    html = get_next_html(new_url)\n",
    "    # print html \n",
    "    next_num = get_next_num(html)\n",
    "    if next_num is None:\n",
    "        print 'url:', new_url\n",
    "    else:\n",
    "        print 'num:', next_num"
   ]
  },
  {
   "cell_type": "code",
   "execution_count": 4,
   "metadata": {},
   "outputs": [],
   "source": [
    "def get_password_res(html):\n",
    "    import  re\n",
    "    pattern = re.compile(r'密码错误')\n",
    "    # print html\n",
    "    res = re.search(pattern, html)\n",
    "    return res"
   ]
  },
  {
   "cell_type": "code",
   "execution_count": 30,
   "metadata": {
    "collapsed": true
   },
   "outputs": [
    {
     "name": "stdout",
     "output_type": "stream",
     "text": [
      "http://www.heibanke.com/lesson/crawler_ex02/\nusername=test&csrfmiddlewaretoken=Mm6QxNgzlZhN5U5u5an14Q8osNQZHmYG&password=3\n"
     ]
    },
    {
     "data": {
      "text/plain": [
       "'<!DOCTYPE html>\\n<html lang=\"zh-CN\" >\\n    <meta name=\"viewport\" content=\"width=device-width, initial-scale=1\">\\n    <meta http-equiv=\"Content-Type\" content=\"text/html; charset=utf-8\" >\\n    <meta name=\"baidu-site-verification\" content=\"f2dwZkRE36\" />\\n    <meta name=\"description\" content=\"\\xe8\\xaf\\xa5\\xe5\\x8d\\x9a\\xe5\\xae\\xa2\\xe7\\x94\\xa8\\xe4\\xba\\x8e\\xe8\\xae\\xb0\\xe5\\xbd\\x95\\xe7\\xbd\\x91\\xe6\\x98\\x93\\xe4\\xba\\x91\\xe8\\xaf\\xbe\\xe5\\xa0\\x82\\xe4\\xb8\\xad\\xe7\\x9b\\xb8\\xe5\\x85\\xb3\\xe8\\xaf\\xbe\\xe7\\xa8\\x8b\\xe8\\xae\\xb2\\xe8\\xbf\\xb0\\xe7\\x9a\\x84\\xe6\\x80\\x9d\\xe8\\xb7\\xaf\\xe5\\x92\\x8c\\xe4\\xb8\\x80\\xe4\\xba\\x9b\\xe6\\x89\\xa9\\xe5\\xb1\\x95.\" />\\n    <meta name=\"keywords\" content=\"blog, \\xe5\\x8d\\x9a\\xe5\\xae\\xa2, \\xe9\\xbb\\x91\\xe6\\x9d\\xbf\\xe5\\xae\\xa2, \\xe7\\x88\\xac\\xe8\\x99\\xab\\xe9\\x97\\xaf\\xe5\\x85\\xb3, \\xe6\\x9c\\xba\\xe5\\x99\\xa8\\xe5\\xad\\xa6\\xe4\\xb9\\xa0, django\\xe5\\x90\\x8e\\xe7\\xab\\xaf\\xe5\\xbc\\x80\\xe5\\x8f\\x91, \\xe7\\x94\\xa8python\\xe5\\x81\\x9a\\xe4\\xba\\x9b\\xe4\\xba\\x8b.\" />\\n    <meta name=\"author\" content=\"heibanke\" />\\n    <head>\\n        <title>\\xe7\\x99\\xbb\\xe5\\xbd\\x95</title>\\n\\n        <link rel=\"stylesheet\" href=\"/static/libs/bootstrap/css/bootstrap.min.css\">\\n        <link href=\"/static/libs/jquery-ui-1.11.2/jquery-ui.min.css\" rel=\"stylesheet\" type=\"text/css\"/>\\n \\n        <!--[if lt IE 9]><script src=\"/static/libs/js/ie8-responsive-file-warning.js\"></script><![endif]-->\\n\\n\\n        <!--[if lt IE 9]>\\n          <script src=\"/static/libs/js/html5shiv.js\"></script>\\n          <script src=\"/static/libs/js/respond.min.js\"></script>\\n        <![endif]-->\\n        <script src=\"/static/libs/jquery-ui-1.11.2/external/jquery/jquery.js\"></script>\\n        <script src=\"/static/libs/bootstrap/js/bootstrap.min.js\"></script>\\n        <script src=\"/static/libs/js/d3.min.js\"></script>\\n        <script src=\"/static/libs/jquery-ui-1.11.2/jquery-ui.min.js\"></script>\\n        \\n        <script>\\n            var _hmt = _hmt || [];\\n            (function() {\\n              var hm = document.createElement(\"script\");\\n              hm.src = \"//hm.baidu.com/hm.js?74e694103cf02b31b28db0a346da0b6b\";\\n              var s = document.getElementsByTagName(\"script\")[0]; \\n              s.parentNode.insertBefore(hm, s);\\n            })();\\n        </script>\\n    \\n         \\n    </head>\\n    <body>\\n        <div class=\"container-fluid\">\\n         \\n        <div class=\"row\">\\n            <div class=\"col-sm-1 col-md-2 col-lg-3\"></div>\\n            <div class=\"col-xs-12 col-sm-10 col-md-8 col-lg-6\">\\n                \\n        <h2> \\xe6\\xac\\xa2\\xe8\\xbf\\x8e\\xe6\\x9d\\xa5\\xe5\\x88\\xb0\\xe9\\xbb\\x91\\xe6\\x9d\\xbf\\xe5\\xae\\xa2\\xe8\\xae\\xb0\\xe8\\xb4\\xa6\\xe7\\xab\\x99\\xe7\\x82\\xb9 </h2>\\n        <form action=\"\" method=\"post\" class=\"form\"  role=\"form\">\\n        <input type=\\'hidden\\' name=\\'csrfmiddlewaretoken\\' value=\\'Mm6QxNgzlZhN5U5u5an14Q8osNQZHmYG\\' />\\n\\n        \\n        \\n        \\n\\n            \\n                <div class=\"form-group\">\\n                \\n                <label for=\"id_username\">\\xe6\\x98\\xb5\\xe7\\xa7\\xb0:</label> \\n                <input class=\"form-control\" id=\"id_username\" maxlength=\"40\" name=\"username\" size=\"40\" type=\"text\" />\\n                </div>\\n            \\n\\n        \\n\\n            \\n                <div class=\"form-group\">\\n                \\n                <label for=\"id_password\">\\xe5\\xaf\\x86\\xe7\\xa0\\x81:</label> \\n                <input class=\"form-control\" id=\"id_password\" maxlength=\"40\" name=\"password\" size=\"40\" type=\"password\" />\\n                </div>\\n            \\n\\n        \\n        <button id=\\'id_submit\\' type=\"submit\" class=\"btn btn-default\">\\xe7\\x99\\xbb\\xe5\\xbd\\x95</button>\\n        <button id=\\'id_register\\' type=\\'button\\' class=\"btn btn-default\" onclick=\\'javascrtpt:window.location.href=\"/accounts/register\"\\'>\\xe6\\xb3\\xa8\\xe5\\x86\\x8c</button>\\n\\n        </form>\\n        \\n        <h3> \\xe5\\x9c\\xa8\\xe8\\xbf\\x99\\xe9\\x87\\x8c\\xe4\\xbd\\xa0\\xe5\\x8f\\xaf\\xe4\\xbb\\xa5</h3>\\n        <ul>\\n            <li>\\xe9\\x9a\\x8f\\xe6\\x97\\xb6\\xe9\\x9a\\x8f\\xe5\\x9c\\xb0\\xe9\\x80\\x9a\\xe8\\xbf\\x87\\xe7\\xbd\\x91\\xe7\\xbb\\x9c\\xe8\\xae\\xb0\\xe8\\xb4\\xa6</li>\\n            <li>\\xe7\\xbb\\x9f\\xe8\\xae\\xa1\\xe5\\x88\\x86\\xe6\\x9e\\x90\\xe8\\x87\\xaa\\xe5\\xb7\\xb1\\xe6\\xaf\\x8f\\xe6\\x9c\\x88\\xe6\\x94\\xb6\\xe6\\x94\\xaf</li>\\n            <li>\\xe5\\xaf\\xbc\\xe5\\x87\\xba\\xe8\\xa1\\xa8\\xe6\\xa0\\xbc\\xe8\\xbf\\x9b\\xe8\\xa1\\x8c\\xe5\\xa4\\x87\\xe4\\xbb\\xbd</li>\\n            <li>\\xe5\\xaf\\xbc\\xe5\\x85\\xa5\\xe4\\xbb\\xa5\\xe5\\x89\\x8d\\xe8\\xae\\xb0\\xe5\\xbd\\x95\\xe7\\x9a\\x84\\xe8\\xa1\\xa8\\xe6\\xa0\\xbc</li>\\n        </ul>\\n  \\n\\n                <div class=\"text-center\">\\n<table class=\"table\">\\n<thead>\\n<tr>\\n<td><a href=\"http://www.miitbeian.gov.cn\" target=\"_blank\" ><small>\\xe4\\xba\\xacICP\\xe5\\xa4\\x8714042321\\xe5\\x8f\\xb7</small></a></td>\\n<td><a href=\"http://www.heibanke.com/jizhang\" target=\"_blank\" ><small>\\xe4\\xba\\x91\\xe8\\xae\\xb0\\xe8\\xb4\\xa6demo</small></a></td>\\n<td><a href=\"http://www.heibanke.com\" target=\"_blank\" ><small>\\xe9\\xbb\\x91\\xe6\\x9d\\xbf\\xe5\\xae\\xa2blog</small></a></td>\\n<td><a href=\"http://study.163.com/course/courseMain.htm?courseId=1000035\" target=\"_blank\" ><small>\\xe7\\x94\\xa8Python\\xe5\\x81\\x9a\\xe4\\xba\\x9b\\xe4\\xba\\x8b</small></a></td>\\n\\n</tr>\\n</thead>\\n</table>\\n</div>    \\n            </div>\\n            <div class=\"col-sm-1 col-md-2 col-lg-3\"></div>\\n        </div>  \\n        </div>\\n    </body>\\n</html>\\n'"
      ]
     },
     "execution_count": 30,
     "metadata": {},
     "output_type": "execute_result"
    }
   ],
   "source": [
    "# http://www.heibanke.com/lesson/crawler_ex01/?\n",
    "# csrfmiddlewaretoken=IyLgHJ3RM5iVt139566Kbc3Ca9u6gu9k&username=test&password=23\n",
    "#csrfmiddlewaretoken=CqldX1lxnZx3E83SVLZtROQwptFPtia6&username=sssskull&password=26\n",
    "def check_url(password):\n",
    "    import urllib \n",
    "    values = {'csrfmiddlewaretoken':'Mm6QxNgzlZhN5U5u5an14Q8osNQZHmYG',\n",
    "              'username':'test',\n",
    "              'password':'21'\n",
    "              }\n",
    "    values['password'] = password\n",
    "    craw_url = 'http://www.heibanke.com/lesson/crawler_ex02/'\n",
    "    data = urllib.urlencode(values)\n",
    "    req = urllib2.Request(craw_url, data)\n",
    "    \n",
    "    print craw_url\n",
    "    print data\n",
    "    try:\n",
    "        res = urllib2.urlopen(req)\n",
    "    except urllib2.HTTPError, e:\n",
    "        print e.code\n",
    "        print e.reason\n",
    "        \n",
    "    html = res.read()\n",
    "    return html\n",
    "\n",
    "check_url(3)"
   ]
  },
  {
   "cell_type": "code",
   "execution_count": 31,
   "metadata": {
    "collapsed": true
   },
   "outputs": [
    {
     "name": "stdout",
     "output_type": "stream",
     "text": [
      "http://www.heibanke.com/lesson/crawler_ex02/\nusername=test&csrfmiddlewaretoken=Mm6QxNgzlZhN5U5u5an14Q8osNQZHmYG&password=1\n"
     ]
    },
    {
     "name": "stdout",
     "output_type": "stream",
     "text": [
      "1\n<!DOCTYPE html>\n<html lang=\"zh-CN\" >\n    <meta name=\"viewport\" content=\"width=device-width, initial-scale=1\">\n    <meta http-equiv=\"Content-Type\" content=\"text/html; charset=utf-8\" >\n    <meta name=\"baidu-site-verification\" content=\"f2dwZkRE36\" />\n    <meta name=\"description\" content=\"该博客用于记录网易云课堂中相关课程讲述的思路和一些扩展.\" />\n    <meta name=\"keywords\" content=\"blog, 博客, 黑板客, 爬虫闯关, 机器学习, django后端开发, 用python做些事.\" />\n    <meta name=\"author\" content=\"heibanke\" />\n    <head>\n        <title>登录</title>\n\n        <link rel=\"stylesheet\" href=\"/static/libs/bootstrap/css/bootstrap.min.css\">\n        <link href=\"/static/libs/jquery-ui-1.11.2/jquery-ui.min.css\" rel=\"stylesheet\" type=\"text/css\"/>\n \n        <!--[if lt IE 9]><script src=\"/static/libs/js/ie8-responsive-file-warning.js\"></script><![endif]-->\n\n\n        <!--[if lt IE 9]>\n          <script src=\"/static/libs/js/html5shiv.js\"></script>\n          <script src=\"/static/libs/js/respond.min.js\"></script>\n        <![endif]-->\n        <script src=\"/static/libs/jquery-ui-1.11.2/external/jquery/jquery.js\"></script>\n        <script src=\"/static/libs/bootstrap/js/bootstrap.min.js\"></script>\n        <script src=\"/static/libs/js/d3.min.js\"></script>\n        <script src=\"/static/libs/jquery-ui-1.11.2/jquery-ui.min.js\"></script>\n        \n        <script>\n            var _hmt = _hmt || [];\n            (function() {\n              var hm = document.createElement(\"script\");\n              hm.src = \"//hm.baidu.com/hm.js?74e694103cf02b31b28db0a346da0b6b\";\n              var s = document.getElementsByTagName(\"script\")[0]; \n              s.parentNode.insertBefore(hm, s);\n            })();\n        </script>\n    \n         \n    </head>\n    <body>\n        <div class=\"container-fluid\">\n         \n        <div class=\"row\">\n            <div class=\"col-sm-1 col-md-2 col-lg-3\"></div>\n            <div class=\"col-xs-12 col-sm-10 col-md-8 col-lg-6\">\n                \n        <h2> 欢迎来到黑板客记账站点 </h2>\n        <form action=\"\" method=\"post\" class=\"form\"  role=\"form\">\n        <input type='hidden' name='csrfmiddlewaretoken' value='Mm6QxNgzlZhN5U5u5an14Q8osNQZHmYG' />\n\n        \n        \n        \n\n            \n                <div class=\"form-group\">\n                \n                <label for=\"id_username\">昵称:</label> \n                <input class=\"form-control\" id=\"id_username\" maxlength=\"40\" name=\"username\" size=\"40\" type=\"text\" />\n                </div>\n            \n\n        \n\n            \n                <div class=\"form-group\">\n                \n                <label for=\"id_password\">密码:</label> \n                <input class=\"form-control\" id=\"id_password\" maxlength=\"40\" name=\"password\" size=\"40\" type=\"password\" />\n                </div>\n            \n\n        \n        <button id='id_submit' type=\"submit\" class=\"btn btn-default\">登录</button>\n        <button id='id_register' type='button' class=\"btn btn-default\" onclick='javascrtpt:window.location.href=\"/accounts/register\"'>注册</button>\n\n        </form>\n        \n        <h3> 在这里你可以</h3>\n        <ul>\n            <li>随时随地通过网络记账</li>\n            <li>统计分析自己每月收支</li>\n            <li>导出表格进行备份</li>\n            <li>导入以前记录的表格</li>\n        </ul>\n  \n\n                <div class=\"text-center\">\n<table class=\"table\">\n<thead>\n<tr>\n<td><a href=\"http://www.miitbeian.gov.cn\" target=\"_blank\" ><small>京ICP备14042321号</small></a></td>\n<td><a href=\"http://www.heibanke.com/jizhang\" target=\"_blank\" ><small>云记账demo</small></a></td>\n<td><a href=\"http://www.heibanke.com\" target=\"_blank\" ><small>黑板客blog</small></a></td>\n<td><a href=\"http://study.163.com/course/courseMain.htm?courseId=1000035\" target=\"_blank\" ><small>用Python做些事</small></a></td>\n\n</tr>\n</thead>\n</table>\n</div>    \n            </div>\n            <div class=\"col-sm-1 col-md-2 col-lg-3\"></div>\n        </div>  \n        </div>\n    </body>\n</html>\n\n"
     ]
    }
   ],
   "source": [
    "for i in range(1,30):\n",
    "    #print i\n",
    "    html = check_url(i)\n",
    "    res = get_password_res(html)\n",
    "    print i \n",
    "    if res is None: \n",
    "        print html\n",
    "        break"
   ]
  },
  {
   "cell_type": "code",
   "execution_count": 56,
   "metadata": {},
   "outputs": [
    {
     "name": "stdout",
     "output_type": "stream",
     "text": [
      "<RequestsCookieJar[<Cookie csrftoken=MTnQD7sWBuoxDdMjryQSpImyyKrlDuG1 for www.heibanke.com/>]>\n<Response [200]>\n"
     ]
    }
   ],
   "source": [
    "import requests\n",
    "import re\n",
    " \n",
    "proxies  = {'http':'http://10.14.87.100:8080'}\n",
    "\n",
    "login_data={'username':'sssskull','password':'123456'}\n",
    "url='http://www.heibanke.com/lesson/crawler_ex02/'\n",
    "login_url='http://www.heibanke.com/accounts/login/?next=/lesson/crawler_ex02/'\n",
    " \n",
    "r2=requests.get(login_url, proxies=proxies)\n",
    "c2=r2.cookies\n",
    "print c2\n",
    "print r2"
   ]
  },
  {
   "cell_type": "code",
   "execution_count": 57,
   "metadata": {},
   "outputs": [
    {
     "name": "stdout",
     "output_type": "stream",
     "text": [
      "<RequestsCookieJar[<Cookie csrftoken=JB20w4Sgh6KkYDT0fdhh6JTe1QYDm0Sx for www.heibanke.com/>, <Cookie sessionid=cc14f0ewyyy7ikt8308x1m40jf3vo53x for www.heibanke.com/>]>\ncsrftoken JB20w4Sgh6KkYDT0fdhh6JTe1QYDm0Sx\nsessionid cc14f0ewyyy7ikt8308x1m40jf3vo53x\nJB20w4Sgh6KkYDT0fdhh6JTe1QYDm0Sx\n"
     ]
    }
   ],
   "source": [
    "login_data['csrfmiddlewaretoken']=c2['csrftoken']\n",
    "r3=requests.post(login_url,data=login_data,allow_redirects=False,cookies=c2, proxies=proxies)\n",
    "c3=r3.cookies\n",
    "print c3\n",
    "for item in c3:\n",
    "    print item.name, item.value\n",
    "    \n",
    "print c3['csrftoken']"
   ]
  },
  {
   "cell_type": "code",
   "execution_count": null,
   "metadata": {},
   "outputs": [],
   "source": [
    ""
   ]
  },
  {
   "cell_type": "code",
   "execution_count": null,
   "metadata": {},
   "outputs": [],
   "source": [
    ""
   ]
  },
  {
   "cell_type": "code",
   "execution_count": 59,
   "metadata": {},
   "outputs": [
    {
     "name": "stdout",
     "output_type": "stream",
     "text": [
      "0\npass: 0\n\n<!DOCTYPE html>\n<html lang=\"zh-CN\" >\n    <meta name=\"viewport\" content=\"width=device-width, initial-scale=1\">\n    <meta http-equiv=\"Content-Type\" content=\"text/html; charset=utf-8\" >\n    <meta name=\"baidu-site-verification\" content=\"f2dwZkRE36\" />\n    <meta name=\"description\" content=\"该博客用于记录网易云课堂中相关课程讲述的思路和一些扩展.\" />\n    <meta name=\"keywords\" content=\"blog, 博客, 黑板客, 爬虫闯关, 机器学习, django后端开发, 用python做些事.\" />\n    <meta name=\"author\" content=\"heibanke\" />\n    <head>\n        <title>爬虫闯关——3</title>\n\n        <link rel=\"stylesheet\" href=\"/static/libs/bootstrap/css/bootstrap.min.css\">\n        <link href=\"/static/libs/jquery-ui-1.11.2/jquery-ui.min.css\" rel=\"stylesheet\" type=\"text/css\"/>\n \n        <!--[if lt IE 9]><script src=\"/static/libs/js/ie8-responsive-file-warning.js\"></script><![endif]-->\n\n\n        <!--[if lt IE 9]>\n          <script src=\"/static/libs/js/html5shiv.js\"></script>\n          <script src=\"/static/libs/js/respond.min.js\"></script>\n        <![endif]-->\n        <script src=\"/static/libs/jquery-ui-1.11.2/external/jquery/jquery.js\"></script>\n        <script src=\"/static/libs/bootstrap/js/bootstrap.min.js\"></script>\n        <script src=\"/static/libs/js/d3.min.js\"></script>\n        <script src=\"/static/libs/jquery-ui-1.11.2/jquery-ui.min.js\"></script>\n        \n        <script>\n            var _hmt = _hmt || [];\n            (function() {\n              var hm = document.createElement(\"script\");\n              hm.src = \"//hm.baidu.com/hm.js?74e694103cf02b31b28db0a346da0b6b\";\n              var s = document.getElementsByTagName(\"script\")[0]; \n              s.parentNode.insertBefore(hm, s);\n            })();\n        </script>\n    \n         \n    </head>\n    <body>\n        <div class=\"container-fluid\">\n         \n        <div class=\"row\">\n            <div class=\"col-sm-1 col-md-2 col-lg-3\"></div>\n            <div class=\"col-xs-12 col-sm-10 col-md-8 col-lg-6\">\n                \n\n\n<h5>欢迎  访问我们站点!   <a href=\"/accounts/logout\">注销</a></h5>\n\n\n<h1>这里是黑板客爬虫闯关的第三关</h1>\n<h3>恭喜! 用户tom成功闯关, 继续你的爬虫之旅吧</h3>\n\n\n<a href=\"/lesson/crawler_ex02/\" class=\"btn btn-primary\">下一关</a>\n\n\n                <div class=\"text-center\">\n<table class=\"table\">\n<thead>\n<tr>\n<td><a href=\"http://www.miitbeian.gov.cn\" target=\"_blank\" ><small>京ICP备14042321号</small></a></td>\n<td><a href=\"http://www.heibanke.com/jizhang\" target=\"_blank\" ><small>云记账demo</small></a></td>\n<td><a href=\"http://www.heibanke.com\" target=\"_blank\" ><small>黑板客blog</small></a></td>\n<td><a href=\"http://study.163.com/course/courseMain.htm?courseId=1000035\" target=\"_blank\" ><small>用Python做些事</small></a></td>\n\n</tr>\n</thead>\n</table>\n</div>    \n            </div>\n            <div class=\"col-sm-1 col-md-2 col-lg-3\"></div>\n        </div>  \n        </div>\n    </body>\n</html>\n\n"
     ]
    }
   ],
   "source": [
    "pass_data={'username':'tom','csrfmiddlewaretoken':c3['csrftoken']}\n",
    "for passwd in range(31):\n",
    "        print 'pass:', passwd\n",
    "        pass_data['password']=passwd\n",
    "        r5=requests.post(url,pass_data,cookies=c3, proxies=proxies)\n",
    "        result=re.findall(r'密码错误',r5.text.encode('utf-8'))\n",
    "        if not result:\n",
    "                print r5.text\n",
    "                break"
   ]
  },
  {
   "cell_type": "code",
   "execution_count": 50,
   "metadata": {
    "collapsed": true
   },
   "outputs": [
    {
     "ename": "KeyError",
     "evalue": "\"name='csrftoken', domain=None, path=None\"",
     "traceback": [
      "\u001b[1;31m\u001b[0m",
      "\u001b[1;31mKeyError\u001b[0mTraceback (most recent call last)",
      "\u001b[1;32m<ipython-input-50-b766e5c72cbb>\u001b[0m in \u001b[0;36m<module>\u001b[1;34m()\u001b[0m\n\u001b[0;32m     15\u001b[0m \u001b[0mc3\u001b[0m\u001b[1;33m=\u001b[0m\u001b[0mr3\u001b[0m\u001b[1;33m.\u001b[0m\u001b[0mcookies\u001b[0m\u001b[1;33m\u001b[0m\u001b[0m\n\u001b[0;32m     16\u001b[0m \u001b[1;33m\u001b[0m\u001b[0m\n\u001b[1;32m---> 17\u001b[1;33m \u001b[0mpass_data\u001b[0m\u001b[1;33m=\u001b[0m\u001b[1;33m{\u001b[0m\u001b[1;34m'username'\u001b[0m\u001b[1;33m:\u001b[0m\u001b[1;34m'tom'\u001b[0m\u001b[1;33m,\u001b[0m\u001b[1;34m'csrfmiddlewaretoken'\u001b[0m\u001b[1;33m:\u001b[0m\u001b[0mc3\u001b[0m\u001b[1;33m[\u001b[0m\u001b[1;34m'csrftoken'\u001b[0m\u001b[1;33m]\u001b[0m\u001b[1;33m}\u001b[0m\u001b[1;33m\u001b[0m\u001b[0m\n\u001b[0m\u001b[0;32m     18\u001b[0m \u001b[1;32mfor\u001b[0m \u001b[0mpasswd\u001b[0m \u001b[1;32min\u001b[0m \u001b[0mrange\u001b[0m\u001b[1;33m(\u001b[0m\u001b[1;36m31\u001b[0m\u001b[1;33m)\u001b[0m\u001b[1;33m:\u001b[0m\u001b[1;33m\u001b[0m\u001b[0m\n\u001b[0;32m     19\u001b[0m         \u001b[1;32mprint\u001b[0m \u001b[0mpasswd\u001b[0m\u001b[1;33m\u001b[0m\u001b[0m\n",
      "\u001b[1;32mC:\\Anaconda2\\lib\\site-packages\\requests\\cookies.pyc\u001b[0m in \u001b[0;36m__getitem__\u001b[1;34m(self, name)\u001b[0m\n\u001b[0;32m    325\u001b[0m         \u001b[1;33m.\u001b[0m\u001b[1;33m.\u001b[0m \u001b[0mwarning\u001b[0m\u001b[1;33m:\u001b[0m\u001b[1;33m:\u001b[0m \u001b[0moperation\u001b[0m \u001b[1;32mis\u001b[0m \u001b[0mO\u001b[0m\u001b[1;33m(\u001b[0m\u001b[0mn\u001b[0m\u001b[1;33m)\u001b[0m\u001b[1;33m,\u001b[0m \u001b[1;32mnot\u001b[0m \u001b[0mO\u001b[0m\u001b[1;33m(\u001b[0m\u001b[1;36m1\u001b[0m\u001b[1;33m)\u001b[0m\u001b[1;33m.\u001b[0m\u001b[1;33m\u001b[0m\u001b[0m\n\u001b[0;32m    326\u001b[0m         \"\"\"\n\u001b[1;32m--> 327\u001b[1;33m         \u001b[1;32mreturn\u001b[0m \u001b[0mself\u001b[0m\u001b[1;33m.\u001b[0m\u001b[0m_find_no_duplicates\u001b[0m\u001b[1;33m(\u001b[0m\u001b[0mname\u001b[0m\u001b[1;33m)\u001b[0m\u001b[1;33m\u001b[0m\u001b[0m\n\u001b[0m\u001b[0;32m    328\u001b[0m \u001b[1;33m\u001b[0m\u001b[0m\n\u001b[0;32m    329\u001b[0m     \u001b[1;32mdef\u001b[0m \u001b[0m__setitem__\u001b[0m\u001b[1;33m(\u001b[0m\u001b[0mself\u001b[0m\u001b[1;33m,\u001b[0m \u001b[0mname\u001b[0m\u001b[1;33m,\u001b[0m \u001b[0mvalue\u001b[0m\u001b[1;33m)\u001b[0m\u001b[1;33m:\u001b[0m\u001b[1;33m\u001b[0m\u001b[0m\n",
      "\u001b[1;32mC:\\Anaconda2\\lib\\site-packages\\requests\\cookies.pyc\u001b[0m in \u001b[0;36m_find_no_duplicates\u001b[1;34m(self, name, domain, path)\u001b[0m\n\u001b[0;32m    396\u001b[0m         \u001b[1;32mif\u001b[0m \u001b[0mtoReturn\u001b[0m\u001b[1;33m:\u001b[0m\u001b[1;33m\u001b[0m\u001b[0m\n\u001b[0;32m    397\u001b[0m             \u001b[1;32mreturn\u001b[0m \u001b[0mtoReturn\u001b[0m\u001b[1;33m\u001b[0m\u001b[0m\n\u001b[1;32m--> 398\u001b[1;33m         \u001b[1;32mraise\u001b[0m \u001b[0mKeyError\u001b[0m\u001b[1;33m(\u001b[0m\u001b[1;34m'name=%r, domain=%r, path=%r'\u001b[0m \u001b[1;33m%\u001b[0m \u001b[1;33m(\u001b[0m\u001b[0mname\u001b[0m\u001b[1;33m,\u001b[0m \u001b[0mdomain\u001b[0m\u001b[1;33m,\u001b[0m \u001b[0mpath\u001b[0m\u001b[1;33m)\u001b[0m\u001b[1;33m)\u001b[0m\u001b[1;33m\u001b[0m\u001b[0m\n\u001b[0m\u001b[0;32m    399\u001b[0m \u001b[1;33m\u001b[0m\u001b[0m\n\u001b[0;32m    400\u001b[0m     \u001b[1;32mdef\u001b[0m \u001b[0m__getstate__\u001b[0m\u001b[1;33m(\u001b[0m\u001b[0mself\u001b[0m\u001b[1;33m)\u001b[0m\u001b[1;33m:\u001b[0m\u001b[1;33m\u001b[0m\u001b[0m\n",
      "\u001b[1;31mKeyError\u001b[0m: \"name='csrftoken', domain=None, path=None\""
     ],
     "output_type": "error"
    }
   ],
   "source": [
    "import requests\n",
    "import re\n",
    " \n",
    "proxies  = {'http':'http://10.14.87.100:8080'}\n",
    "\n",
    "login_data={'username':'sssskull','password':'123456'}\n",
    "url='http://www.heibanke.com/lesson/crawler_ex02/'\n",
    "login_url='http://www.heibanke.com/accounts/login/?next=/lesson/crawler_ex02/'\n",
    " \n",
    "r2=requests.get(login_url, proxies=proxies)\n",
    "c2=r2.cookies\n",
    " \n",
    "login_data['csrfmiddlewaretoken']=c2['csrftoken']\n",
    "r3=requests.post(login_url,data=login_data,allow_redirects=False,cookies=c2, proxies=proxies)\n",
    "c3=r3.cookies\n",
    " \n",
    "pass_data={'username':'tom','csrfmiddlewaretoken':c3['csrftoken']}\n",
    "for passwd in range(31):\n",
    "        print passwd\n",
    "        pass_data['password']=passwd\n",
    "        r5=requests.post(url,pass_data,cookies=c3, proxies=proxies)\n",
    "        result=re.findall(r'密码错误',r5.text.encode('utf-8'))\n",
    "        if not result:\n",
    "                print r5.text\n",
    "                break"
   ]
  },
  {
   "cell_type": "code",
   "execution_count": 5,
   "metadata": {},
   "outputs": [
    {
     "data": {
      "text/plain": [
       "274877906944L"
      ]
     },
     "execution_count": 5,
     "metadata": {},
     "output_type": "execute_result"
    }
   ],
   "source": [
    "pow(2,38)"
   ]
  }
 ],
 "metadata": {
  "kernelspec": {
   "display_name": "Python 2",
   "language": "python",
   "name": "python2"
  },
  "language_info": {
   "codemirror_mode": {
    "name": "ipython",
    "version": 2.0
   },
   "file_extension": ".py",
   "mimetype": "text/x-python",
   "name": "python",
   "nbconvert_exporter": "python",
   "pygments_lexer": "ipython2",
   "version": "2.7.6"
  }
 },
 "nbformat": 4,
 "nbformat_minor": 0
}