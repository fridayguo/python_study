{
 "cells": [
  {
   "cell_type": "code",
   "execution_count": 54,
   "metadata": {
    "collapsed": true
   },
   "outputs": [
    {
     "name": "stdout",
     "output_type": "stream",
     "text": [
      "1509946693796\nhttp://apinew.ezoption.cn/pre_order/all_share?callback=callback&keyword=00291&type_b_r=cn&_=1509946693\n"
     ]
    }
   ],
   "source": [
    "import requests\n",
    "import re \n",
    "import time \n",
    "proxies  = {'http':'http://10.14.87.100:8080'}\n",
    "\n",
    "# url='http://apinew.ezoption.cn/pre_order/all_share?callback=callback&keyword=00291&type_b_r=cn&_=1509892283591'\n",
    "api_host='http://apinew.ezoption.cn/pre_order/all_share'\n",
    "url='http://apinew.ezoption.cn/pre_order/all_share?callback=callback&keyword=00291&type_b_r=cn&_=1509892283591'\n",
    "#login_url='http://www.heibanke.com/accounts/login/?next=/lesson/crawler_ex03/'\n",
    "#page_base_url= 'http://www.heibanke.com/lesson/crawler_ex03/pw_list/'\n",
    "keyword='00291'\n",
    "curr_time=time.time()\n",
    "query_url = '%s?callback=callback&keyword=%s&type_b_r=cn&_=%d' %(api_host, keyword, int(curr_time))\n",
    "print str(long(curr_time*1000))\n",
    "print query_url"
   ]
  },
  {
   "cell_type": "code",
   "execution_count": 55,
   "metadata": {},
   "outputs": [],
   "source": [
    "host_url='http://www.ezoption.cn/goods/diy'\n",
    "r=requests.get(host_url, proxies=proxies)\n",
    "c=r.cookies"
   ]
  },
  {
   "cell_type": "code",
   "execution_count": 56,
   "metadata": {
    "collapsed": true
   },
   "outputs": [
    {
     "name": "stdout",
     "output_type": "stream",
     "text": [
      "<RequestsCookieJar[]>\n"
     ]
    }
   ],
   "source": [
    "print r.cookies"
   ]
  },
  {
   "cell_type": "code",
   "execution_count": 8,
   "metadata": {},
   "outputs": [
    {
     "data": {
      "text/plain": [
       "<RequestsCookieJar[]>"
      ]
     },
     "execution_count": 8,
     "metadata": {},
     "output_type": "execute_result"
    }
   ],
   "source": [
    "c"
   ]
  },
  {
   "cell_type": "code",
   "execution_count": 45,
   "metadata": {},
   "outputs": [],
   "source": [
    "def gen_cookies_from_line(cookies_str):\n",
    "    cookies = {}\n",
    "    for line in cookies_str.split('\\n'):\n",
    "        line = line.strip(' ').strip('\\t')\n",
    "        if len(line) < 3:\n",
    "            continue\n",
    "        #print 'aa',line \n",
    "        key,val = line.split('=')\n",
    "        cookies[key]=val \n",
    "        \n",
    "    return cookies"
   ]
  },
  {
   "cell_type": "code",
   "execution_count": 86,
   "metadata": {
    "collapsed": false
   },
   "outputs": [
    {
     "name": "stdout",
     "output_type": "stream",
     "text": [
      "{'laravel_admin_session_production': 'eyJpdiI6IjFGYkVuMWN6VlJHSjBjMkxWYk02MUE9PSIsInZhbHVlIjoiSHUzREVubUtNdzNTUnNZc2pUQ1d2TzZxWFFMUUFYeU9XcDhoYjhLNzdaa1lrd1ZGNUd3SHpWNWhKM1R5T0xwREJpOFVcL05yd1h1Z1hkeG1ONExCNGZBPT0iLCJtYWMiOiIyNjMwYjMzYjg5ODJlYzgzZGM5NTk3ZjRiMWVhMTk1M2NiMGI4MTM1YTdiYzBlMjEwMWZjNjEyZDU1NWJmMjZjIn0%3D', 'ez_useless_access_token_d_c': 'f4e7e0fd3dde1b9973be2cdce9b95e7cb1965146477c25d2064831c6865efd33', 'ez_useless_access_token': '26c948cad12d7d5ace454e939c2deb47377e9efdcd681c622b64a1df9d55c143', 'ez_access_token': '99d49cabb4d63307c281aee06ecd8be5', 'XSRF-TOKEN': 'eyJpdiI6Im5oVWJnb2pYSGUxdUt0d3QwRUl1VEE9PSIsInZhbHVlIjoiQ2Q4c0VJck1IZEg5N0xWak4za0o5TnFEUU1BUUhUdWlFTHpLZkZXcDdkOFwvRlJPOTlLdFwvc09oVjNsMU81VGNqN0NDVGFBT2VTYlVxNzhFN3VoK3Fudz09IiwibWFjIjoiZTEwNzE2YzliYmYwZTYwMjhjZTI5YmM1MDYzOTY4ZWVhNzhkNTJjNmU2YjlhZDMyOTI1MmUyNmU1MzhjMzk4MiJ9'}\n"
     ]
    }
   ],
   "source": [
    "cookies_str='''\n",
    "\tez_useless_access_token=26c948cad12d7d5ace454e939c2deb47377e9efdcd681c622b64a1df9d55c143\n",
    "\tez_useless_access_token_d_c=f4e7e0fd3dde1b9973be2cdce9b95e7cb1965146477c25d2064831c6865efd33\n",
    "\tez_access_token=99d49cabb4d63307c281aee06ecd8be5\n",
    "\tXSRF-TOKEN=eyJpdiI6Im5oVWJnb2pYSGUxdUt0d3QwRUl1VEE9PSIsInZhbHVlIjoiQ2Q4c0VJck1IZEg5N0xWak4za0o5TnFEUU1BUUhUdWlFTHpLZkZXcDdkOFwvRlJPOTlLdFwvc09oVjNsMU81VGNqN0NDVGFBT2VTYlVxNzhFN3VoK3Fudz09IiwibWFjIjoiZTEwNzE2YzliYmYwZTYwMjhjZTI5YmM1MDYzOTY4ZWVhNzhkNTJjNmU2YjlhZDMyOTI1MmUyNmU1MzhjMzk4MiJ9\n",
    "laravel_admin_session_production=eyJpdiI6IjFGYkVuMWN6VlJHSjBjMkxWYk02MUE9PSIsInZhbHVlIjoiSHUzREVubUtNdzNTUnNZc2pUQ1d2TzZxWFFMUUFYeU9XcDhoYjhLNzdaa1lrd1ZGNUd3SHpWNWhKM1R5T0xwREJpOFVcL05yd1h1Z1hkeG1ONExCNGZBPT0iLCJtYWMiOiIyNjMwYjMzYjg5ODJlYzgzZGM5NTk3ZjRiMWVhMTk1M2NiMGI4MTM1YTdiYzBlMjEwMWZjNjEyZDU1NWJmMjZjIn0%3D\n",
    "\t        '''\n",
    "\n",
    "cookies = gen_cookies_from_line(cookies_str)\n",
    "print cookies"
   ]
  },
  {
   "cell_type": "code",
   "execution_count": 5,
   "metadata": {},
   "outputs": [
    {
     "name": "stdout",
     "output_type": "stream",
     "text": [
      "{'Referer': 'http://www.ezoption.cn/goods/diy', 'Accept-Language': 'zh-CN,zh;q=0.8', 'Accept-Encoding': 'gzip, deflate, sdch', 'User-Agent': 'Mozilla/5.0 (Windows NT 6.1;Win64; x64) AppleWebKit/537.36 (KHTML, like Gecko) Chrome/46.0.2490.86 Safari/537.36'}\n"
     ]
    }
   ],
   "source": [
    "header_str = '''\n",
    "user-agent: Mozilla/5.0 (Windows NT 6.1; Win64; x64) AppleWebKit/537.36 (KHTML, like Gecko) Chrome/46.0.2490.86 Safari/537.36\n",
    "Accept-Language: zh-CN,zh;q=0.8\n",
    "'''\n",
    "\n",
    "def gen_header_from_line(header_str):\n",
    "    header = {}\n",
    "    for line in header_str.split('\\n'):\n",
    "        line = line.strip('\\t')\n",
    "        if len(line) < 3:\n",
    "            continue\n",
    "        #print 'aa',line \n",
    "        key,val = line.split(':')\n",
    "        header[key]=val \n",
    "    return header\n",
    "        \n",
    "headers  = gen_header_from_line(header_str)\n",
    "\n",
    "headers = {\n",
    "    'User-Agent':'Mozilla/5.0 (Windows NT 6.1;Win64; x64) AppleWebKit/537.36 (KHTML, like Gecko) Chrome/46.0.2490.86 Safari/537.36',\n",
    "                 'Accept-Encoding': 'gzip, deflate, sdch',\n",
    "    'Accept-Language': 'zh-CN,zh;q=0.8',\n",
    "    'Referer': 'http://www.ezoption.cn/goods/diy'\n",
    "}\n",
    "print headers"
   ]
  },
  {
   "cell_type": "code",
   "execution_count": 7,
   "metadata": {},
   "outputs": [
    {
     "name": "stdout",
     "output_type": "stream",
     "text": [
      "<RequestsCookieJar[]>\n{'Referer': 'http://www.ezoption.cn/goods/diy', 'Accept-Language': 'zh-CN,zh;q=0.8', 'Accept-Encoding': 'gzip, deflate, sdch', 'User-Agent': 'Mozilla/5.0 (Windows NT 6.1;Win64; x64) AppleWebKit/537.36 (KHTML, like Gecko) Chrome/46.0.2490.86 Safari/537.36'}\n"
     ]
    }
   ],
   "source": [
    "cookies = r.cookies\n",
    "print cookies\n",
    "print headers"
   ]
  },
  {
   "cell_type": "code",
   "execution_count": 98,
   "metadata": {
    "collapsed": true
   },
   "outputs": [
    {
     "name": "stdout",
     "output_type": "stream",
     "text": [
      "1509902126736\nhttp://apinew.ezoption.cn//pre_order/all_share?callback=callback&keyword=0021&type_b_r=cn&_=1509900859950\n"
     ]
    }
   ],
   "source": [
    "#r =requests.get(url, proxies=proxies)\n",
    "api_host='http://apinew.ezoption.cn/pre_order/all_share'\n",
    "keyword='00291'\n",
    "type_b_r='26c948cad12d7d5a81c5323a55e3c4a9c3ec80d412e5b5762450d030fa82587'\n",
    "type_b_r='cn'\n",
    "curr_time = str(long(time.time()*1000))\n",
    "query_url = '%s?callback=callback&keyword=%s&type_b_r=%s&_=%s' \\\n",
    "            %(api_host, keyword, type_b_r, curr_time)\n",
    "print curr_time\n",
    "#query_url='http://apinew.ezoption.cn/pre_order/all_share?callback=callback&keyword=023&type_b_r=cn&_=1509898978888'\n",
    "query_url='http://apinew.ezoption.cn//pre_order/all_share?callback=callback&keyword=0021&type_b_r=cn&_=1509900859950'\n",
    "\n",
    "print query_url"
   ]
  },
  {
   "cell_type": "code",
   "execution_count": 99,
   "metadata": {},
   "outputs": [
    {
     "name": "stdout",
     "output_type": "stream",
     "text": [
      "/**/callback({\"code\":0,\"msg\":\"success\",\"data\":[{\"id\":16,\"share_symbol\":\"sh600021\",\"share_code\":\"600021\",\"share_pinyin\":\"shdl\",\"share_market\":\"sh\",\"share_name\":\"\\u4e0a\\u6d77\\u7535\\u529b\",\"close_price\":\"10.92\",\"last_close_price\":\"11.48\",\"week_volatility\":\"8.48\",\"month1_volatility\":\"15.50\",\"month3_volatility\":\"13.75\",\"month6_volatility\":\"29.31\",\"history_volatility\":\"29.31\",\"year_volatility\":\"0.00\",\"chg\":\"-0.0082\",\"nmc\":233,\"trade_day\":\"2017-11-05 00:00:00\",\"listing_day\":\"2003-10-29 00:00:00\",\"updated_at\":\"2017-11-05 15:25:06\"},{\"id\":175,\"share_symbol\":\"sh600210\",\"share_code\":\"600210\",\"share_pinyin\":\"zjqy\",\"share_market\":\"sh\",\"share_name\":\"\\u7d2b\\u6c5f\\u4f01\\u4e1a\",\"close_price\":\"5.59\",\"last_close_price\":\"0.00\",\"week_volatility\":\"30.73\",\"month1_volatility\":\"24.70\",\"month3_volatility\":\"30.58\",\"month6_volatility\":\"37.41\",\"history_volatility\":\"0.00\",\"year_volatility\":\"0.00\",\"chg\":\"-0.0176\",\"nmc\":80,\"trade_day\":\"2017-11-05 00:00:00\",\"listing_day\":\"1999-08-24 00:00:00\",\"updated_at\":\"2017-11-05 15:25:17\"},{\"id\":176,\"share_symbol\":\"sh600211\",\"share_code\":\"600211\",\"share_pinyin\":\"xzyy\",\"share_market\":\"sh\",\"share_name\":\"\\u897f\\u85cf\\u836f\\u4e1a\",\"close_price\":\"39.19\",\"last_close_price\":\"0.00\",\"week_volatility\":\"14.25\",\"month1_volatility\":\"30.88\",\"month3_volatility\":\"29.04\",\"month6_volatility\":\"28.85\",\"history_volatility\":\"0.00\",\"year_volatility\":\"0.00\",\"chg\":\"0.0023\",\"nmc\":57,\"trade_day\":\"2017-11-05 00:00:00\",\"listing_day\":\"1999-07-21 00:00:00\",\"updated_at\":\"2017-11-05 15:25:17\"},{\"id\":177,\"share_symbol\":\"sh600212\",\"share_code\":\"600212\",\"share_pinyin\":\"jqsy\",\"share_market\":\"sh\",\"share_name\":\"\\u6c5f\\u6cc9\\u5b9e\\u4e1a\",\"close_price\":\"10.87\",\"last_close_price\":\"0.00\",\"week_volatility\":\"45.11\",\"month1_volatility\":\"49.84\",\"month3_volatility\":\"54.94\",\"month6_volatility\":\"55.07\",\"history_volatility\":\"0.00\",\"year_volatility\":\"0.00\",\"chg\":\"-0.0531\",\"nmc\":55,\"trade_day\":\"2017-11-05 00:00:00\",\"listing_day\":\"1999-08-17 00:00:00\",\"updated_at\":\"2017-11-05 15:25:17\"},{\"id\":178,\"share_symbol\":\"sh600213\",\"share_code\":\"600213\",\"share_pinyin\":\"yxkc\",\"share_market\":\"sh\",\"share_name\":\"\\u4e9a\\u661f\\u5ba2\\u8f66\",\"close_price\":\"10.80\",\"last_close_price\":\"0.00\",\"week_volatility\":\"47.16\",\"month1_volatility\":\"56.94\",\"month3_volatility\":\"51.66\",\"month6_volatility\":\"48.72\",\"history_volatility\":\"0.00\",\"year_volatility\":\"0.00\",\"chg\":\"-0.0182\",\"nmc\":23,\"trade_day\":\"2017-11-05 00:00:00\",\"listing_day\":\"1999-08-31 00:00:00\",\"updated_at\":\"2017-11-05 15:25:17\"},{\"id\":179,\"share_symbol\":\"sh600215\",\"share_code\":\"600215\",\"share_pinyin\":\"ccjk\",\"share_market\":\"sh\",\"share_name\":\"\\u957f\\u6625\\u7ecf\\u5f00\",\"close_price\":\"10.34\",\"last_close_price\":\"0.00\",\"week_volatility\":\"35.81\",\"month1_volatility\":\"35.40\",\"month3_volatility\":\"25.84\",\"month6_volatility\":\"40.18\",\"history_volatility\":\"0.00\",\"year_volatility\":\"0.00\",\"chg\":\"0.0248\",\"nmc\":48,\"trade_day\":\"2017-11-05 00:00:00\",\"listing_day\":\"1999-09-09 00:00:00\",\"updated_at\":\"2017-11-05 15:25:17\"},{\"id\":180,\"share_symbol\":\"sh600216\",\"share_code\":\"600216\",\"share_pinyin\":\"zjyy\",\"share_market\":\"sh\",\"share_name\":\"\\u6d59\\u6c5f\\u533b\\u836f\",\"close_price\":\"10.36\",\"last_close_price\":\"0.00\",\"week_volatility\":\"24.18\",\"month1_volatility\":\"29.52\",\"month3_volatility\":\"28.76\",\"month6_volatility\":\"31.91\",\"history_volatility\":\"0.00\",\"year_volatility\":\"0.00\",\"chg\":\"0.0029\",\"nmc\":98,\"trade_day\":\"2017-11-05 00:00:00\",\"listing_day\":\"1999-10-21 00:00:00\",\"updated_at\":\"2017-11-05 15:25:18\"},{\"id\":181,\"share_symbol\":\"sh600217\",\"share_code\":\"600217\",\"share_pinyin\":\"zzzh\",\"share_market\":\"sh\",\"share_name\":\"\\u4e2d\\u518d\\u8d44\\u73af\",\"close_price\":\"6.37\",\"last_close_price\":\"0.00\",\"week_volatility\":\"38.53\",\"month1_volatility\":\"39.11\",\"month3_volatility\":\"46.64\",\"month6_volatility\":\"46.13\",\"history_volatility\":\"0.00\",\"year_volatility\":\"0.00\",\"chg\":\"0.0016\",\"nmc\":45,\"trade_day\":\"2017-11-05 00:00:00\",\"listing_day\":\"1999-12-16 00:00:00\",\"updated_at\":\"2017-11-05 15:25:18\"},{\"id\":182,\"share_symbol\":\"sh600218\",\"share_code\":\"600218\",\"share_pinyin\":\"qcdl\",\"share_market\":\"sh\",\"share_name\":\"\\u5168\\u67f4\\u52a8\\u529b\",\"close_price\":\"8.22\",\"last_close_price\":\"0.00\",\"week_volatility\":\"32.62\",\"month1_volatility\":\"25.22\",\"month3_volatility\":\"20.83\",\"month6_volatility\":\"27.84\",\"history_volatility\":\"0.00\",\"year_volatility\":\"0.00\",\"chg\":\"-0.0156\",\"nmc\":30,\"trade_day\":\"2017-11-05 00:00:00\",\"listing_day\":\"1998-12-03 00:00:00\",\"updated_at\":\"2017-11-05 15:25:18\"},{\"id\":183,\"share_symbol\":\"sh600219\",\"share_code\":\"600219\",\"share_pinyin\":\"nsly\",\"share_market\":\"sh\",\"share_name\":\"\\u5357\\u5c71\\u94dd\\u4e1a\",\"close_price\":\"3.83\",\"last_close_price\":\"0.00\",\"week_volatility\":\"13.44\",\"month1_volatility\":\"17.09\",\"month3_volatility\":\"47.17\",\"month6_volatility\":\"37.30\",\"history_volatility\":\"0.00\",\"year_volatility\":\"0.00\",\"chg\":\"-0.0103\",\"nmc\":271,\"trade_day\":\"2017-11-05 00:00:00\",\"listing_day\":\"1999-12-23 00:00:00\",\"updated_at\":\"2017-11-05 15:25:18\"}]});\n"
     ]
    }
   ],
   "source": [
    "r=requests.get(query_url, headers=headers, cookies=cookies)\n",
    "print r.text"
   ]
  },
  {
   "cell_type": "code",
   "execution_count": 73,
   "metadata": {},
   "outputs": [
    {
     "name": "stdout",
     "output_type": "stream",
     "text": [
      "{'X-RateLimit-Remaining': '59', 'X-Powered-By': 'PHP/5.6.30', 'Set-Cookie': 'laravel_admin_session_production=eyJpdiI6IkpHOGJXdGpoUGtXNXNvZEFIREY3d0E9PSIsInZhbHVlIjoiYlwvOWl4RWJqV2pkZ3E0Q2dwWUZaQ29vVnZ4dGpGZFhlU0VZTGVsQWpjQVluR2ZXbkhwQVNrck9iU3lLckVocGVjMzJJaXl2SThlQXpId0F4dTd5OFwvZz09IiwibWFjIjoiY2Y2YWZjYmI0NmU2ZDM1MjYwZjdhNTFkZGUyYTY4MzMwMDM4ZjM2Yzk5ZWEwODYyNjc4NzE2OTExZDhjNmY4MyJ9; expires=Sun, 05-Nov-2017 18:51:54 GMT; Max-Age=7200; path=/; domain=ezoption.cn; httponly', 'Content-Length': '58', 'Server': 'nginx/1.10.2', 'Connection': 'keep-alive', 'X-RateLimit-Limit': '60', 'Cache-Control': 'no-cache', 'Date': 'Sun, 05 Nov 2017 16:51:54 GMT', 'Content-Type': 'text/javascript; charset=UTF-8'}\n"
     ]
    }
   ],
   "source": [
    "print r.headers"
   ]
  },
  {
   "cell_type": "code",
   "execution_count": 10,
   "metadata": {},
   "outputs": [],
   "source": [
    "r=requests.get(query_url, cookies=c)"
   ]
  },
  {
   "cell_type": "code",
   "execution_count": null,
   "metadata": {},
   "outputs": [],
   "source": [
    ""
   ]
  },
  {
   "cell_type": "code",
   "execution_count": null,
   "metadata": {},
   "outputs": [],
   "source": [
    ""
   ]
  },
  {
   "cell_type": "code",
   "execution_count": 102,
   "metadata": {},
   "outputs": [
    {
     "name": "stdout",
     "output_type": "stream",
     "text": [
      "{'Referer': 'http://www.ezoption.cn/goods/diy', 'Accept-Language': 'zh-CN,zh;q=0.8', 'Accept-Encoding': 'gzip, deflate, sdch', 'User-Agent': 'Mozilla/5.0 (Windows NT 6.1;Win64; x64) AppleWebKit/537.36 (KHTML, like Gecko) Chrome/46.0.2490.86 Safari/537.36'}\n"
     ]
    }
   ],
   "source": [
    "headers = {\n",
    "    'User-Agent':'Mozilla/5.0 (Windows NT 6.1;Win64; x64) AppleWebKit/537.36 (KHTML, like Gecko) Chrome/46.0.2490.86 Safari/537.36',\n",
    "                 'Accept-Encoding': 'gzip, deflate, sdch',\n",
    "    'Accept-Language': 'zh-CN,zh;q=0.8',\n",
    "    'Referer': 'http://www.ezoption.cn/goods/diy'\n",
    "}\n",
    "print headers"
   ]
  },
  {
   "cell_type": "code",
   "execution_count": 132,
   "metadata": {},
   "outputs": [
    {
     "name": "stdout",
     "output_type": "stream",
     "text": [
      "<RequestsCookieJar[<Cookie XSRF-TOKEN=eyJpdiI6InUyVUljNGRtWVZEa3N4MSt1TTMwaUE9PSIsInZhbHVlIjoiRjhaN3MwN1BlWFBIWXg2QXU4U2l2eDBVaWZtN0l4bE1wTHJGbnJVOENOcUhKMjNqQUdaYURXdWF2ZlhhRVpQejFYeTBSSWFhbldKT1hDZWMxOWNtN2c9PSIsIm1hYyI6ImNmNzAwMWVlYmNkMzgwNjZiOGY2NjYwNzUzN2FjOTkzMWE0ZWNjMWY0MDhiNDhjNWYwOTEwZDMyN2U5OGM1NzcifQ%3D%3D for .ezoption.cn/>, <Cookie ez_access_token=1b21da10ec0be0f0a3ddb742c086aa1c for .ezoption.cn/>, <Cookie ez_useless_access_token=26c948cad12d7d5ace454e939c2deb47fe557c520b28fde9e73582886074756e for .ezoption.cn/>, <Cookie ez_useless_access_token_d_c=f4e7e0fd3dde1b9973be2cdce9b95e7cb1965146477c25d2532164f0613e7398 for .ezoption.cn/>, <Cookie laravel_admin_session_production=eyJpdiI6ImtPdlFVbVJPMmJ0czJYOGFkQytLVHc9PSIsInZhbHVlIjoiZUVTZUg3MitiQmhqWENRRXdncit0Ykd3ZDdxUk8wbEcwU2hZVUFOa1BGU25GQk5jMStTRFJ3NUhcL2poUk1jWlJremxxRWxZWTZ5cEE5MHlpRWh4ZHZnPT0iLCJtYWMiOiJmNGI3NGVjMWU3YTEyZDBiYjhhNmQzZGFlMzUxOGNmNTY3YjBkYTlmZTFlNWMzNjIwMDJiYWNhMjk0MzgwM2M2In0%3D for .ezoption.cn/>]>\n"
     ]
    }
   ],
   "source": [
    "host_url='http://www.ezoption.cn/goods/diy'\n",
    "r=requests.get(host_url)\n",
    "cookies =r.cookies\n",
    "print cookies"
   ]
  },
  {
   "cell_type": "code",
   "execution_count": 135,
   "metadata": {
    "collapsed": false
   },
   "outputs": [
    {
     "name": "stdout",
     "output_type": "stream",
     "text": [
      "1509903510780\nhttp://apinew.ezoption.cn/pre_order/all_share?callback=callback&keyword=30073&type_b_r=cn&_=1509903510780\n{'Referer': 'http://www.ezoption.cn/goods/diy', 'Accept-Language': 'zh-CN,zh;q=0.8', 'Accept-Encoding': 'gzip, deflate, sdch', 'User-Agent': 'Mozilla/5.0 (Windows NT 6.1;Win64; x64) AppleWebKit/537.36 (KHTML, like Gecko) Chrome/46.0.2490.86 Safari/537.36'}\n<RequestsCookieJar[<Cookie XSRF-TOKEN=eyJpdiI6InUyVUljNGRtWVZEa3N4MSt1TTMwaUE9PSIsInZhbHVlIjoiRjhaN3MwN1BlWFBIWXg2QXU4U2l2eDBVaWZtN0l4bE1wTHJGbnJVOENOcUhKMjNqQUdaYURXdWF2ZlhhRVpQejFYeTBSSWFhbldKT1hDZWMxOWNtN2c9PSIsIm1hYyI6ImNmNzAwMWVlYmNkMzgwNjZiOGY2NjYwNzUzN2FjOTkzMWE0ZWNjMWY0MDhiNDhjNWYwOTEwZDMyN2U5OGM1NzcifQ%3D%3D for .ezoption.cn/>, <Cookie ez_access_token=1b21da10ec0be0f0a3ddb742c086aa1c for .ezoption.cn/>, <Cookie ez_useless_access_token=26c948cad12d7d5ace454e939c2deb47fe557c520b28fde9e73582886074756e for .ezoption.cn/>, <Cookie ez_useless_access_token_d_c=f4e7e0fd3dde1b9973be2cdce9b95e7cb1965146477c25d2532164f0613e7398 for .ezoption.cn/>, <Cookie laravel_admin_session_production=eyJpdiI6ImtPdlFVbVJPMmJ0czJYOGFkQytLVHc9PSIsInZhbHVlIjoiZUVTZUg3MitiQmhqWENRRXdncit0Ykd3ZDdxUk8wbEcwU2hZVUFOa1BGU25GQk5jMStTRFJ3NUhcL2poUk1jWlJremxxRWxZWTZ5cEE5MHlpRWh4ZHZnPT0iLCJtYWMiOiJmNGI3NGVjMWU3YTEyZDBiYjhhNmQzZGFlMzUxOGNmNTY3YjBkYTlmZTFlNWMzNjIwMDJiYWNhMjk0MzgwM2M2In0%3D for .ezoption.cn/>]>\n"
     ]
    }
   ],
   "source": [
    "api_host='http://apinew.ezoption.cn/pre_order/all_share'\n",
    "keyword='30073'\n",
    "type_b_r='26c948cad12d7d5a81c5323a55e3c4a9c3ec80d412e5b5762450d030fa82587'\n",
    "type_b_r='cn'\n",
    "curr_time = str(long(time.time()*1000))\n",
    "query_url = '%s?callback=callback&keyword=%s&type_b_r=%s&_=%s' \\\n",
    "            %(api_host, keyword, type_b_r, curr_time)\n",
    "print curr_time\n",
    "#query_url='http://apinew.ezoption.cn/pre_order/all_share?callback=callback&keyword=023&type_b_r=cn&_=1509898978888'\n",
    "# query_url='http://apinew.ezoption.cn//pre_order/all_share?callback=callback&keyword=0021&type_b_r=cn&_=1509900859950'\n",
    "\n",
    "print query_url\n",
    "print headers\n",
    "print cookies"
   ]
  },
  {
   "cell_type": "code",
   "execution_count": 151,
   "metadata": {},
   "outputs": [
    {
     "name": "stdout",
     "output_type": "stream",
     "text": [
      "/**/callback({\"code\":5,\"msg\":\"\\u8bf7\\u5237\\u65b0\\u9875\\u9762!\",\"data\":[]});\n"
     ]
    }
   ],
   "source": [
    "r=requests.get(query_url, headers=headers, cookies=cookies)\n",
    "print r.text"
   ]
  },
  {
   "cell_type": "code",
   "execution_count": 111,
   "metadata": {},
   "outputs": [
    {
     "name": "stdout",
     "output_type": "stream",
     "text": [
      "{\"code\":0,\"msg\":\"success\",\"data\":[{\"id\":246,\"share_symbol\":\"sh600291\",\"share_code\":\"600291\",\"share_pinyin\":\"xsgf\",\"share_market\":\"sh\",\"share_name\":\"\\u897f\\u6c34\\u80a1\\u4efd\",\"close_price\":\"25.25\",\"last_close_price\":\"30.88\",\"week_volatility\":\"46.29\",\"month1_volatility\":\"48.35\",\"month3_volatility\":\"62.46\",\"month6_volatility\":\"71.60\",\"history_volatility\":\"0.00\",\"year_volatility\":\"0.00\",\"chg\":\"-0.0407\",\"nmc\":247,\"trade_day\":\"2017-11-05 00:00:00\",\"listing_day\":\"2000-07-31 00:00:00\",\"updated_at\":\"2017-11-05 15:25:23\"},{\"id\":2995,\"share_symbol\":\"sz300291\",\"share_code\":\"300291\",\"share_pinyin\":\"hlbn\",\"share_market\":\"sz\",\"share_name\":\"\\u534e\\u5f55\\u767e\\u7eb3\",\"close_price\":\"13.47\",\"last_close_price\":\"0.00\",\"week_volatility\":\"46.40\",\"month1_volatility\":\"57.28\",\"month3_volatility\":\"39.66\",\"month6_volatility\":\"34.39\",\"history_volatility\":\"0.00\",\"year_volatility\":\"0.00\",\"chg\":\"0.0128\",\"nmc\":67,\"trade_day\":\"2017-11-05 00:00:00\",\"listing_day\":\"2012-02-09 00:00:00\",\"updated_at\":\"2017-11-05 15:25:30\"}]}\n{u'msg': u'success', u'code': 0, u'data': [{u'share_symbol': u'sh600291', u'month1_volatility': u'48.35', u'share_name': u'\\u897f\\u6c34\\u80a1\\u4efd', u'trade_day': u'2017-11-05 00:00:00', u'share_code': u'600291', u'chg': u'-0.0407', u'history_volatility': u'0.00', u'updated_at': u'2017-11-05 15:25:23', u'month6_volatility': u'71.60', u'nmc': 247, u'last_close_price': u'30.88', u'year_volatility': u'0.00', u'week_volatility': u'46.29', u'listing_day': u'2000-07-31 00:00:00', u'share_market': u'sh', u'close_price': u'25.25', u'month3_volatility': u'62.46', u'id': 246, u'share_pinyin': u'xsgf'}, {u'share_symbol': u'sz300291', u'month1_volatility': u'57.28', u'share_name': u'\\u534e\\u5f55\\u767e\\u7eb3', u'trade_day': u'2017-11-05 00:00:00', u'share_code': u'300291', u'chg': u'0.0128', u'history_volatility': u'0.00', u'updated_at': u'2017-11-05 15:25:30', u'month6_volatility': u'34.39', u'nmc': 67, u'last_close_price': u'0.00', u'year_volatility': u'0.00', u'week_volatility': u'46.40', u'listing_day': u'2012-02-09 00:00:00', u'share_market': u'sz', u'close_price': u'13.47', u'month3_volatility': u'39.66', u'id': 2995, u'share_pinyin': u'hlbn'}]}\n"
     ]
    }
   ],
   "source": [
    "import json \n",
    "import re \n",
    "res = re.match(r'\\/\\*\\*\\/callback\\((.*)\\);$', r.text)\n",
    "print res.group(1)\n",
    "js = json.loads(res.group(1))\n",
    "print js"
   ]
  },
  {
   "cell_type": "code",
   "execution_count": 113,
   "metadata": {
    "collapsed": true
   },
   "outputs": [
    {
     "data": {
      "text/plain": [
       "[{u'chg': u'-0.0407',\n  u'close_price': u'25.25',\n  u'history_volatility': u'0.00',\n  u'id': 246,\n  u'last_close_price': u'30.88',\n  u'listing_day': u'2000-07-31 00:00:00',\n  u'month1_volatility': u'48.35',\n  u'month3_volatility': u'62.46',\n  u'month6_volatility': u'71.60',\n  u'nmc': 247,\n  u'share_code': u'600291',\n  u'share_market': u'sh',\n  u'share_name': u'\\u897f\\u6c34\\u80a1\\u4efd',\n  u'share_pinyin': u'xsgf',\n  u'share_symbol': u'sh600291',\n  u'trade_day': u'2017-11-05 00:00:00',\n  u'updated_at': u'2017-11-05 15:25:23',\n  u'week_volatility': u'46.29',\n  u'year_volatility': u'0.00'},\n {u'chg': u'0.0128',\n  u'close_price': u'13.47',\n  u'history_volatility': u'0.00',\n  u'id': 2995,\n  u'last_close_price': u'0.00',\n  u'listing_day': u'2012-02-09 00:00:00',\n  u'month1_volatility': u'57.28',\n  u'month3_volatility': u'39.66',\n  u'month6_volatility': u'34.39',\n  u'nmc': 67,\n  u'share_code': u'300291',\n  u'share_market': u'sz',\n  u'share_name': u'\\u534e\\u5f55\\u767e\\u7eb3',\n  u'share_pinyin': u'hlbn',\n  u'share_symbol': u'sz300291',\n  u'trade_day': u'2017-11-05 00:00:00',\n  u'updated_at': u'2017-11-05 15:25:30',\n  u'week_volatility': u'46.40',\n  u'year_volatility': u'0.00'}]"
      ]
     },
     "execution_count": 113,
     "metadata": {},
     "output_type": "execute_result"
    }
   ],
   "source": [
    "js['data']"
   ]
  },
  {
   "cell_type": "code",
   "execution_count": 116,
   "metadata": {},
   "outputs": [],
   "source": [
    "fd = open('./crawler/ezoption/epo.json','a')\n",
    "fd.write(res.group(1))\n",
    "fd.close()"
   ]
  },
  {
   "cell_type": "code",
   "execution_count": 118,
   "metadata": {},
   "outputs": [
    {
     "ename": "TypeError",
     "evalue": "range() integer end argument expected, got str.",
     "traceback": [
      "\u001b[1;31m\u001b[0m",
      "\u001b[1;31mTypeError\u001b[0mTraceback (most recent call last)",
      "\u001b[1;32m<ipython-input-118-3bdcaa39a259>\u001b[0m in \u001b[0;36m<module>\u001b[1;34m()\u001b[0m\n\u001b[1;32m----> 1\u001b[1;33m \u001b[1;32mfor\u001b[0m \u001b[0mi\u001b[0m \u001b[1;32min\u001b[0m \u001b[0mrange\u001b[0m\u001b[1;33m(\u001b[0m\u001b[1;34m'00000'\u001b[0m\u001b[1;33m,\u001b[0m\u001b[1;34m'00099'\u001b[0m\u001b[1;33m)\u001b[0m\u001b[1;33m:\u001b[0m\u001b[1;33m\u001b[0m\u001b[0m\n\u001b[0m\u001b[0;32m      2\u001b[0m     \u001b[1;32mprint\u001b[0m \u001b[0mi\u001b[0m\u001b[1;33m\u001b[0m\u001b[0m\n",
      "\u001b[1;31mTypeError\u001b[0m: range() integer end argument expected, got str."
     ],
     "output_type": "error"
    }
   ],
   "source": [
    "for i in range('00000','00099'):\n",
    "    print i"
   ]
  },
  {
   "cell_type": "code",
   "execution_count": 149,
   "metadata": {
    "collapsed": true
   },
   "outputs": [
    {
     "name": "stdout",
     "output_type": "stream",
     "text": [
      "0 99\n00000\n"
     ]
    },
    {
     "name": "stdout",
     "output_type": "stream",
     "text": [
      "00001\n"
     ]
    },
    {
     "name": "stdout",
     "output_type": "stream",
     "text": [
      "00002\n"
     ]
    },
    {
     "name": "stdout",
     "output_type": "stream",
     "text": [
      "00003\n"
     ]
    },
    {
     "name": "stdout",
     "output_type": "stream",
     "text": [
      "00004\n"
     ]
    },
    {
     "name": "stdout",
     "output_type": "stream",
     "text": [
      "00005\n"
     ]
    },
    {
     "ename": "KeyboardInterrupt",
     "evalue": "",
     "traceback": [
      "\u001b[1;31m\u001b[0m",
      "\u001b[1;31mKeyboardInterrupt\u001b[0mTraceback (most recent call last)",
      "\u001b[1;32m<ipython-input-149-7903bcda640c>\u001b[0m in \u001b[0;36m<module>\u001b[1;34m()\u001b[0m\n\u001b[0;32m      7\u001b[0m         \u001b[0mkeyword\u001b[0m \u001b[1;33m=\u001b[0m \u001b[1;34m'%05d'\u001b[0m\u001b[1;33m%\u001b[0m\u001b[1;33m(\u001b[0m\u001b[0mc\u001b[0m\u001b[1;33m)\u001b[0m\u001b[1;33m\u001b[0m\u001b[0m\n\u001b[0;32m      8\u001b[0m         \u001b[1;32mprint\u001b[0m \u001b[0mkeyword\u001b[0m\u001b[1;33m\u001b[0m\u001b[0m\n\u001b[1;32m----> 9\u001b[1;33m         \u001b[0mtime\u001b[0m\u001b[1;33m.\u001b[0m\u001b[0msleep\u001b[0m\u001b[1;33m(\u001b[0m\u001b[1;36m1\u001b[0m\u001b[1;33m)\u001b[0m\u001b[1;33m\u001b[0m\u001b[0m\n\u001b[0m",
      "\u001b[1;31mKeyboardInterrupt\u001b[0m: "
     ],
     "output_type": "error"
    }
   ],
   "source": [
    "import math \n",
    "import random\n",
    "\n",
    "range_lists = [('000001','000999'), ('002001','002910'),('300001','300726'),('600000','603999')]\n",
    "for s,e in range_lists:\n",
    "    s,e = int( ( int(s)/10) ), int( ( int(e)/10) )\n",
    "    print s,e \n",
    "    for c in range(s,e):\n",
    "        keyword = '%05d'%(c)\n",
    "        print keyword\n",
    "        sleep_sec = random.random()*5\n",
    "        time.sleep(1)"
   ]
  },
  {
   "cell_type": "code",
   "execution_count": 33,
   "metadata": {
    "collapsed": true
   },
   "outputs": [],
   "source": [
    "import json \n",
    "import re \n",
    "import pandas as pd\n",
    "import numpy as np\n",
    "\n",
    "fd = open('./crawler/ezoption/ezo.json')\n",
    "\n",
    "ezo_df = pd.DataFrame()\n",
    "for line in fd.readlines():\n",
    "    line = line.strip('\\n')\n",
    "    if len(line) < 10: \n",
    "        continue\n",
    "    #print 'aaaa',line\n",
    "    \n",
    "    js = json.loads(line)\n",
    "    # print js['data']\n",
    "    js_str = json.dumps(js['data'])\n",
    "    js_df = pd.read_json(js_str, orient='records')\n",
    "    ezo_df = pd.concat([ezo_df, js_df], ignore_index=True)"
   ]
  },
  {
   "cell_type": "code",
   "execution_count": 41,
   "metadata": {},
   "outputs": [],
   "source": [
    "ezo_df.drop_duplicates(inplace=True)"
   ]
  },
  {
   "cell_type": "code",
   "execution_count": 65,
   "metadata": {
    "collapsed": true
   },
   "outputs": [],
   "source": [
    "vol_list=['week_volatility','month1_volatility','month3_volatility','month6_volatility','year_volatility']\n",
    "ezo_df['c_sigma'] = np.max(ezo_df[vol_list], axis=1)\n",
    "\n",
    "# ezo_df['c_sigma']\n",
    "ezo_df['c_S'] = ezo_df['close_price']\n",
    "ezo_df['c_K'] = ezo_df['close_price']\n",
    "ezo_df['c_r'] = 3.73 # 固定\n",
    "ezo_df['c_T'] = 2  # 2周"
   ]
  },
  {
   "cell_type": "code",
   "execution_count": 66,
   "metadata": {},
   "outputs": [
    {
     "data": {
      "text/plain": [
       "0    sh600011\n1    sh600110\n2    sh600111\n3    sh600112\n4    sh600113\n5    sh600114\n6    sh600115\n7    sh600116\n8    sh600117\n9    sh600118\nName: share_symbol, dtype: object"
      ]
     },
     "execution_count": 66,
     "metadata": {},
     "output_type": "execute_result"
    }
   ],
   "source": [
    "ezo_df['share_symbol']"
   ]
  },
  {
   "cell_type": "code",
   "execution_count": 67,
   "metadata": {
    "collapsed": true
   },
   "outputs": [
    {
     "name": "stdout",
     "output_type": "stream",
     "text": [
      "<class 'pandas.core.frame.DataFrame'>\nRangeIndex: 10 entries, 0 to 9\nData columns (total 19 columns):\nchg                   10 non-null float64\nclose_price           10 non-null float64\nhistory_volatility    10 non-null int64\nid                    10 non-null int64\nlast_close_price      10 non-null float64\nlisting_day           10 non-null object\nmonth1_volatility     10 non-null float64\nmonth3_volatility     10 non-null float64\nmonth6_volatility     10 non-null float64\nnmc                   10 non-null int64\nshare_code            10 non-null int64\nshare_market          10 non-null object\nshare_name            10 non-null object\nshare_pinyin          10 non-null object\nshare_symbol          10 non-null object\ntrade_day             10 non-null object\nupdated_at            10 non-null datetime64[ns]\nweek_volatility       10 non-null float64\nyear_volatility       10 non-null int64\ndtypes: datetime64[ns](1), float64(7), int64(5), object(6)\nmemory usage: 1.6+ KB\n"
     ]
    }
   ],
   "source": [
    "df.info()"
   ]
  },
  {
   "cell_type": "code",
   "execution_count": 70,
   "metadata": {},
   "outputs": [],
   "source": [
    "def gen_cal_url(row):\n",
    "    #query_url = 'http://apinew.ezoption.cn/pre_order/do_calculate?callback=callback&c_K=13.80&c_T=2&c_S=13.80&c_r=3.73&c_sigma=59.71&share_symbol=sh600111&type_b_r=55d083e33def6ca15494c670d3bd8972d5540a55c5635833151e083f29c716ec91db4913134a080bcbe29e7b60921c0ef77a76ef9c19fe06e94360dde26f7ad7835dfdf653fbde52&_=1509943988724'\n",
    "    #print query_url\n",
    "\n",
    "    cal_host='http://apinew.ezoption.cn/pre_order/do_calculate'\n",
    "    keyword='00291'\n",
    "    type_b_r='cn'\n",
    "    curr_time = str(long(time.time()*1000))\n",
    "    cal_url = '''%s?callback=callback&c_K=%.2f&c_T=%d&c_S=%.2f&c_r=%.2f&c_sigma=%.2f&share_symbol=%s&type_b_r=%s&_=%d'''%(cal_host,row['c_K'], row['c_T'], row['c_S'],row['c_r'],row['c_sigma'], row['share_symbol'],type_b_r, int(curr_time))\n",
    "    return cal_url"
   ]
  },
  {
   "cell_type": "code",
   "execution_count": 71,
   "metadata": {
    "collapsed": false
   },
   "outputs": [
    {
     "name": "stdout",
     "output_type": "stream",
     "text": [
      "http://apinew.ezoption.cn/pre_order/do_calculate?callback=callback&c_K=6.67&c_T=2&c_S=6.67&c_r=3.73&c_sigma=25.22&share_symbol=sh600011&type_b_r=cn&_=1509947116518\nhttp://apinew.ezoption.cn/pre_order/do_calculate?callback=callback&c_K=11.20&c_T=2&c_S=11.20&c_r=3.73&c_sigma=47.61&share_symbol=sh600110&type_b_r=cn&_=1509947116521\nhttp://apinew.ezoption.cn/pre_order/do_calculate?callback=callback&c_K=13.80&c_T=2&c_S=13.80&c_r=3.73&c_sigma=59.71&share_symbol=sh600111&type_b_r=cn&_=1509947116521\nhttp://apinew.ezoption.cn/pre_order/do_calculate?callback=callback&c_K=8.11&c_T=2&c_S=8.11&c_r=3.73&c_sigma=45.30&share_symbol=sh600112&type_b_r=cn&_=1509947116522\nhttp://apinew.ezoption.cn/pre_order/do_calculate?callback=callback&c_K=12.23&c_T=2&c_S=12.23&c_r=3.73&c_sigma=52.03&share_symbol=sh600113&type_b_r=cn&_=1509947116522\nhttp://apinew.ezoption.cn/pre_order/do_calculate?callback=callback&c_K=17.60&c_T=2&c_S=17.60&c_r=3.73&c_sigma=46.08&share_symbol=sh600114&type_b_r=cn&_=1509947116523\nhttp://apinew.ezoption.cn/pre_order/do_calculate?callback=callback&c_K=6.82&c_T=2&c_S=6.82&c_r=3.73&c_sigma=23.24&share_symbol=sh600115&type_b_r=cn&_=1509947116526\nhttp://apinew.ezoption.cn/pre_order/do_calculate?callback=callback&c_K=9.03&c_T=2&c_S=9.03&c_r=3.73&c_sigma=37.50&share_symbol=sh600116&type_b_r=cn&_=1509947116528\nhttp://apinew.ezoption.cn/pre_order/do_calculate?callback=callback&c_K=5.34&c_T=2&c_S=5.34&c_r=3.73&c_sigma=61.47&share_symbol=sh600117&type_b_r=cn&_=1509947116531\nhttp://apinew.ezoption.cn/pre_order/do_calculate?callback=callback&c_K=26.92&c_T=2&c_S=26.92&c_r=3.73&c_sigma=29.50&share_symbol=sh600118&type_b_r=cn&_=1509947116533\n"
     ]
    }
   ],
   "source": [
    "for i in range(ezo_df.shape[0]):\n",
    "    cal_url = gen_cal_url(ezo_df.iloc[i,:])\n",
    "    print cal_url"
   ]
  },
  {
   "cell_type": "markdown",
   "metadata": {},
   "source": [
    "        'c_S': '当前价格不能为空',\n",
    "        'c_K': '行权价格不能为空',\n",
    "        'c_T': '行权周期不能为空!',\n",
    "        'c_sigma': '波动率不能为空!',\n",
    "        'share_symbol': '标的股票不能为空!',\n",
    "        'type_b_r': '请刷新页面!'\n",
    "        "
   ]
  },
  {
   "cell_type": "code",
   "execution_count": 73,
   "metadata": {},
   "outputs": [
    {
     "name": "stdout",
     "output_type": "stream",
     "text": [
      "7569.57, 7.57\n"
     ]
    }
   ],
   "source": [
    "def std_hand_share2opt(share_price, goods_price):\n",
    "    return (100000 * ( goods_price / share_price ))\n",
    "\n",
    "#share_price = ezo_df['c_S']\n",
    "# 请求URL之后获得的结果\n",
    "#goods_price = cal_url_res  \n",
    "share_price = 13.80\n",
    "goods_price = 1.0446\n",
    "\n",
    "# 期权标准手估算价格/元\n",
    "std_result = std_hand_share2opt(share_price, goods_price)\n",
    "# 权利金比例/%\n",
    "pay_amount_rate = std_result / 100000 * 100\n",
    "\n",
    "print '%.2f, %.2f'%(std_result, pay_amount_rate)"
   ]
  },
  {
   "cell_type": "code",
   "execution_count": null,
   "metadata": {},
   "outputs": [],
   "source": [
    ""
   ]
  },
  {
   "cell_type": "code",
   "execution_count": null,
   "metadata": {},
   "outputs": [],
   "source": [
    ""
   ]
  }
 ],
 "metadata": {
  "kernelspec": {
   "display_name": "Python 2",
   "language": "python",
   "name": "python2"
  },
  "language_info": {
   "codemirror_mode": {
    "name": "ipython",
    "version": 2.0
   },
   "file_extension": ".py",
   "mimetype": "text/x-python",
   "name": "python",
   "nbconvert_exporter": "python",
   "pygments_lexer": "ipython2",
   "version": "2.7.6"
  }
 },
 "nbformat": 4,
 "nbformat_minor": 0
}