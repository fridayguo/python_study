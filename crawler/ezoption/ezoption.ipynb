{
 "cells": [
  {
   "cell_type": "code",
   "execution_count": 18,
   "metadata": {
    "collapsed": true
   },
   "outputs": [
    {
     "name": "stdout",
     "output_type": "stream",
     "text": [
      "1509894022520\nhttp://apinew.ezoption.cn/pre_order/all_share?callback=callback&keyword=00291&type_b_r=cn&_=1509894022\n"
     ]
    }
   ],
   "source": [
    "import requests\n",
    "import re \n",
    "import time \n",
    "# proxies  = {'http':'http://10.14.87.100:8080'}\n",
    "\n",
    "login_data={'username':'sssskull','password':'123456'}\n",
    "\n",
    "# url='http://apinew.ezoption.cn/pre_order/all_share?callback=callback&keyword=00291&type_b_r=cn&_=1509892283591'\n",
    "api_host='http://apinew.ezoption.cn/pre_order/all_share'\n",
    "url='http://apinew.ezoption.cn/pre_order/all_share?callback=callback&keyword=00291&type_b_r=cn&_=1509892283591'\n",
    "#login_url='http://www.heibanke.com/accounts/login/?next=/lesson/crawler_ex03/'\n",
    "#page_base_url= 'http://www.heibanke.com/lesson/crawler_ex03/pw_list/'\n",
    "keyword='00291'\n",
    "curr_time=time.time()\n",
    "query_url = '%s?callback=callback&keyword=%s&type_b_r=cn&_=%d' %(api_host, keyword, int(curr_time))\n",
    "print str(long(curr_time*1000))\n",
    "print query_url"
   ]
  },
  {
   "cell_type": "code",
   "execution_count": 74,
   "metadata": {},
   "outputs": [],
   "source": [
    "host_url='http://www.ezoption.cn/goods/diy'\n",
    "r=requests.get(host_url)\n",
    "c=r.cookies"
   ]
  },
  {
   "cell_type": "code",
   "execution_count": 76,
   "metadata": {
    "collapsed": true
   },
   "outputs": [
    {
     "name": "stdout",
     "output_type": "stream",
     "text": [
      "<RequestsCookieJar[<Cookie XSRF-TOKEN=eyJpdiI6ImdkYTB6MjRpUVNEMkRTRTBYOWMwWFE9PSIsInZhbHVlIjoia3hibklKYmgxeFBxQ2dsWFRsdjdKbW9ZUkpwd1Y3M3g5UnBDN0txbjdxNmdVQTRzTjhLRUtGT0ZEdmpsa21TZk9qcUlaRWw4bXZwU2VuNldqbE8wTXc9PSIsIm1hYyI6ImRhZjNhNjAzYTI5YTE3MTRiZWJlMDRiMmY4NWYzZTZlZjZhMDg5MGU5OTY5Yzg5NWFmMGFjMjFkZTcyNDExODgifQ%3D%3D for .ezoption.cn/>, <Cookie ez_access_token=23d6486dd11d1a3255214cdc3f9b6a1c for .ezoption.cn/>, <Cookie ez_useless_access_token=26c948cad12d7d5ace454e939c2deb4743e5a757d5a673bf3996d1a28e05f386 for .ezoption.cn/>, <Cookie ez_useless_access_token_d_c=f4e7e0fd3dde1b9973be2cdce9b95e7cb1965146477c25d2a1bb9e36fc46b834 for .ezoption.cn/>, <Cookie laravel_admin_session_production=eyJpdiI6IlVYNllQU05cL3JVTTVNVHZpUHJMMUhBPT0iLCJ2YWx1ZSI6IlJlczdUTlVDWUFieDZGTFQ2ekx6TTVqQWpBRDdDZUlHNjBjQ2U2YkcyZ05xa2ZXWG12M2VtbGdtd21aUHlNM3JvQjZMWUVHUHNNYitRdHVxS1R2NGhnPT0iLCJtYWMiOiJlN2U3OWMzNDk4ZjA5NzYyZjFkMWM4OWM2MTQzMGRjMjRiMTNiODI4ZTBjODBjNGU2ZTQ2NDBlYzAzZTZjOTY2In0%3D for .ezoption.cn/>]>\n"
     ]
    }
   ],
   "source": [
    "print r.cookies"
   ]
  },
  {
   "cell_type": "code",
   "execution_count": 77,
   "metadata": {},
   "outputs": [
    {
     "data": {
      "text/plain": [
       "<RequestsCookieJar[Cookie(version=0, name='XSRF-TOKEN', value='eyJpdiI6ImdkYTB6MjRpUVNEMkRTRTBYOWMwWFE9PSIsInZhbHVlIjoia3hibklKYmgxeFBxQ2dsWFRsdjdKbW9ZUkpwd1Y3M3g5UnBDN0txbjdxNmdVQTRzTjhLRUtGT0ZEdmpsa21TZk9qcUlaRWw4bXZwU2VuNldqbE8wTXc9PSIsIm1hYyI6ImRhZjNhNjAzYTI5YTE3MTRiZWJlMDRiMmY4NWYzZTZlZjZhMDg5MGU5OTY5Yzg5NWFmMGFjMjFkZTcyNDExODgifQ%3D%3D', port=None, port_specified=False, domain='.ezoption.cn', domain_specified=True, domain_initial_dot=False, path='/', path_specified=True, secure=False, expires=1509908144, discard=False, comment=None, comment_url=None, rest={}, rfc2109=False), Cookie(version=0, name='ez_access_token', value='23d6486dd11d1a3255214cdc3f9b6a1c', port=None, port_specified=False, domain='.ezoption.cn', domain_specified=True, domain_initial_dot=False, path='/', path_specified=True, secure=False, expires=1541436944, discard=False, comment=None, comment_url=None, rest={}, rfc2109=False), Cookie(version=0, name='ez_useless_access_token', value='26c948cad12d7d5ace454e939c2deb4743e5a757d5a673bf3996d1a28e05f386', port=None, port_specified=False, domain='.ezoption.cn', domain_specified=True, domain_initial_dot=False, path='/', path_specified=True, secure=False, expires=1512492944, discard=False, comment=None, comment_url=None, rest={}, rfc2109=False), Cookie(version=0, name='ez_useless_access_token_d_c', value='f4e7e0fd3dde1b9973be2cdce9b95e7cb1965146477c25d2a1bb9e36fc46b834', port=None, port_specified=False, domain='.ezoption.cn', domain_specified=True, domain_initial_dot=False, path='/', path_specified=True, secure=False, expires=1512492944, discard=False, comment=None, comment_url=None, rest={}, rfc2109=False), Cookie(version=0, name='laravel_admin_session_production', value='eyJpdiI6IlVYNllQU05cL3JVTTVNVHZpUHJMMUhBPT0iLCJ2YWx1ZSI6IlJlczdUTlVDWUFieDZGTFQ2ekx6TTVqQWpBRDdDZUlHNjBjQ2U2YkcyZ05xa2ZXWG12M2VtbGdtd21aUHlNM3JvQjZMWUVHUHNNYitRdHVxS1R2NGhnPT0iLCJtYWMiOiJlN2U3OWMzNDk4ZjA5NzYyZjFkMWM4OWM2MTQzMGRjMjRiMTNiODI4ZTBjODBjNGU2ZTQ2NDBlYzAzZTZjOTY2In0%3D', port=None, port_specified=False, domain='.ezoption.cn', domain_specified=True, domain_initial_dot=False, path='/', path_specified=True, secure=False, expires=1509908144, discard=False, comment=None, comment_url=None, rest={'httponly': None}, rfc2109=False)]>"
      ]
     },
     "execution_count": 77,
     "metadata": {},
     "output_type": "execute_result"
    }
   ],
   "source": [
    "c"
   ]
  },
  {
   "cell_type": "code",
   "execution_count": 45,
   "metadata": {},
   "outputs": [],
   "source": [
    "def gen_cookies_from_line(cookies_str):\n",
    "    cookies = {}\n",
    "    for line in cookies_str.split('\\n'):\n",
    "        line = line.strip(' ').strip('\\t')\n",
    "        if len(line) < 3:\n",
    "            continue\n",
    "        #print 'aa',line \n",
    "        key,val = line.split('=')\n",
    "        cookies[key]=val \n",
    "        \n",
    "    return cookies"
   ]
  },
  {
   "cell_type": "code",
   "execution_count": 86,
   "metadata": {
    "collapsed": false
   },
   "outputs": [
    {
     "name": "stdout",
     "output_type": "stream",
     "text": [
      "{'laravel_admin_session_production': 'eyJpdiI6IjFGYkVuMWN6VlJHSjBjMkxWYk02MUE9PSIsInZhbHVlIjoiSHUzREVubUtNdzNTUnNZc2pUQ1d2TzZxWFFMUUFYeU9XcDhoYjhLNzdaa1lrd1ZGNUd3SHpWNWhKM1R5T0xwREJpOFVcL05yd1h1Z1hkeG1ONExCNGZBPT0iLCJtYWMiOiIyNjMwYjMzYjg5ODJlYzgzZGM5NTk3ZjRiMWVhMTk1M2NiMGI4MTM1YTdiYzBlMjEwMWZjNjEyZDU1NWJmMjZjIn0%3D', 'ez_useless_access_token_d_c': 'f4e7e0fd3dde1b9973be2cdce9b95e7cb1965146477c25d2064831c6865efd33', 'ez_useless_access_token': '26c948cad12d7d5ace454e939c2deb47377e9efdcd681c622b64a1df9d55c143', 'ez_access_token': '99d49cabb4d63307c281aee06ecd8be5', 'XSRF-TOKEN': 'eyJpdiI6Im5oVWJnb2pYSGUxdUt0d3QwRUl1VEE9PSIsInZhbHVlIjoiQ2Q4c0VJck1IZEg5N0xWak4za0o5TnFEUU1BUUhUdWlFTHpLZkZXcDdkOFwvRlJPOTlLdFwvc09oVjNsMU81VGNqN0NDVGFBT2VTYlVxNzhFN3VoK3Fudz09IiwibWFjIjoiZTEwNzE2YzliYmYwZTYwMjhjZTI5YmM1MDYzOTY4ZWVhNzhkNTJjNmU2YjlhZDMyOTI1MmUyNmU1MzhjMzk4MiJ9'}\n"
     ]
    }
   ],
   "source": [
    "cookies_str='''\n",
    "\tez_useless_access_token=26c948cad12d7d5ace454e939c2deb47377e9efdcd681c622b64a1df9d55c143\n",
    "\tez_useless_access_token_d_c=f4e7e0fd3dde1b9973be2cdce9b95e7cb1965146477c25d2064831c6865efd33\n",
    "\tez_access_token=99d49cabb4d63307c281aee06ecd8be5\n",
    "\tXSRF-TOKEN=eyJpdiI6Im5oVWJnb2pYSGUxdUt0d3QwRUl1VEE9PSIsInZhbHVlIjoiQ2Q4c0VJck1IZEg5N0xWak4za0o5TnFEUU1BUUhUdWlFTHpLZkZXcDdkOFwvRlJPOTlLdFwvc09oVjNsMU81VGNqN0NDVGFBT2VTYlVxNzhFN3VoK3Fudz09IiwibWFjIjoiZTEwNzE2YzliYmYwZTYwMjhjZTI5YmM1MDYzOTY4ZWVhNzhkNTJjNmU2YjlhZDMyOTI1MmUyNmU1MzhjMzk4MiJ9\n",
    "laravel_admin_session_production=eyJpdiI6IjFGYkVuMWN6VlJHSjBjMkxWYk02MUE9PSIsInZhbHVlIjoiSHUzREVubUtNdzNTUnNZc2pUQ1d2TzZxWFFMUUFYeU9XcDhoYjhLNzdaa1lrd1ZGNUd3SHpWNWhKM1R5T0xwREJpOFVcL05yd1h1Z1hkeG1ONExCNGZBPT0iLCJtYWMiOiIyNjMwYjMzYjg5ODJlYzgzZGM5NTk3ZjRiMWVhMTk1M2NiMGI4MTM1YTdiYzBlMjEwMWZjNjEyZDU1NWJmMjZjIn0%3D\n",
    "\t        '''\n",
    "\n",
    "cookies = gen_cookies_from_line(cookies_str)\n",
    "print cookies"
   ]
  },
  {
   "cell_type": "code",
   "execution_count": 95,
   "metadata": {},
   "outputs": [
    {
     "name": "stdout",
     "output_type": "stream",
     "text": [
      "{'Referer': 'http://www.ezoption.cn/goods/diy', 'Accept-Language': 'zh-CN,zh;q=0.8', 'Accept-Encoding': 'gzip, deflate, sdch', 'User-Agent': 'Mozilla/5.0 (Windows NT 6.1;Win64; x64) AppleWebKit/537.36 (KHTML, like Gecko) Chrome/46.0.2490.86 Safari/537.36'}\n"
     ]
    }
   ],
   "source": [
    "header_str = '''\n",
    "user-agent: Mozilla/5.0 (Windows NT 6.1; Win64; x64) AppleWebKit/537.36 (KHTML, like Gecko) Chrome/46.0.2490.86 Safari/537.36\n",
    "Accept-Language: zh-CN,zh;q=0.8\n",
    "'''\n",
    "\n",
    "def gen_header_from_line(header_str):\n",
    "    header = {}\n",
    "    for line in header_str.split('\\n'):\n",
    "        line = line.strip('\\t')\n",
    "        if len(line) < 3:\n",
    "            continue\n",
    "        #print 'aa',line \n",
    "        key,val = line.split(':')\n",
    "        header[key]=val \n",
    "    return header\n",
    "        \n",
    "headers  = gen_header_from_line(header_str)\n",
    "\n",
    "headers = {\n",
    "    'User-Agent':'Mozilla/5.0 (Windows NT 6.1;Win64; x64) AppleWebKit/537.36 (KHTML, like Gecko) Chrome/46.0.2490.86 Safari/537.36',\n",
    "                 'Accept-Encoding': 'gzip, deflate, sdch',\n",
    "    'Accept-Language': 'zh-CN,zh;q=0.8',\n",
    "    'Referer': 'http://www.ezoption.cn/goods/diy'\n",
    "}\n",
    "print headers"
   ]
  },
  {
   "cell_type": "code",
   "execution_count": 92,
   "metadata": {},
   "outputs": [
    {
     "name": "stdout",
     "output_type": "stream",
     "text": [
      "{'laravel_admin_session_production': 'eyJpdiI6IjFGYkVuMWN6VlJHSjBjMkxWYk02MUE9PSIsInZhbHVlIjoiSHUzREVubUtNdzNTUnNZc2pUQ1d2TzZxWFFMUUFYeU9XcDhoYjhLNzdaa1lrd1ZGNUd3SHpWNWhKM1R5T0xwREJpOFVcL05yd1h1Z1hkeG1ONExCNGZBPT0iLCJtYWMiOiIyNjMwYjMzYjg5ODJlYzgzZGM5NTk3ZjRiMWVhMTk1M2NiMGI4MTM1YTdiYzBlMjEwMWZjNjEyZDU1NWJmMjZjIn0%3D', 'ez_useless_access_token_d_c': 'f4e7e0fd3dde1b9973be2cdce9b95e7cb1965146477c25d2064831c6865efd33', 'ez_useless_access_token': '26c948cad12d7d5ace454e939c2deb47377e9efdcd681c622b64a1df9d55c143', 'ez_access_token': '99d49cabb4d63307c281aee06ecd8be5', 'XSRF-TOKEN': 'eyJpdiI6Im5oVWJnb2pYSGUxdUt0d3QwRUl1VEE9PSIsInZhbHVlIjoiQ2Q4c0VJck1IZEg5N0xWak4za0o5TnFEUU1BUUhUdWlFTHpLZkZXcDdkOFwvRlJPOTlLdFwvc09oVjNsMU81VGNqN0NDVGFBT2VTYlVxNzhFN3VoK3Fudz09IiwibWFjIjoiZTEwNzE2YzliYmYwZTYwMjhjZTI5YmM1MDYzOTY4ZWVhNzhkNTJjNmU2YjlhZDMyOTI1MmUyNmU1MzhjMzk4MiJ9'}\n{'Accept-Language': 'zh-CN,zh;q=0.8', 'Accept-Encoding': 'gzip, deflate, sdch', 'user-agent': 'Mozilla/5.0 (Windows NT 6.1;Win64; x64) AppleWebKit/537.36 (KHTML, like Gecko) Chrome/46.0.2490.86 Safari/537.36'}\n"
     ]
    }
   ],
   "source": [
    "#cookies = r.cookies\n",
    "print cookies\n",
    "print headers"
   ]
  },
  {
   "cell_type": "code",
   "execution_count": 98,
   "metadata": {
    "collapsed": true
   },
   "outputs": [
    {
     "name": "stdout",
     "output_type": "stream",
     "text": [
      "1509902126736\nhttp://apinew.ezoption.cn//pre_order/all_share?callback=callback&keyword=0021&type_b_r=cn&_=1509900859950\n"
     ]
    }
   ],
   "source": [
    "#r =requests.get(url, proxies=proxies)\n",
    "api_host='http://apinew.ezoption.cn/pre_order/all_share'\n",
    "keyword='00291'\n",
    "type_b_r='26c948cad12d7d5a81c5323a55e3c4a9c3ec80d412e5b5762450d030fa82587'\n",
    "type_b_r='cn'\n",
    "curr_time = str(long(time.time()*1000))\n",
    "query_url = '%s?callback=callback&keyword=%s&type_b_r=%s&_=%s' \\\n",
    "            %(api_host, keyword, type_b_r, curr_time)\n",
    "print curr_time\n",
    "#query_url='http://apinew.ezoption.cn/pre_order/all_share?callback=callback&keyword=023&type_b_r=cn&_=1509898978888'\n",
    "query_url='http://apinew.ezoption.cn//pre_order/all_share?callback=callback&keyword=0021&type_b_r=cn&_=1509900859950'\n",
    "\n",
    "print query_url"
   ]
  },
  {
   "cell_type": "code",
   "execution_count": 99,
   "metadata": {},
   "outputs": [
    {
     "name": "stdout",
     "output_type": "stream",
     "text": [
      "/**/callback({\"code\":0,\"msg\":\"success\",\"data\":[{\"id\":16,\"share_symbol\":\"sh600021\",\"share_code\":\"600021\",\"share_pinyin\":\"shdl\",\"share_market\":\"sh\",\"share_name\":\"\\u4e0a\\u6d77\\u7535\\u529b\",\"close_price\":\"10.92\",\"last_close_price\":\"11.48\",\"week_volatility\":\"8.48\",\"month1_volatility\":\"15.50\",\"month3_volatility\":\"13.75\",\"month6_volatility\":\"29.31\",\"history_volatility\":\"29.31\",\"year_volatility\":\"0.00\",\"chg\":\"-0.0082\",\"nmc\":233,\"trade_day\":\"2017-11-05 00:00:00\",\"listing_day\":\"2003-10-29 00:00:00\",\"updated_at\":\"2017-11-05 15:25:06\"},{\"id\":175,\"share_symbol\":\"sh600210\",\"share_code\":\"600210\",\"share_pinyin\":\"zjqy\",\"share_market\":\"sh\",\"share_name\":\"\\u7d2b\\u6c5f\\u4f01\\u4e1a\",\"close_price\":\"5.59\",\"last_close_price\":\"0.00\",\"week_volatility\":\"30.73\",\"month1_volatility\":\"24.70\",\"month3_volatility\":\"30.58\",\"month6_volatility\":\"37.41\",\"history_volatility\":\"0.00\",\"year_volatility\":\"0.00\",\"chg\":\"-0.0176\",\"nmc\":80,\"trade_day\":\"2017-11-05 00:00:00\",\"listing_day\":\"1999-08-24 00:00:00\",\"updated_at\":\"2017-11-05 15:25:17\"},{\"id\":176,\"share_symbol\":\"sh600211\",\"share_code\":\"600211\",\"share_pinyin\":\"xzyy\",\"share_market\":\"sh\",\"share_name\":\"\\u897f\\u85cf\\u836f\\u4e1a\",\"close_price\":\"39.19\",\"last_close_price\":\"0.00\",\"week_volatility\":\"14.25\",\"month1_volatility\":\"30.88\",\"month3_volatility\":\"29.04\",\"month6_volatility\":\"28.85\",\"history_volatility\":\"0.00\",\"year_volatility\":\"0.00\",\"chg\":\"0.0023\",\"nmc\":57,\"trade_day\":\"2017-11-05 00:00:00\",\"listing_day\":\"1999-07-21 00:00:00\",\"updated_at\":\"2017-11-05 15:25:17\"},{\"id\":177,\"share_symbol\":\"sh600212\",\"share_code\":\"600212\",\"share_pinyin\":\"jqsy\",\"share_market\":\"sh\",\"share_name\":\"\\u6c5f\\u6cc9\\u5b9e\\u4e1a\",\"close_price\":\"10.87\",\"last_close_price\":\"0.00\",\"week_volatility\":\"45.11\",\"month1_volatility\":\"49.84\",\"month3_volatility\":\"54.94\",\"month6_volatility\":\"55.07\",\"history_volatility\":\"0.00\",\"year_volatility\":\"0.00\",\"chg\":\"-0.0531\",\"nmc\":55,\"trade_day\":\"2017-11-05 00:00:00\",\"listing_day\":\"1999-08-17 00:00:00\",\"updated_at\":\"2017-11-05 15:25:17\"},{\"id\":178,\"share_symbol\":\"sh600213\",\"share_code\":\"600213\",\"share_pinyin\":\"yxkc\",\"share_market\":\"sh\",\"share_name\":\"\\u4e9a\\u661f\\u5ba2\\u8f66\",\"close_price\":\"10.80\",\"last_close_price\":\"0.00\",\"week_volatility\":\"47.16\",\"month1_volatility\":\"56.94\",\"month3_volatility\":\"51.66\",\"month6_volatility\":\"48.72\",\"history_volatility\":\"0.00\",\"year_volatility\":\"0.00\",\"chg\":\"-0.0182\",\"nmc\":23,\"trade_day\":\"2017-11-05 00:00:00\",\"listing_day\":\"1999-08-31 00:00:00\",\"updated_at\":\"2017-11-05 15:25:17\"},{\"id\":179,\"share_symbol\":\"sh600215\",\"share_code\":\"600215\",\"share_pinyin\":\"ccjk\",\"share_market\":\"sh\",\"share_name\":\"\\u957f\\u6625\\u7ecf\\u5f00\",\"close_price\":\"10.34\",\"last_close_price\":\"0.00\",\"week_volatility\":\"35.81\",\"month1_volatility\":\"35.40\",\"month3_volatility\":\"25.84\",\"month6_volatility\":\"40.18\",\"history_volatility\":\"0.00\",\"year_volatility\":\"0.00\",\"chg\":\"0.0248\",\"nmc\":48,\"trade_day\":\"2017-11-05 00:00:00\",\"listing_day\":\"1999-09-09 00:00:00\",\"updated_at\":\"2017-11-05 15:25:17\"},{\"id\":180,\"share_symbol\":\"sh600216\",\"share_code\":\"600216\",\"share_pinyin\":\"zjyy\",\"share_market\":\"sh\",\"share_name\":\"\\u6d59\\u6c5f\\u533b\\u836f\",\"close_price\":\"10.36\",\"last_close_price\":\"0.00\",\"week_volatility\":\"24.18\",\"month1_volatility\":\"29.52\",\"month3_volatility\":\"28.76\",\"month6_volatility\":\"31.91\",\"history_volatility\":\"0.00\",\"year_volatility\":\"0.00\",\"chg\":\"0.0029\",\"nmc\":98,\"trade_day\":\"2017-11-05 00:00:00\",\"listing_day\":\"1999-10-21 00:00:00\",\"updated_at\":\"2017-11-05 15:25:18\"},{\"id\":181,\"share_symbol\":\"sh600217\",\"share_code\":\"600217\",\"share_pinyin\":\"zzzh\",\"share_market\":\"sh\",\"share_name\":\"\\u4e2d\\u518d\\u8d44\\u73af\",\"close_price\":\"6.37\",\"last_close_price\":\"0.00\",\"week_volatility\":\"38.53\",\"month1_volatility\":\"39.11\",\"month3_volatility\":\"46.64\",\"month6_volatility\":\"46.13\",\"history_volatility\":\"0.00\",\"year_volatility\":\"0.00\",\"chg\":\"0.0016\",\"nmc\":45,\"trade_day\":\"2017-11-05 00:00:00\",\"listing_day\":\"1999-12-16 00:00:00\",\"updated_at\":\"2017-11-05 15:25:18\"},{\"id\":182,\"share_symbol\":\"sh600218\",\"share_code\":\"600218\",\"share_pinyin\":\"qcdl\",\"share_market\":\"sh\",\"share_name\":\"\\u5168\\u67f4\\u52a8\\u529b\",\"close_price\":\"8.22\",\"last_close_price\":\"0.00\",\"week_volatility\":\"32.62\",\"month1_volatility\":\"25.22\",\"month3_volatility\":\"20.83\",\"month6_volatility\":\"27.84\",\"history_volatility\":\"0.00\",\"year_volatility\":\"0.00\",\"chg\":\"-0.0156\",\"nmc\":30,\"trade_day\":\"2017-11-05 00:00:00\",\"listing_day\":\"1998-12-03 00:00:00\",\"updated_at\":\"2017-11-05 15:25:18\"},{\"id\":183,\"share_symbol\":\"sh600219\",\"share_code\":\"600219\",\"share_pinyin\":\"nsly\",\"share_market\":\"sh\",\"share_name\":\"\\u5357\\u5c71\\u94dd\\u4e1a\",\"close_price\":\"3.83\",\"last_close_price\":\"0.00\",\"week_volatility\":\"13.44\",\"month1_volatility\":\"17.09\",\"month3_volatility\":\"47.17\",\"month6_volatility\":\"37.30\",\"history_volatility\":\"0.00\",\"year_volatility\":\"0.00\",\"chg\":\"-0.0103\",\"nmc\":271,\"trade_day\":\"2017-11-05 00:00:00\",\"listing_day\":\"1999-12-23 00:00:00\",\"updated_at\":\"2017-11-05 15:25:18\"}]});\n"
     ]
    }
   ],
   "source": [
    "r=requests.get(query_url, headers=headers, cookies=cookies)\n",
    "print r.text"
   ]
  },
  {
   "cell_type": "code",
   "execution_count": 73,
   "metadata": {},
   "outputs": [
    {
     "name": "stdout",
     "output_type": "stream",
     "text": [
      "{'X-RateLimit-Remaining': '59', 'X-Powered-By': 'PHP/5.6.30', 'Set-Cookie': 'laravel_admin_session_production=eyJpdiI6IkpHOGJXdGpoUGtXNXNvZEFIREY3d0E9PSIsInZhbHVlIjoiYlwvOWl4RWJqV2pkZ3E0Q2dwWUZaQ29vVnZ4dGpGZFhlU0VZTGVsQWpjQVluR2ZXbkhwQVNrck9iU3lLckVocGVjMzJJaXl2SThlQXpId0F4dTd5OFwvZz09IiwibWFjIjoiY2Y2YWZjYmI0NmU2ZDM1MjYwZjdhNTFkZGUyYTY4MzMwMDM4ZjM2Yzk5ZWEwODYyNjc4NzE2OTExZDhjNmY4MyJ9; expires=Sun, 05-Nov-2017 18:51:54 GMT; Max-Age=7200; path=/; domain=ezoption.cn; httponly', 'Content-Length': '58', 'Server': 'nginx/1.10.2', 'Connection': 'keep-alive', 'X-RateLimit-Limit': '60', 'Cache-Control': 'no-cache', 'Date': 'Sun, 05 Nov 2017 16:51:54 GMT', 'Content-Type': 'text/javascript; charset=UTF-8'}\n"
     ]
    }
   ],
   "source": [
    "print r.headers"
   ]
  },
  {
   "cell_type": "code",
   "execution_count": 10,
   "metadata": {},
   "outputs": [],
   "source": [
    "r=requests.get(query_url, cookies=c)"
   ]
  },
  {
   "cell_type": "code",
   "execution_count": null,
   "metadata": {},
   "outputs": [],
   "source": [
    ""
   ]
  },
  {
   "cell_type": "code",
   "execution_count": null,
   "metadata": {},
   "outputs": [],
   "source": [
    ""
   ]
  },
  {
   "cell_type": "code",
   "execution_count": 102,
   "metadata": {},
   "outputs": [
    {
     "name": "stdout",
     "output_type": "stream",
     "text": [
      "{'Referer': 'http://www.ezoption.cn/goods/diy', 'Accept-Language': 'zh-CN,zh;q=0.8', 'Accept-Encoding': 'gzip, deflate, sdch', 'User-Agent': 'Mozilla/5.0 (Windows NT 6.1;Win64; x64) AppleWebKit/537.36 (KHTML, like Gecko) Chrome/46.0.2490.86 Safari/537.36'}\n"
     ]
    }
   ],
   "source": [
    "headers = {\n",
    "    'User-Agent':'Mozilla/5.0 (Windows NT 6.1;Win64; x64) AppleWebKit/537.36 (KHTML, like Gecko) Chrome/46.0.2490.86 Safari/537.36',\n",
    "                 'Accept-Encoding': 'gzip, deflate, sdch',\n",
    "    'Accept-Language': 'zh-CN,zh;q=0.8',\n",
    "    'Referer': 'http://www.ezoption.cn/goods/diy'\n",
    "}\n",
    "print headers"
   ]
  },
  {
   "cell_type": "code",
   "execution_count": 132,
   "metadata": {},
   "outputs": [
    {
     "name": "stdout",
     "output_type": "stream",
     "text": [
      "<RequestsCookieJar[<Cookie XSRF-TOKEN=eyJpdiI6InUyVUljNGRtWVZEa3N4MSt1TTMwaUE9PSIsInZhbHVlIjoiRjhaN3MwN1BlWFBIWXg2QXU4U2l2eDBVaWZtN0l4bE1wTHJGbnJVOENOcUhKMjNqQUdaYURXdWF2ZlhhRVpQejFYeTBSSWFhbldKT1hDZWMxOWNtN2c9PSIsIm1hYyI6ImNmNzAwMWVlYmNkMzgwNjZiOGY2NjYwNzUzN2FjOTkzMWE0ZWNjMWY0MDhiNDhjNWYwOTEwZDMyN2U5OGM1NzcifQ%3D%3D for .ezoption.cn/>, <Cookie ez_access_token=1b21da10ec0be0f0a3ddb742c086aa1c for .ezoption.cn/>, <Cookie ez_useless_access_token=26c948cad12d7d5ace454e939c2deb47fe557c520b28fde9e73582886074756e for .ezoption.cn/>, <Cookie ez_useless_access_token_d_c=f4e7e0fd3dde1b9973be2cdce9b95e7cb1965146477c25d2532164f0613e7398 for .ezoption.cn/>, <Cookie laravel_admin_session_production=eyJpdiI6ImtPdlFVbVJPMmJ0czJYOGFkQytLVHc9PSIsInZhbHVlIjoiZUVTZUg3MitiQmhqWENRRXdncit0Ykd3ZDdxUk8wbEcwU2hZVUFOa1BGU25GQk5jMStTRFJ3NUhcL2poUk1jWlJremxxRWxZWTZ5cEE5MHlpRWh4ZHZnPT0iLCJtYWMiOiJmNGI3NGVjMWU3YTEyZDBiYjhhNmQzZGFlMzUxOGNmNTY3YjBkYTlmZTFlNWMzNjIwMDJiYWNhMjk0MzgwM2M2In0%3D for .ezoption.cn/>]>\n"
     ]
    }
   ],
   "source": [
    "host_url='http://www.ezoption.cn/goods/diy'\n",
    "r=requests.get(host_url)\n",
    "cookies =r.cookies\n",
    "print cookies"
   ]
  },
  {
   "cell_type": "code",
   "execution_count": 135,
   "metadata": {
    "collapsed": false
   },
   "outputs": [
    {
     "name": "stdout",
     "output_type": "stream",
     "text": [
      "1509903510780\nhttp://apinew.ezoption.cn/pre_order/all_share?callback=callback&keyword=30073&type_b_r=cn&_=1509903510780\n{'Referer': 'http://www.ezoption.cn/goods/diy', 'Accept-Language': 'zh-CN,zh;q=0.8', 'Accept-Encoding': 'gzip, deflate, sdch', 'User-Agent': 'Mozilla/5.0 (Windows NT 6.1;Win64; x64) AppleWebKit/537.36 (KHTML, like Gecko) Chrome/46.0.2490.86 Safari/537.36'}\n<RequestsCookieJar[<Cookie XSRF-TOKEN=eyJpdiI6InUyVUljNGRtWVZEa3N4MSt1TTMwaUE9PSIsInZhbHVlIjoiRjhaN3MwN1BlWFBIWXg2QXU4U2l2eDBVaWZtN0l4bE1wTHJGbnJVOENOcUhKMjNqQUdaYURXdWF2ZlhhRVpQejFYeTBSSWFhbldKT1hDZWMxOWNtN2c9PSIsIm1hYyI6ImNmNzAwMWVlYmNkMzgwNjZiOGY2NjYwNzUzN2FjOTkzMWE0ZWNjMWY0MDhiNDhjNWYwOTEwZDMyN2U5OGM1NzcifQ%3D%3D for .ezoption.cn/>, <Cookie ez_access_token=1b21da10ec0be0f0a3ddb742c086aa1c for .ezoption.cn/>, <Cookie ez_useless_access_token=26c948cad12d7d5ace454e939c2deb47fe557c520b28fde9e73582886074756e for .ezoption.cn/>, <Cookie ez_useless_access_token_d_c=f4e7e0fd3dde1b9973be2cdce9b95e7cb1965146477c25d2532164f0613e7398 for .ezoption.cn/>, <Cookie laravel_admin_session_production=eyJpdiI6ImtPdlFVbVJPMmJ0czJYOGFkQytLVHc9PSIsInZhbHVlIjoiZUVTZUg3MitiQmhqWENRRXdncit0Ykd3ZDdxUk8wbEcwU2hZVUFOa1BGU25GQk5jMStTRFJ3NUhcL2poUk1jWlJremxxRWxZWTZ5cEE5MHlpRWh4ZHZnPT0iLCJtYWMiOiJmNGI3NGVjMWU3YTEyZDBiYjhhNmQzZGFlMzUxOGNmNTY3YjBkYTlmZTFlNWMzNjIwMDJiYWNhMjk0MzgwM2M2In0%3D for .ezoption.cn/>]>\n"
     ]
    }
   ],
   "source": [
    "api_host='http://apinew.ezoption.cn/pre_order/all_share'\n",
    "keyword='30073'\n",
    "type_b_r='26c948cad12d7d5a81c5323a55e3c4a9c3ec80d412e5b5762450d030fa82587'\n",
    "type_b_r='cn'\n",
    "curr_time = str(long(time.time()*1000))\n",
    "query_url = '%s?callback=callback&keyword=%s&type_b_r=%s&_=%s' \\\n",
    "            %(api_host, keyword, type_b_r, curr_time)\n",
    "print curr_time\n",
    "#query_url='http://apinew.ezoption.cn/pre_order/all_share?callback=callback&keyword=023&type_b_r=cn&_=1509898978888'\n",
    "# query_url='http://apinew.ezoption.cn//pre_order/all_share?callback=callback&keyword=0021&type_b_r=cn&_=1509900859950'\n",
    "\n",
    "print query_url\n",
    "print headers\n",
    "print cookies"
   ]
  },
  {
   "cell_type": "code",
   "execution_count": 151,
   "metadata": {},
   "outputs": [
    {
     "name": "stdout",
     "output_type": "stream",
     "text": [
      "/**/callback({\"code\":5,\"msg\":\"\\u8bf7\\u5237\\u65b0\\u9875\\u9762!\",\"data\":[]});\n"
     ]
    }
   ],
   "source": [
    "r=requests.get(query_url, headers=headers, cookies=cookies)\n",
    "print r.text"
   ]
  },
  {
   "cell_type": "code",
   "execution_count": 111,
   "metadata": {},
   "outputs": [
    {
     "name": "stdout",
     "output_type": "stream",
     "text": [
      "{\"code\":0,\"msg\":\"success\",\"data\":[{\"id\":246,\"share_symbol\":\"sh600291\",\"share_code\":\"600291\",\"share_pinyin\":\"xsgf\",\"share_market\":\"sh\",\"share_name\":\"\\u897f\\u6c34\\u80a1\\u4efd\",\"close_price\":\"25.25\",\"last_close_price\":\"30.88\",\"week_volatility\":\"46.29\",\"month1_volatility\":\"48.35\",\"month3_volatility\":\"62.46\",\"month6_volatility\":\"71.60\",\"history_volatility\":\"0.00\",\"year_volatility\":\"0.00\",\"chg\":\"-0.0407\",\"nmc\":247,\"trade_day\":\"2017-11-05 00:00:00\",\"listing_day\":\"2000-07-31 00:00:00\",\"updated_at\":\"2017-11-05 15:25:23\"},{\"id\":2995,\"share_symbol\":\"sz300291\",\"share_code\":\"300291\",\"share_pinyin\":\"hlbn\",\"share_market\":\"sz\",\"share_name\":\"\\u534e\\u5f55\\u767e\\u7eb3\",\"close_price\":\"13.47\",\"last_close_price\":\"0.00\",\"week_volatility\":\"46.40\",\"month1_volatility\":\"57.28\",\"month3_volatility\":\"39.66\",\"month6_volatility\":\"34.39\",\"history_volatility\":\"0.00\",\"year_volatility\":\"0.00\",\"chg\":\"0.0128\",\"nmc\":67,\"trade_day\":\"2017-11-05 00:00:00\",\"listing_day\":\"2012-02-09 00:00:00\",\"updated_at\":\"2017-11-05 15:25:30\"}]}\n{u'msg': u'success', u'code': 0, u'data': [{u'share_symbol': u'sh600291', u'month1_volatility': u'48.35', u'share_name': u'\\u897f\\u6c34\\u80a1\\u4efd', u'trade_day': u'2017-11-05 00:00:00', u'share_code': u'600291', u'chg': u'-0.0407', u'history_volatility': u'0.00', u'updated_at': u'2017-11-05 15:25:23', u'month6_volatility': u'71.60', u'nmc': 247, u'last_close_price': u'30.88', u'year_volatility': u'0.00', u'week_volatility': u'46.29', u'listing_day': u'2000-07-31 00:00:00', u'share_market': u'sh', u'close_price': u'25.25', u'month3_volatility': u'62.46', u'id': 246, u'share_pinyin': u'xsgf'}, {u'share_symbol': u'sz300291', u'month1_volatility': u'57.28', u'share_name': u'\\u534e\\u5f55\\u767e\\u7eb3', u'trade_day': u'2017-11-05 00:00:00', u'share_code': u'300291', u'chg': u'0.0128', u'history_volatility': u'0.00', u'updated_at': u'2017-11-05 15:25:30', u'month6_volatility': u'34.39', u'nmc': 67, u'last_close_price': u'0.00', u'year_volatility': u'0.00', u'week_volatility': u'46.40', u'listing_day': u'2012-02-09 00:00:00', u'share_market': u'sz', u'close_price': u'13.47', u'month3_volatility': u'39.66', u'id': 2995, u'share_pinyin': u'hlbn'}]}\n"
     ]
    }
   ],
   "source": [
    "import json \n",
    "import re \n",
    "res = re.match(r'\\/\\*\\*\\/callback\\((.*)\\);$', r.text)\n",
    "print res.group(1)\n",
    "js = json.loads(res.group(1))\n",
    "print js"
   ]
  },
  {
   "cell_type": "code",
   "execution_count": 113,
   "metadata": {
    "collapsed": true
   },
   "outputs": [
    {
     "data": {
      "text/plain": [
       "[{u'chg': u'-0.0407',\n  u'close_price': u'25.25',\n  u'history_volatility': u'0.00',\n  u'id': 246,\n  u'last_close_price': u'30.88',\n  u'listing_day': u'2000-07-31 00:00:00',\n  u'month1_volatility': u'48.35',\n  u'month3_volatility': u'62.46',\n  u'month6_volatility': u'71.60',\n  u'nmc': 247,\n  u'share_code': u'600291',\n  u'share_market': u'sh',\n  u'share_name': u'\\u897f\\u6c34\\u80a1\\u4efd',\n  u'share_pinyin': u'xsgf',\n  u'share_symbol': u'sh600291',\n  u'trade_day': u'2017-11-05 00:00:00',\n  u'updated_at': u'2017-11-05 15:25:23',\n  u'week_volatility': u'46.29',\n  u'year_volatility': u'0.00'},\n {u'chg': u'0.0128',\n  u'close_price': u'13.47',\n  u'history_volatility': u'0.00',\n  u'id': 2995,\n  u'last_close_price': u'0.00',\n  u'listing_day': u'2012-02-09 00:00:00',\n  u'month1_volatility': u'57.28',\n  u'month3_volatility': u'39.66',\n  u'month6_volatility': u'34.39',\n  u'nmc': 67,\n  u'share_code': u'300291',\n  u'share_market': u'sz',\n  u'share_name': u'\\u534e\\u5f55\\u767e\\u7eb3',\n  u'share_pinyin': u'hlbn',\n  u'share_symbol': u'sz300291',\n  u'trade_day': u'2017-11-05 00:00:00',\n  u'updated_at': u'2017-11-05 15:25:30',\n  u'week_volatility': u'46.40',\n  u'year_volatility': u'0.00'}]"
      ]
     },
     "execution_count": 113,
     "metadata": {},
     "output_type": "execute_result"
    }
   ],
   "source": [
    "js['data']"
   ]
  },
  {
   "cell_type": "code",
   "execution_count": 116,
   "metadata": {},
   "outputs": [],
   "source": [
    "fd = open('./crawler/ezoption/epo.json','a')\n",
    "fd.write(res.group(1))\n",
    "fd.close()"
   ]
  },
  {
   "cell_type": "code",
   "execution_count": 118,
   "metadata": {},
   "outputs": [
    {
     "ename": "TypeError",
     "evalue": "range() integer end argument expected, got str.",
     "traceback": [
      "\u001b[1;31m\u001b[0m",
      "\u001b[1;31mTypeError\u001b[0mTraceback (most recent call last)",
      "\u001b[1;32m<ipython-input-118-3bdcaa39a259>\u001b[0m in \u001b[0;36m<module>\u001b[1;34m()\u001b[0m\n\u001b[1;32m----> 1\u001b[1;33m \u001b[1;32mfor\u001b[0m \u001b[0mi\u001b[0m \u001b[1;32min\u001b[0m \u001b[0mrange\u001b[0m\u001b[1;33m(\u001b[0m\u001b[1;34m'00000'\u001b[0m\u001b[1;33m,\u001b[0m\u001b[1;34m'00099'\u001b[0m\u001b[1;33m)\u001b[0m\u001b[1;33m:\u001b[0m\u001b[1;33m\u001b[0m\u001b[0m\n\u001b[0m\u001b[0;32m      2\u001b[0m     \u001b[1;32mprint\u001b[0m \u001b[0mi\u001b[0m\u001b[1;33m\u001b[0m\u001b[0m\n",
      "\u001b[1;31mTypeError\u001b[0m: range() integer end argument expected, got str."
     ],
     "output_type": "error"
    }
   ],
   "source": [
    "for i in range('00000','00099'):\n",
    "    print i"
   ]
  },
  {
   "cell_type": "code",
   "execution_count": 149,
   "metadata": {
    "collapsed": true
   },
   "outputs": [
    {
     "name": "stdout",
     "output_type": "stream",
     "text": [
      "0 99\n00000\n"
     ]
    },
    {
     "name": "stdout",
     "output_type": "stream",
     "text": [
      "00001\n"
     ]
    },
    {
     "name": "stdout",
     "output_type": "stream",
     "text": [
      "00002\n"
     ]
    },
    {
     "name": "stdout",
     "output_type": "stream",
     "text": [
      "00003\n"
     ]
    },
    {
     "name": "stdout",
     "output_type": "stream",
     "text": [
      "00004\n"
     ]
    },
    {
     "name": "stdout",
     "output_type": "stream",
     "text": [
      "00005\n"
     ]
    },
    {
     "ename": "KeyboardInterrupt",
     "evalue": "",
     "traceback": [
      "\u001b[1;31m\u001b[0m",
      "\u001b[1;31mKeyboardInterrupt\u001b[0mTraceback (most recent call last)",
      "\u001b[1;32m<ipython-input-149-7903bcda640c>\u001b[0m in \u001b[0;36m<module>\u001b[1;34m()\u001b[0m\n\u001b[0;32m      7\u001b[0m         \u001b[0mkeyword\u001b[0m \u001b[1;33m=\u001b[0m \u001b[1;34m'%05d'\u001b[0m\u001b[1;33m%\u001b[0m\u001b[1;33m(\u001b[0m\u001b[0mc\u001b[0m\u001b[1;33m)\u001b[0m\u001b[1;33m\u001b[0m\u001b[0m\n\u001b[0;32m      8\u001b[0m         \u001b[1;32mprint\u001b[0m \u001b[0mkeyword\u001b[0m\u001b[1;33m\u001b[0m\u001b[0m\n\u001b[1;32m----> 9\u001b[1;33m         \u001b[0mtime\u001b[0m\u001b[1;33m.\u001b[0m\u001b[0msleep\u001b[0m\u001b[1;33m(\u001b[0m\u001b[1;36m1\u001b[0m\u001b[1;33m)\u001b[0m\u001b[1;33m\u001b[0m\u001b[0m\n\u001b[0m",
      "\u001b[1;31mKeyboardInterrupt\u001b[0m: "
     ],
     "output_type": "error"
    }
   ],
   "source": [
    "import math \n",
    "import random\n",
    "\n",
    "range_lists = [('000001','000999'), ('002001','002910'),('300001','300726'),('600000','603999')]\n",
    "for s,e in range_lists:\n",
    "    s,e = int( ( int(s)/10) ), int( ( int(e)/10) )\n",
    "    print s,e \n",
    "    for c in range(s,e):\n",
    "        keyword = '%05d'%(c)\n",
    "        print keyword\n",
    "        sleep_sec = random.random()*5\n",
    "        time.sleep(1)"
   ]
  },
  {
   "cell_type": "code",
   "execution_count": null,
   "metadata": {},
   "outputs": [],
   "source": [
    ""
   ]
  }
 ],
 "metadata": {
  "kernelspec": {
   "display_name": "Python 2",
   "language": "python",
   "name": "python2"
  },
  "language_info": {
   "codemirror_mode": {
    "name": "ipython",
    "version": 2.0
   },
   "file_extension": ".py",
   "mimetype": "text/x-python",
   "name": "python",
   "nbconvert_exporter": "python",
   "pygments_lexer": "ipython2",
   "version": "2.7.6"
  }
 },
 "nbformat": 4,
 "nbformat_minor": 0
}