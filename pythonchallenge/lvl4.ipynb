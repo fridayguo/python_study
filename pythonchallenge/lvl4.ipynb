{
 "cells": [
  {
   "cell_type": "markdown",
   "metadata": {
    "collapsed": true
   },
   "source": [
    "## 4 \n",
    "http://www.pythonchallenge.com/pc/def/linkedlist.php"
   ]
  },
  {
   "cell_type": "markdown",
   "metadata": {},
   "source": [
    "http://www.pythonchallenge.com/pc/def/linkedlist.php?nothing=12345\n",
    "> and the next nothing is 44827\n",
    "\n",
    "http://www.pythonchallenge.com/pc/def/linkedlist.php?nothing=16044\n",
    "> Yes. Divide by two and keep going"
   ]
  },
  {
   "cell_type": "code",
   "execution_count": 13,
   "metadata": {},
   "outputs": [
    {
     "name": "stdout",
     "output_type": "stream",
     "text": [
      "66831\npeak.html\n"
     ]
    }
   ],
   "source": [
    "import requests\n",
    "import re \n",
    "proxies  = {'http':'http://10.14.87.100:8080'}\n",
    "base_url='http://www.pythonchallenge.com/pc/def/linkedlist.php?nothing='\n",
    "\n",
    "num='8022'\n",
    "while len(num)>0:\n",
    "    url = base_url + str(num)\n",
    "    r=requests.get(url, proxies=proxies)\n",
    "    next_num = re.findall('nothing is (\\d*)', r.text)\n",
    "    if len(next_num) == 0:\n",
    "        print num\n",
    "        print r.text\n",
    "        break\n",
    "    num = next_num[0]"
   ]
  },
  {
   "cell_type": "markdown",
   "metadata": {
    "collapsed": true
   },
   "source": [
    "## 5 \n",
    "http://www.pythonchallenge.com/pc/def/peak.html\n"
   ]
  },
  {
   "cell_type": "code",
   "execution_count": 16,
   "metadata": {
    "collapsed": true
   },
   "outputs": [
    {
     "data": {
      "text/plain": [
       "u\"(lp0\\n(lp1\\n(S' '\\np2\\nI95\\ntp3\\naa(lp4\\n(g2\\nI14\\ntp5\\na(S'#'\\np6\\nI5\\ntp7\\na(g2\\nI70\\ntp8\\na(g6\\nI5\\ntp9\\na(g2\\nI1\\ntp10\\naa(lp11\\n(g2\\nI15\\ntp12\\na(g6\\nI4\\ntp13\\na(g2\\nI71\\ntp14\\na(g6\\nI4\\ntp15\\na(g2\\nI1\\ntp16\\naa(lp17\\n(g2\\nI15\\ntp18\\na(g6\\nI4\\ntp19\\na(g2\\nI71\\ntp20\\na(g6\\nI4\\ntp21\\na(g2\\nI1\\ntp22\\naa(lp23\\n(g2\\nI15\\ntp24\\na(g6\\nI4\\ntp25\\na(g2\\nI71\\ntp26\\na(g6\\nI4\\ntp27\\na(g2\\nI1\\ntp28\\naa(lp29\\n(g2\\nI15\\ntp30\\na(g6\\nI4\\ntp31\\na(g2\\nI71\\ntp32\\na(g6\\nI4\\ntp33\\na(g2\\nI1\\ntp34\\naa(lp35\\n(g2\\nI15\\ntp36\\na(g6\\nI4\\ntp37\\na(g2\\nI71\\ntp38\\na(g6\\nI4\\ntp39\\na(g2\\nI1\\ntp40\\naa(lp41\\n(g2\\nI15\\ntp42\\na(g6\\nI4\\ntp43\\na(g2\\nI71\\ntp44\\na(g6\\nI4\\ntp45\\na(g2\\nI1\\ntp46\\naa(lp47\\n(g2\\nI15\\ntp48\\na(g6\\nI4\\ntp49\\na(g2\\nI71\\ntp50\\na(g6\\nI4\\ntp51\\na(g2\\nI1\\ntp52\\naa(lp53\\n(g2\\nI6\\ntp54\\na(g6\\nI3\\ntp55\\na(g2\\nI6\\ntp56\\na(g6\\nI4\\ntp57\\na(g2\\nI3\\ntp58\\na(g6\\nI3\\ntp59\\na(g2\\nI9\\ntp60\\na(g6\\nI3\\ntp61\\na(g2\\nI7\\ntp62\\na(g6\\nI5\\ntp63\\na(g2\\nI3\\ntp64\\na(g6\\nI3\\ntp65\\na(g2\\nI4\\ntp66\\na(g6\\nI5\\ntp67\\na(g2\\nI3\\ntp68\\na(g6\\nI3\\ntp69\\na(g2\\nI10\\ntp70\\na(g6\\nI3\\ntp71\\na(g2\\nI7\\ntp72\\na(g6\\nI4\\ntp73\\na(g2\\nI1\\ntp74\\naa(lp75\\n(g2\\nI3\\ntp76\\na(g6\\nI3\\ntp77\\na(g2\\nI3\\ntp78\\na(g6\\nI2\\ntp79\\na(g2\\nI4\\ntp80\\na(g6\\nI4\\ntp81\\na(g2\\nI1\\ntp82\\na(g6\\nI7\\ntp83\\na(g2\\nI5\\ntp84\\na(g6\\nI2\\ntp85\\na(g2\\nI2\\ntp86\\na(g6\\nI3\\ntp87\\na(g2\\nI6\\ntp88\\na(g6\\nI4\\ntp89\\na(g2\\nI1\\ntp90\\na(g6\\nI7\\ntp91\\na(g2\\nI3\\ntp92\\na(g6\\nI4\\ntp93\\na(g2\\nI1\\ntp94\\na(g6\\nI7\\ntp95\\na(g2\\nI5\\ntp96\\na(g6\\nI3\\ntp97\\na(g2\\nI2\\ntp98\\na(g6\\nI3\\ntp99\\na(g2\\nI5\\ntp100\\na(g6\\nI4\\ntp101\\na(g2\\nI1\\ntp102\\naa(lp103\\n(g2\\nI2\\ntp104\\na(g6\\nI3\\ntp105\\na(g2\\nI5\\ntp106\\na(g6\\nI3\\ntp107\\na(g2\\nI2\\ntp108\\na(g6\\nI5\\ntp109\\na(g2\\nI4\\ntp110\\na(g6\\nI4\\ntp111\\na(g2\\nI3\\ntp112\\na(g6\\nI3\\ntp113\\na(g2\\nI3\\ntp114\\na(g6\\nI4\\ntp115\\na(g2\\nI4\\ntp116\\na(g6\\nI5\\ntp117\\na(g2\\nI4\\ntp118\\na(g6\\nI4\\ntp119\\na(g2\\nI2\\ntp120\\na(g6\\nI5\\ntp121\\na(g2\\nI4\\ntp122\\na(g6\\nI4\\ntp123\\na(g2\\nI3\\ntp124\\na(g6\\nI3\\ntp125\\na(g2\\nI5\\ntp126\\na(g6\\nI3\\ntp127\\na(g2\\nI3\\ntp128\\na(g6\\nI4\\ntp129\\na(g2\\nI1\\ntp130\\naa(lp131\\n(g2\\nI1\\ntp132\\na(g6\\nI3\\ntp133\\na(g2\\nI11\\ntp134\\na(g6\\nI4\\ntp135\\na(g2\\nI5\\ntp136\\na(g6\\nI4\\ntp137\\na(g2\\nI3\\ntp138\\na(g6\\nI3\\ntp139\\na(g2\\nI4\\ntp140\\na(g6\\nI3\\ntp141\\na(g2\\nI4\\ntp142\\na(g6\\nI4\\ntp143\\na(g2\\nI5\\ntp144\\na(g6\\nI4\\ntp145\\na(g2\\nI2\\ntp146\\na(g6\\nI4\\ntp147\\na(g2\\nI5\\ntp148\\na(g6\\nI4\\ntp149\\na(g2\\nI2\\ntp150\\na(g6\\nI3\\ntp151\\na(g2\\nI6\\ntp152\\na(g6\\nI4\\ntp153\\na(g2\\nI2\\ntp154\\na(g6\\nI4\\ntp155\\na(g2\\nI1\\ntp156\\naa(lp157\\n(g2\\nI1\\ntp158\\na(g6\\nI3\\ntp159\\na(g2\\nI11\\ntp160\\na(g6\\nI4\\ntp161\\na(g2\\nI5\\ntp162\\na(g6\\nI4\\ntp163\\na(g2\\nI10\\ntp164\\na(g6\\nI3\\ntp165\\na(g2\\nI4\\ntp166\\na(g6\\nI4\\ntp167\\na(g2\\nI5\\ntp168\\na(g6\\nI4\\ntp169\\na(g2\\nI2\\ntp170\\na(g6\\nI4\\ntp171\\na(g2\\nI5\\ntp172\\na(g6\\nI4\\ntp173\\na(g2\\nI2\\ntp174\\na(g6\\nI3\\ntp175\\na(g2\\nI7\\ntp176\\na(g6\\nI3\\ntp177\\na(g2\\nI2\\ntp178\\na(g6\\nI4\\ntp179\\na(g2\\nI1\\ntp180\\naa(lp181\\n(g6\\nI4\\ntp182\\na(g2\\nI11\\ntp183\\na(g6\\nI4\\ntp184\\na(g2\\nI5\\ntp185\\na(g6\\nI4\\ntp186\\na(g2\\nI5\\ntp187\\na(g6\\nI2\\ntp188\\na(g2\\nI3\\ntp189\\na(g6\\nI3\\ntp190\\na(g2\\nI4\\ntp191\\na(g6\\nI4\\ntp192\\na(g2\\nI5\\ntp193\\na(g6\\nI4\\ntp194\\na(g2\\nI2\\ntp195\\na(g6\\nI4\\ntp196\\na(g2\\nI5\\ntp197\\na(g6\\nI4\\ntp198\\na(g2\\nI1\\ntp199\\na(g6\\nI4\\ntp200\\na(g2\\nI7\\ntp201\\na(g6\\nI3\\ntp202\\na(g2\\nI2\\ntp203\\na(g6\\nI4\\ntp204\\na(g2\\nI1\\ntp205\\naa(lp206\\n(g6\\nI4\\ntp207\\na(g2\\nI11\\ntp208\\na(g6\\nI4\\ntp209\\na(g2\\nI5\\ntp210\\na(g6\\nI4\\ntp211\\na(g2\\nI3\\ntp212\\na(g6\\nI10\\ntp213\\na(g2\\nI4\\ntp214\\na(g6\\nI4\\ntp215\\na(g2\\nI5\\ntp216\\na(g6\\nI4\\ntp217\\na(g2\\nI2\\ntp218\\na(g6\\nI4\\ntp219\\na(g2\\nI5\\ntp220\\na(g6\\nI4\\ntp221\\na(g2\\nI1\\ntp222\\na(g6\\nI14\\ntp223\\na(g2\\nI2\\ntp224\\na(g6\\nI4\\ntp225\\na(g2\\nI1\\ntp226\\naa(lp227\\n(g6\\nI4\\ntp228\\na(g2\\nI11\\ntp229\\na(g6\\nI4\\ntp230\\na(g2\\nI5\\ntp231\\na(g6\\nI4\\ntp232\\na(g2\\nI2\\ntp233\\na(g6\\nI3\\ntp234\\na(g2\\nI4\\ntp235\\na(g6\\nI4\\ntp236\\na(g2\\nI4\\ntp237\\na(g6\\nI4\\ntp238\\na(g2\\nI5\\ntp239\\na(g6\\nI4\\ntp240\\na(g2\\nI2\\ntp241\\na(g6\\nI4\\ntp242\\na(g2\\nI5\\ntp243\\na(g6\\nI4\\ntp244\\na(g2\\nI1\\ntp245\\na(g6\\nI4\\ntp246\\na(g2\\nI12\\ntp247\\na(g6\\nI4\\ntp248\\na(g2\\nI1\\ntp249\\naa(lp250\\n(g6\\nI4\\ntp251\\na(g2\\nI11\\ntp252\\na(g6\\nI4\\ntp253\\na(g2\\nI5\\ntp254\\na(g6\\nI4\\ntp255\\na(g2\\nI1\\ntp256\\na(g6\\nI4\\ntp257\\na(g2\\nI5\\ntp258\\na(g6\\nI3\\ntp259\\na(g2\\nI4\\ntp260\\na(g6\\nI4\\ntp261\\na(g2\\nI5\\ntp262\\na(g6\\nI4\\ntp263\\na(g2\\nI2\\ntp264\\na(g6\\nI4\\ntp265\\na(g2\\nI5\\ntp266\\na(g6\\nI4\\ntp267\\na(g2\\nI1\\ntp268\\na(g6\\nI4\\ntp269\\na(g2\\nI12\\ntp270\\na(g6\\nI4\\ntp271\\na(g2\\nI1\\ntp272\\naa(lp273\\n(g2\\nI1\\ntp274\\na(g6\\nI3\\ntp275\\na(g2\\nI11\\ntp276\\na(g6\\nI4\\ntp277\\na(g2\\nI5\\ntp278\\na(g6\\nI4\\ntp279\\na(g2\\nI1\\ntp280\\na(g6\\nI4\\ntp281\\na(g2\\nI5\\ntp282\\na(g6\\nI3\\ntp283\\na(g2\\nI4\\ntp284\\na(g6\\nI4\\ntp285\\na(g2\\nI5\\ntp286\\na(g6\\nI4\\ntp287\\na(g2\\nI2\\ntp288\\na(g6\\nI4\\ntp289\\na(g2\\nI5\\ntp290\\na(g6\\nI4\\ntp291\\na(g2\\nI2\\ntp292\\na(g6\\nI3\\ntp293\\na(g2\\nI12\\ntp294\\na(g6\\nI4\\ntp295\\na(g2\\nI1\\ntp296\\naa(lp297\\n(g2\\nI2\\ntp298\\na(g6\\nI3\\ntp299\\na(g2\\nI6\\ntp300\\na(g6\\nI2\\ntp301\\na(g2\\nI2\\ntp302\\na(g6\\nI4\\ntp303\\na(g2\\nI5\\ntp304\\na(g6\\nI4\\ntp305\\na(g2\\nI2\\ntp306\\na(g6\\nI3\\ntp307\\na(g2\\nI4\\ntp308\\na(g6\\nI4\\ntp309\\na(g2\\nI4\\ntp310\\na(g6\\nI4\\ntp311\\na(g2\\nI5\\ntp312\\na(g6\\nI4\\ntp313\\na(g2\\nI2\\ntp314\\na(g6\\nI4\\ntp315\\na(g2\\nI5\\ntp316\\na(g6\\nI4\\ntp317\\na(g2\\nI3\\ntp318\\na(g6\\nI3\\ntp319\\na(g2\\nI6\\ntp320\\na(g6\\nI2\\ntp321\\na(g2\\nI3\\ntp322\\na(g6\\nI4\\ntp323\\na(g2\\nI1\\ntp324\\naa(lp325\\n(g2\\nI3\\ntp326\\na(g6\\nI3\\ntp327\\na(g2\\nI4\\ntp328\\na(g6\\nI2\\ntp329\\na(g2\\nI3\\ntp330\\na(g6\\nI4\\ntp331\\na(g2\\nI5\\ntp332\\na(g6\\nI4\\ntp333\\na(g2\\nI3\\ntp334\\na(g6\\nI11\\ntp335\\na(g2\\nI3\\ntp336\\na(g6\\nI4\\ntp337\\na(g2\\nI5\\ntp338\\na(g6\\nI4\\ntp339\\na(g2\\nI2\\ntp340\\na(g6\\nI4\\ntp341\\na(g2\\nI5\\ntp342\\na(g6\\nI4\\ntp343\\na(g2\\nI4\\ntp344\\na(g6\\nI3\\ntp345\\na(g2\\nI4\\ntp346\\na(g6\\nI2\\ntp347\\na(g2\\nI4\\ntp348\\na(g6\\nI4\\ntp349\\na(g2\\nI1\\ntp350\\naa(lp351\\n(g2\\nI6\\ntp352\\na(g6\\nI3\\ntp353\\na(g2\\nI5\\ntp354\\na(g6\\nI6\\ntp355\\na(g2\\nI4\\ntp356\\na(g6\\nI5\\ntp357\\na(g2\\nI4\\ntp358\\na(g6\\nI2\\ntp359\\na(g2\\nI4\\ntp360\\na(g6\\nI4\\ntp361\\na(g2\\nI1\\ntp362\\na(g6\\nI6\\ntp363\\na(g2\\nI4\\ntp364\\na(g6\\nI11\\ntp365\\na(g2\\nI4\\ntp366\\na(g6\\nI5\\ntp367\\na(g2\\nI6\\ntp368\\na(g6\\nI3\\ntp369\\na(g2\\nI6\\ntp370\\na(g6\\nI6\\ntp371\\naa(lp372\\n(g2\\nI95\\ntp373\\naa.\""
      ]
     },
     "execution_count": 16,
     "metadata": {},
     "output_type": "execute_result"
    }
   ],
   "source": [
    "import requests\n",
    "proxies  = {'http':'http://10.14.87.100:8080'}\n",
    "url='http://www.pythonchallenge.com/pc/def/banner.p'\n",
    "r = requests.get(url, proxies=proxies)\n",
    "r.text"
   ]
  },
  {
   "cell_type": "code",
   "execution_count": 17,
   "metadata": {
    "collapsed": true
   },
   "outputs": [
    {
     "data": {
      "text/plain": [
       "[[(' ', 95)],\n [(' ', 14), ('#', 5), (' ', 70), ('#', 5), (' ', 1)],\n [(' ', 15), ('#', 4), (' ', 71), ('#', 4), (' ', 1)],\n [(' ', 15), ('#', 4), (' ', 71), ('#', 4), (' ', 1)],\n [(' ', 15), ('#', 4), (' ', 71), ('#', 4), (' ', 1)],\n [(' ', 15), ('#', 4), (' ', 71), ('#', 4), (' ', 1)],\n [(' ', 15), ('#', 4), (' ', 71), ('#', 4), (' ', 1)],\n [(' ', 15), ('#', 4), (' ', 71), ('#', 4), (' ', 1)],\n [(' ', 15), ('#', 4), (' ', 71), ('#', 4), (' ', 1)],\n [(' ', 6),\n  ('#', 3),\n  (' ', 6),\n  ('#', 4),\n  (' ', 3),\n  ('#', 3),\n  (' ', 9),\n  ('#', 3),\n  (' ', 7),\n  ('#', 5),\n  (' ', 3),\n  ('#', 3),\n  (' ', 4),\n  ('#', 5),\n  (' ', 3),\n  ('#', 3),\n  (' ', 10),\n  ('#', 3),\n  (' ', 7),\n  ('#', 4),\n  (' ', 1)],\n [(' ', 3),\n  ('#', 3),\n  (' ', 3),\n  ('#', 2),\n  (' ', 4),\n  ('#', 4),\n  (' ', 1),\n  ('#', 7),\n  (' ', 5),\n  ('#', 2),\n  (' ', 2),\n  ('#', 3),\n  (' ', 6),\n  ('#', 4),\n  (' ', 1),\n  ('#', 7),\n  (' ', 3),\n  ('#', 4),\n  (' ', 1),\n  ('#', 7),\n  (' ', 5),\n  ('#', 3),\n  (' ', 2),\n  ('#', 3),\n  (' ', 5),\n  ('#', 4),\n  (' ', 1)],\n [(' ', 2),\n  ('#', 3),\n  (' ', 5),\n  ('#', 3),\n  (' ', 2),\n  ('#', 5),\n  (' ', 4),\n  ('#', 4),\n  (' ', 3),\n  ('#', 3),\n  (' ', 3),\n  ('#', 4),\n  (' ', 4),\n  ('#', 5),\n  (' ', 4),\n  ('#', 4),\n  (' ', 2),\n  ('#', 5),\n  (' ', 4),\n  ('#', 4),\n  (' ', 3),\n  ('#', 3),\n  (' ', 5),\n  ('#', 3),\n  (' ', 3),\n  ('#', 4),\n  (' ', 1)],\n [(' ', 1),\n  ('#', 3),\n  (' ', 11),\n  ('#', 4),\n  (' ', 5),\n  ('#', 4),\n  (' ', 3),\n  ('#', 3),\n  (' ', 4),\n  ('#', 3),\n  (' ', 4),\n  ('#', 4),\n  (' ', 5),\n  ('#', 4),\n  (' ', 2),\n  ('#', 4),\n  (' ', 5),\n  ('#', 4),\n  (' ', 2),\n  ('#', 3),\n  (' ', 6),\n  ('#', 4),\n  (' ', 2),\n  ('#', 4),\n  (' ', 1)],\n [(' ', 1),\n  ('#', 3),\n  (' ', 11),\n  ('#', 4),\n  (' ', 5),\n  ('#', 4),\n  (' ', 10),\n  ('#', 3),\n  (' ', 4),\n  ('#', 4),\n  (' ', 5),\n  ('#', 4),\n  (' ', 2),\n  ('#', 4),\n  (' ', 5),\n  ('#', 4),\n  (' ', 2),\n  ('#', 3),\n  (' ', 7),\n  ('#', 3),\n  (' ', 2),\n  ('#', 4),\n  (' ', 1)],\n [('#', 4),\n  (' ', 11),\n  ('#', 4),\n  (' ', 5),\n  ('#', 4),\n  (' ', 5),\n  ('#', 2),\n  (' ', 3),\n  ('#', 3),\n  (' ', 4),\n  ('#', 4),\n  (' ', 5),\n  ('#', 4),\n  (' ', 2),\n  ('#', 4),\n  (' ', 5),\n  ('#', 4),\n  (' ', 1),\n  ('#', 4),\n  (' ', 7),\n  ('#', 3),\n  (' ', 2),\n  ('#', 4),\n  (' ', 1)],\n [('#', 4),\n  (' ', 11),\n  ('#', 4),\n  (' ', 5),\n  ('#', 4),\n  (' ', 3),\n  ('#', 10),\n  (' ', 4),\n  ('#', 4),\n  (' ', 5),\n  ('#', 4),\n  (' ', 2),\n  ('#', 4),\n  (' ', 5),\n  ('#', 4),\n  (' ', 1),\n  ('#', 14),\n  (' ', 2),\n  ('#', 4),\n  (' ', 1)],\n [('#', 4),\n  (' ', 11),\n  ('#', 4),\n  (' ', 5),\n  ('#', 4),\n  (' ', 2),\n  ('#', 3),\n  (' ', 4),\n  ('#', 4),\n  (' ', 4),\n  ('#', 4),\n  (' ', 5),\n  ('#', 4),\n  (' ', 2),\n  ('#', 4),\n  (' ', 5),\n  ('#', 4),\n  (' ', 1),\n  ('#', 4),\n  (' ', 12),\n  ('#', 4),\n  (' ', 1)],\n [('#', 4),\n  (' ', 11),\n  ('#', 4),\n  (' ', 5),\n  ('#', 4),\n  (' ', 1),\n  ('#', 4),\n  (' ', 5),\n  ('#', 3),\n  (' ', 4),\n  ('#', 4),\n  (' ', 5),\n  ('#', 4),\n  (' ', 2),\n  ('#', 4),\n  (' ', 5),\n  ('#', 4),\n  (' ', 1),\n  ('#', 4),\n  (' ', 12),\n  ('#', 4),\n  (' ', 1)],\n [(' ', 1),\n  ('#', 3),\n  (' ', 11),\n  ('#', 4),\n  (' ', 5),\n  ('#', 4),\n  (' ', 1),\n  ('#', 4),\n  (' ', 5),\n  ('#', 3),\n  (' ', 4),\n  ('#', 4),\n  (' ', 5),\n  ('#', 4),\n  (' ', 2),\n  ('#', 4),\n  (' ', 5),\n  ('#', 4),\n  (' ', 2),\n  ('#', 3),\n  (' ', 12),\n  ('#', 4),\n  (' ', 1)],\n [(' ', 2),\n  ('#', 3),\n  (' ', 6),\n  ('#', 2),\n  (' ', 2),\n  ('#', 4),\n  (' ', 5),\n  ('#', 4),\n  (' ', 2),\n  ('#', 3),\n  (' ', 4),\n  ('#', 4),\n  (' ', 4),\n  ('#', 4),\n  (' ', 5),\n  ('#', 4),\n  (' ', 2),\n  ('#', 4),\n  (' ', 5),\n  ('#', 4),\n  (' ', 3),\n  ('#', 3),\n  (' ', 6),\n  ('#', 2),\n  (' ', 3),\n  ('#', 4),\n  (' ', 1)],\n [(' ', 3),\n  ('#', 3),\n  (' ', 4),\n  ('#', 2),\n  (' ', 3),\n  ('#', 4),\n  (' ', 5),\n  ('#', 4),\n  (' ', 3),\n  ('#', 11),\n  (' ', 3),\n  ('#', 4),\n  (' ', 5),\n  ('#', 4),\n  (' ', 2),\n  ('#', 4),\n  (' ', 5),\n  ('#', 4),\n  (' ', 4),\n  ('#', 3),\n  (' ', 4),\n  ('#', 2),\n  (' ', 4),\n  ('#', 4),\n  (' ', 1)],\n [(' ', 6),\n  ('#', 3),\n  (' ', 5),\n  ('#', 6),\n  (' ', 4),\n  ('#', 5),\n  (' ', 4),\n  ('#', 2),\n  (' ', 4),\n  ('#', 4),\n  (' ', 1),\n  ('#', 6),\n  (' ', 4),\n  ('#', 11),\n  (' ', 4),\n  ('#', 5),\n  (' ', 6),\n  ('#', 3),\n  (' ', 6),\n  ('#', 6)],\n [(' ', 95)]]"
      ]
     },
     "execution_count": 17,
     "metadata": {},
     "output_type": "execute_result"
    }
   ],
   "source": [
    "import pickle \n",
    "data = pickle.loads(r.text)\n",
    "data"
   ]
  },
  {
   "cell_type": "code",
   "execution_count": 23,
   "metadata": {},
   "outputs": [
    {
     "name": "stdout",
     "output_type": "stream",
     "text": [
      "                                                                                               \n              #####                                                                      ##### \n               ####                                                                       #### \n               ####                                                                       #### \n               ####                                                                       #### \n               ####                                                                       #### \n               ####                                                                       #### \n               ####                                                                       #### \n               ####                                                                       #### \n      ###      ####   ###         ###       #####   ###    #####   ###          ###       #### \n   ###   ##    #### #######     ##  ###      #### #######   #### #######     ###  ###     #### \n  ###     ###  #####    ####   ###   ####    #####    ####  #####    ####   ###     ###   #### \n ###           ####     ####   ###    ###    ####     ####  ####     ####  ###      ####  #### \n ###           ####     ####          ###    ####     ####  ####     ####  ###       ###  #### \n####           ####     ####     ##   ###    ####     ####  ####     #### ####       ###  #### \n####           ####     ####   ##########    ####     ####  ####     #### ##############  #### \n####           ####     ####  ###    ####    ####     ####  ####     #### ####            #### \n####           ####     #### ####     ###    ####     ####  ####     #### ####            #### \n ###           ####     #### ####     ###    ####     ####  ####     ####  ###            #### \n  ###      ##  ####     ####  ###    ####    ####     ####  ####     ####   ###      ##   #### \n   ###    ##   ####     ####   ###########   ####     ####  ####     ####    ###    ##    #### \n      ###     ######    #####    ##    #### ######    ###########    #####      ###      ######\n                                                                                               \n"
     ]
    }
   ],
   "source": [
    "for line in data:\n",
    "    print ''.join([ k*v for k,v in line ])"
   ]
  },
  {
   "cell_type": "markdown",
   "metadata": {},
   "source": [
    "## 6 \n",
    "http://www.pythonchallenge.com/pc/def/channel.html\n"
   ]
  },
  {
   "cell_type": "code",
   "execution_count": 41,
   "metadata": {
    "collapsed": true
   },
   "outputs": [
    {
     "name": "stdout",
     "output_type": "stream",
     "text": [
      "46145\nCollect the comments.\n"
     ]
    },
    {
     "data": {
      "text/plain": [
       "['*',\n '*',\n '*',\n '*',\n '*',\n '*',\n '*',\n '*',\n '*',\n '*',\n '*',\n '*',\n '*',\n '*',\n '*',\n '*',\n '*',\n '*',\n '*',\n '*',\n '*',\n '*',\n '*',\n '*',\n '*',\n '*',\n '*',\n '*',\n '*',\n '*',\n '*',\n '*',\n '*',\n '*',\n '*',\n '*',\n '*',\n '*',\n '*',\n '*',\n '*',\n '*',\n '*',\n '*',\n '*',\n '*',\n '*',\n '*',\n '*',\n '*',\n '*',\n '*',\n '*',\n '*',\n '*',\n '*',\n '*',\n '*',\n '*',\n '*',\n '*',\n '*',\n '*',\n '*',\n '\\n',\n '*',\n '*',\n '*',\n '*',\n '*',\n '*',\n '*',\n '*',\n '*',\n '*',\n '*',\n '*',\n '*',\n '*',\n '*',\n '*',\n '*',\n '*',\n '*',\n '*',\n '*',\n '*',\n '*',\n '*',\n '*',\n '*',\n '*',\n '*',\n '*',\n '*',\n '*',\n '*',\n '*',\n '*',\n '*',\n '*',\n '*',\n '*',\n '*',\n '*',\n '*',\n '*',\n '*',\n '*',\n '*',\n '*',\n '*',\n '*',\n '*',\n '*',\n '*',\n '*',\n '*',\n '*',\n '*',\n '*',\n '*',\n '*',\n '*',\n '*',\n '*',\n '*',\n '*',\n '*',\n '\\n',\n '*',\n '*',\n ' ',\n ' ',\n ' ',\n ' ',\n ' ',\n ' ',\n ' ',\n ' ',\n ' ',\n ' ',\n ' ',\n ' ',\n ' ',\n ' ',\n ' ',\n ' ',\n ' ',\n ' ',\n ' ',\n ' ',\n ' ',\n ' ',\n ' ',\n ' ',\n ' ',\n ' ',\n ' ',\n ' ',\n ' ',\n ' ',\n ' ',\n ' ',\n ' ',\n ' ',\n ' ',\n ' ',\n ' ',\n ' ',\n ' ',\n ' ',\n ' ',\n ' ',\n ' ',\n ' ',\n ' ',\n ' ',\n ' ',\n ' ',\n ' ',\n ' ',\n ' ',\n ' ',\n ' ',\n ' ',\n ' ',\n ' ',\n ' ',\n ' ',\n ' ',\n ' ',\n '*',\n '*',\n '\\n',\n '*',\n '*',\n ' ',\n ' ',\n ' ',\n 'O',\n 'O',\n ' ',\n ' ',\n ' ',\n ' ',\n 'O',\n 'O',\n ' ',\n ' ',\n ' ',\n ' ',\n 'X',\n 'X',\n ' ',\n ' ',\n ' ',\n ' ',\n ' ',\n ' ',\n 'Y',\n 'Y',\n 'Y',\n 'Y',\n ' ',\n ' ',\n ' ',\n ' ',\n 'G',\n 'G',\n ' ',\n ' ',\n ' ',\n ' ',\n 'G',\n 'G',\n ' ',\n ' ',\n 'E',\n 'E',\n 'E',\n 'E',\n 'E',\n 'E',\n ' ',\n 'N',\n 'N',\n ' ',\n ' ',\n ' ',\n ' ',\n ' ',\n ' ',\n 'N',\n 'N',\n ' ',\n ' ',\n '*',\n '*',\n '\\n',\n '*',\n '*',\n ' ',\n ' ',\n ' ',\n 'O',\n 'O',\n ' ',\n ' ',\n ' ',\n ' ',\n 'O',\n 'O',\n ' ',\n ' ',\n 'X',\n 'X',\n 'X',\n 'X',\n 'X',\n 'X',\n ' ',\n ' ',\n ' ',\n 'Y',\n 'Y',\n 'Y',\n 'Y',\n 'Y',\n 'Y',\n ' ',\n ' ',\n ' ',\n 'G',\n 'G',\n ' ',\n ' ',\n ' ',\n 'G',\n 'G',\n ' ',\n ' ',\n ' ',\n 'E',\n 'E',\n 'E',\n 'E',\n 'E',\n 'E',\n ' ',\n ' ',\n 'N',\n 'N',\n ' ',\n ' ',\n ' ',\n ' ',\n 'N',\n 'N',\n ' ',\n ' ',\n ' ',\n '*',\n '*',\n '\\n',\n '*',\n '*',\n ' ',\n ' ',\n ' ',\n 'O',\n 'O',\n ' ',\n ' ',\n ' ',\n ' ',\n 'O',\n 'O',\n ' ',\n 'X',\n 'X',\n 'X',\n ' ',\n ' ',\n 'X',\n 'X',\n 'X',\n ' ',\n 'Y',\n 'Y',\n 'Y',\n ' ',\n ' ',\n ' ',\n 'Y',\n 'Y',\n ' ',\n ' ',\n 'G',\n 'G',\n ' ',\n 'G',\n 'G',\n ' ',\n ' ',\n ' ',\n ' ',\n ' ',\n 'E',\n 'E',\n ' ',\n ' ',\n ' ',\n ' ',\n ' ',\n ' ',\n ' ',\n 'N',\n 'N',\n ' ',\n ' ',\n 'N',\n 'N',\n ' ',\n ' ',\n ' ',\n ' ',\n '*',\n '*',\n '\\n',\n '*',\n '*',\n ' ',\n ' ',\n ' ',\n 'O',\n 'O',\n 'O',\n 'O',\n 'O',\n 'O',\n 'O',\n 'O',\n ' ',\n 'X',\n 'X',\n ' ',\n ' ',\n ' ',\n ' ',\n 'X',\n 'X',\n ' ',\n 'Y',\n 'Y',\n ' ',\n ' ',\n ' ',\n ' ',\n ' ',\n ' ',\n ' ',\n ' ',\n 'G',\n 'G',\n 'G',\n ' ',\n ' ',\n ' ',\n ' ',\n ' ',\n ' ',\n ' ',\n 'E',\n 'E',\n 'E',\n 'E',\n 'E',\n ' ',\n ' ',\n ' ',\n ' ',\n ' ',\n 'N',\n 'N',\n 'N',\n 'N',\n ' ',\n ' ',\n ' ',\n ' ',\n ' ',\n '*',\n '*',\n '\\n',\n '*',\n '*',\n ' ',\n ' ',\n ' ',\n 'O',\n 'O',\n 'O',\n 'O',\n 'O',\n 'O',\n 'O',\n 'O',\n ' ',\n 'X',\n 'X',\n ' ',\n ' ',\n ' ',\n ' ',\n 'X',\n 'X',\n ' ',\n 'Y',\n 'Y',\n ' ',\n ' ',\n ' ',\n ' ',\n ' ',\n ' ',\n ' ',\n ' ',\n 'G',\n 'G',\n 'G',\n ' ',\n ' ',\n ' ',\n ' ',\n ' ',\n ' ',\n ' ',\n 'E',\n 'E',\n 'E',\n 'E',\n 'E',\n ' ',\n ' ',\n ' ',\n ' ',\n ' ',\n ' ',\n 'N',\n 'N',\n ' ',\n ' ',\n ' ',\n ' ',\n ' ',\n ' ',\n '*',\n '*',\n '\\n',\n '*',\n '*',\n ' ',\n ' ',\n ' ',\n 'O',\n 'O',\n ' ',\n ' ',\n ' ',\n ' ',\n 'O',\n 'O',\n ' ',\n 'X',\n 'X',\n 'X',\n ' ',\n ' ',\n 'X',\n 'X',\n 'X',\n ' ',\n 'Y',\n 'Y',\n 'Y',\n ' ',\n ' ',\n ' ',\n 'Y',\n 'Y',\n ' ',\n ' ',\n 'G',\n 'G',\n ' ',\n 'G',\n 'G',\n ' ',\n ' ',\n ' ',\n ' ',\n ' ',\n 'E',\n 'E',\n ' ',\n ' ',\n ' ',\n ' ',\n ' ',\n ' ',\n ' ',\n ' ',\n ' ',\n 'N',\n 'N',\n ' ',\n ' ',\n ' ',\n ' ',\n ' ',\n ' ',\n '*',\n '*',\n '\\n',\n '*',\n '*',\n ' ',\n ' ',\n ' ',\n 'O',\n 'O',\n ' ',\n ' ',\n ' ',\n ' ',\n 'O',\n 'O',\n ' ',\n ' ',\n 'X',\n 'X',\n 'X',\n 'X',\n 'X',\n 'X',\n ' ',\n ' ',\n ' ',\n 'Y',\n 'Y',\n 'Y',\n 'Y',\n 'Y',\n 'Y',\n ' ',\n ' ',\n ' ',\n 'G',\n 'G',\n ' ',\n ' ',\n ' ',\n 'G',\n 'G',\n ' ',\n ' ',\n ' ',\n 'E',\n 'E',\n 'E',\n 'E',\n 'E',\n 'E',\n ' ',\n ' ',\n ' ',\n ' ',\n ' ',\n 'N',\n 'N',\n ' ',\n ' ',\n ' ',\n ' ',\n ' ',\n ' ',\n '*',\n '*',\n '\\n',\n '*',\n '*',\n ' ',\n ' ',\n ' ',\n 'O',\n 'O',\n ' ',\n ' ',\n ' ',\n ' ',\n 'O',\n 'O',\n ' ',\n ' ',\n ' ',\n ' ',\n 'X',\n 'X',\n ' ',\n ' ',\n ' ',\n ' ',\n ' ',\n ' ',\n 'Y',\n 'Y',\n 'Y',\n 'Y',\n ' ',\n ' ',\n ' ',\n ' ',\n 'G',\n 'G',\n ' ',\n ' ',\n ' ',\n ' ',\n 'G',\n 'G',\n ' ',\n ' ',\n 'E',\n 'E',\n 'E',\n 'E',\n 'E',\n 'E',\n ' ',\n ' ',\n ' ',\n ' ',\n ' ',\n 'N',\n 'N',\n ' ',\n ' ',\n ' ',\n ' ',\n ' ',\n ' ',\n '*',\n '*',\n '\\n',\n '*',\n '*',\n ' ',\n ' ',\n ' ',\n ' ',\n ' ',\n ' ',\n ' ',\n ' ',\n ' ',\n ' ',\n ' ',\n ' ',\n ' ',\n ' ',\n ' ',\n ' ',\n ' ',\n ' ',\n ' ',\n ' ',\n ' ',\n ' ',\n ' ',\n ' ',\n ' ',\n ' ',\n ' ',\n ' ',\n ' ',\n ' ',\n ' ',\n ' ',\n ' ',\n ' ',\n ' ',\n ' ',\n ' ',\n ' ',\n ' ',\n ' ',\n ' ',\n ' ',\n ' ',\n ' ',\n ' ',\n ' ',\n ' ',\n ' ',\n ' ',\n ' ',\n ' ',\n ' ',\n ' ',\n ' ',\n ' ',\n ' ',\n ' ',\n ' ',\n ' ',\n ' ',\n '*',\n '*',\n '\\n',\n '*',\n '*',\n '*',\n '*',\n '*',\n '*',\n '*',\n '*',\n '*',\n '*',\n '*',\n '*',\n '*',\n '*',\n '*',\n '*',\n '*',\n '*',\n '*',\n '*',\n '*',\n '*',\n '*',\n '*',\n '*',\n '*',\n '*',\n '*',\n '*',\n '*',\n '*',\n '*',\n '*',\n '*',\n '*',\n '*',\n '*',\n '*',\n '*',\n '*',\n '*',\n '*',\n '*',\n '*',\n '*',\n '*',\n '*',\n '*',\n '*',\n '*',\n '*',\n '*',\n '*',\n '*',\n '*',\n '*',\n '*',\n '*',\n '*',\n '*',\n '*',\n '*',\n '*',\n '*',\n '\\n',\n ' ',\n '*',\n '*',\n '*',\n '*',\n '*',\n '*',\n '*',\n '*',\n '*',\n '*',\n '*',\n '*',\n '*',\n '*',\n '*',\n '*',\n '*',\n '*',\n '*',\n '*',\n '*',\n '*',\n '*',\n '*',\n '*',\n '*',\n '*',\n '*',\n '*',\n '*',\n '*',\n '*',\n '*',\n '*',\n '*',\n '*',\n '*',\n '*',\n '*',\n '*',\n '*',\n '*',\n '*',\n '*',\n '*',\n '*',\n '*',\n '*',\n '*',\n '*',\n '*',\n '*',\n '*',\n '*',\n '*',\n '*',\n '*',\n '*',\n '*',\n '*',\n '*',\n '*',\n '\\n']"
      ]
     },
     "execution_count": 41,
     "metadata": {},
     "output_type": "execute_result"
    }
   ],
   "source": [
    "import zipfile,os \n",
    "\n",
    "num='90052'\n",
    "cnt = 0\n",
    "comment = []\n",
    "while len(num)>0:\n",
    "    cnt +=1 \n",
    "    zip = zipfile.ZipFile('./pythonchallenge/channel.zip')\n",
    "    file_name=num+'.txt'\n",
    "    \n",
    "    text = zip.read(file_name)\n",
    "    info = zip.getinfo(file_name)\n",
    "    comment.append(info.comment)\n",
    "    next_num = re.findall('nothing is (\\d*)', text)\n",
    "    # print text\n",
    "    if len(next_num)==0:\n",
    "        print num \n",
    "        print text\n",
    "        break\n",
    "    num = next_num[0]\n",
    "\n",
    "comment"
   ]
  },
  {
   "cell_type": "code",
   "execution_count": 42,
   "metadata": {},
   "outputs": [
    {
     "name": "stdout",
     "output_type": "stream",
     "text": [
      "****************************************************************\n****************************************************************\n**                                                            **\n**   OO    OO    XX      YYYY    GG    GG  EEEEEE NN      NN  **\n**   OO    OO  XXXXXX   YYYYYY   GG   GG   EEEEEE  NN    NN   **\n**   OO    OO XXX  XXX YYY   YY  GG GG     EE       NN  NN    **\n**   OOOOOOOO XX    XX YY        GGG       EEEEE     NNNN     **\n**   OOOOOOOO XX    XX YY        GGG       EEEEE      NN      **\n**   OO    OO XXX  XXX YYY   YY  GG GG     EE         NN      **\n**   OO    OO  XXXXXX   YYYYYY   GG   GG   EEEEEE     NN      **\n**   OO    OO    XX      YYYY    GG    GG  EEEEEE     NN      **\n**                                                            **\n****************************************************************\n **************************************************************\n\n"
     ]
    }
   ],
   "source": [
    "print ''.join(comment)"
   ]
  },
  {
   "cell_type": "markdown",
   "metadata": {},
   "source": [
    "## 7 \n",
    "http://www.pythonchallenge.com/pc/def/oxygen.html\n"
   ]
  },
  {
   "cell_type": "code",
   "execution_count": 2,
   "metadata": {},
   "outputs": [],
   "source": [
    "from PIL import Image\n",
    "img = Image.open('./pythonchallenge/oxygen.png')\n",
    "#img.show()"
   ]
  },
  {
   "cell_type": "code",
   "execution_count": 9,
   "metadata": {},
   "outputs": [
    {
     "name": "stdout",
     "output_type": "stream",
     "text": [
      "{'dpi': (0, 0)}\n"
     ]
    }
   ],
   "source": [
    "img.mode\n",
    "img.size\n",
    "print img.info"
   ]
  },
  {
   "cell_type": "code",
   "execution_count": 31,
   "metadata": {},
   "outputs": [
    {
     "name": "stdout",
     "output_type": "stream",
     "text": [
      "629 95\n"
     ]
    },
    {
     "data": {
      "text/plain": [
       "'smart guy, you made it. the next level is [105, 110, 116, 101, 103, 114, 105, 116, 121]'"
      ]
     },
     "execution_count": 31,
     "metadata": {},
     "output_type": "execute_result"
    }
   ],
   "source": [
    "width = img.size[0]\n",
    "higth = img.size[1]\n",
    "print width,higth\n",
    "\n",
    "row = [ img.getpixel((x,higth/2)) for x in range(width) ]\n",
    "row = row[::7]\n",
    "ords = [ r for r,g,b,a in row if r==g==b ]\n",
    "            \n",
    "\n",
    "res = ''.join(map(chr, ords))\n",
    "res"
   ]
  },
  {
   "cell_type": "code",
   "execution_count": 33,
   "metadata": {},
   "outputs": [
    {
     "data": {
      "text/plain": [
       "['105', '110', '116', '101', '103', '114', '105', '116', '121']"
      ]
     },
     "execution_count": 33,
     "metadata": {},
     "output_type": "execute_result"
    }
   ],
   "source": [
    "import re\n",
    "num = re.findall('(\\d+)', res)\n",
    "num"
   ]
  },
  {
   "cell_type": "code",
   "execution_count": 35,
   "metadata": {
    "collapsed": false
   },
   "outputs": [
    {
     "data": {
      "text/plain": [
       "'integrity'"
      ]
     },
     "execution_count": 35,
     "metadata": {},
     "output_type": "execute_result"
    }
   ],
   "source": [
    "''.join(map(chr, map(int,num) ))"
   ]
  },
  {
   "cell_type": "code",
   "execution_count": 38,
   "metadata": {},
   "outputs": [
    {
     "ename": "UnicodeEncodeError",
     "evalue": "'ascii' codec can't encode characters in position 11-12: ordinal not in range(128)",
     "traceback": [
      "\u001b[1;31m\u001b[0m",
      "\u001b[1;31mUnicodeEncodeError\u001b[0mTraceback (most recent call last)",
      "\u001b[1;32m<ipython-input-38-4ee50fa7ee62>\u001b[0m in \u001b[0;36m<module>\u001b[1;34m()\u001b[0m\n\u001b[0;32m      2\u001b[0m \u001b[1;33m\u001b[0m\u001b[0m\n\u001b[0;32m      3\u001b[0m \u001b[0mstr\u001b[0m \u001b[1;33m=\u001b[0m \u001b[1;34mu'BZh91AY&SYA\\xaf\\x82\\r\\x00\\x00\\x01\\x01\\x80\\x02\\xc0\\x02\\x00 \\x00!\\x9ah3M\\x07<]\\xc9\\x14\\xe1BA\\x06\\xbe\\x084'\u001b[0m\u001b[1;33m\u001b[0m\u001b[0m\n\u001b[1;32m----> 4\u001b[1;33m \u001b[0mstr\u001b[0m\u001b[1;33m.\u001b[0m\u001b[0mdecode\u001b[0m\u001b[1;33m(\u001b[0m\u001b[1;34m'utf8'\u001b[0m\u001b[1;33m)\u001b[0m\u001b[1;33m\u001b[0m\u001b[0m\n\u001b[0m",
      "\u001b[1;32mC:\\Anaconda2\\lib\\encodings\\utf_8.pyc\u001b[0m in \u001b[0;36mdecode\u001b[1;34m(input, errors)\u001b[0m\n\u001b[0;32m     14\u001b[0m \u001b[1;33m\u001b[0m\u001b[0m\n\u001b[0;32m     15\u001b[0m \u001b[1;32mdef\u001b[0m \u001b[0mdecode\u001b[0m\u001b[1;33m(\u001b[0m\u001b[0minput\u001b[0m\u001b[1;33m,\u001b[0m \u001b[0merrors\u001b[0m\u001b[1;33m=\u001b[0m\u001b[1;34m'strict'\u001b[0m\u001b[1;33m)\u001b[0m\u001b[1;33m:\u001b[0m\u001b[1;33m\u001b[0m\u001b[0m\n\u001b[1;32m---> 16\u001b[1;33m     \u001b[1;32mreturn\u001b[0m \u001b[0mcodecs\u001b[0m\u001b[1;33m.\u001b[0m\u001b[0mutf_8_decode\u001b[0m\u001b[1;33m(\u001b[0m\u001b[0minput\u001b[0m\u001b[1;33m,\u001b[0m \u001b[0merrors\u001b[0m\u001b[1;33m,\u001b[0m \u001b[0mTrue\u001b[0m\u001b[1;33m)\u001b[0m\u001b[1;33m\u001b[0m\u001b[0m\n\u001b[0m\u001b[0;32m     17\u001b[0m \u001b[1;33m\u001b[0m\u001b[0m\n\u001b[0;32m     18\u001b[0m \u001b[1;32mclass\u001b[0m \u001b[0mIncrementalEncoder\u001b[0m\u001b[1;33m(\u001b[0m\u001b[0mcodecs\u001b[0m\u001b[1;33m.\u001b[0m\u001b[0mIncrementalEncoder\u001b[0m\u001b[1;33m)\u001b[0m\u001b[1;33m:\u001b[0m\u001b[1;33m\u001b[0m\u001b[0m\n",
      "\u001b[1;31mUnicodeEncodeError\u001b[0m: 'ascii' codec can't encode characters in position 11-12: ordinal not in range(128)"
     ],
     "output_type": "error"
    }
   ],
   "source": [
    "## 8 \n",
    "\n",
    "str = u'BZh91AY&SYA\\xaf\\x82\\r\\x00\\x00\\x01\\x01\\x80\\x02\\xc0\\x02\\x00 \\x00!\\x9ah3M\\x07<]\\xc9\\x14\\xe1BA\\x06\\xbe\\x084'\n",
    "str.decode('utf8')"
   ]
  },
  {
   "cell_type": "code",
   "execution_count": null,
   "metadata": {},
   "outputs": [],
   "source": [
    ""
   ]
  }
 ],
 "metadata": {
  "kernelspec": {
   "display_name": "Python 2",
   "language": "python",
   "name": "python2"
  },
  "language_info": {
   "codemirror_mode": {
    "name": "ipython",
    "version": 2.0
   },
   "file_extension": ".py",
   "mimetype": "text/x-python",
   "name": "python",
   "nbconvert_exporter": "python",
   "pygments_lexer": "ipython2",
   "version": "2.7.6"
  }
 },
 "nbformat": 4,
 "nbformat_minor": 0
}