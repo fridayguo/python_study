{
 "cells": [
  {
   "cell_type": "markdown",
   "metadata": {
    "collapsed": true
   },
   "source": [
    "## 0  \n",
    "http://www.pythonchallenge.com/pc/def/0.html\n"
   ]
  },
  {
   "cell_type": "code",
   "execution_count": 1,
   "metadata": {},
   "outputs": [
    {
     "data": {
      "text/plain": [
       "274877906944L"
      ]
     },
     "execution_count": 1,
     "metadata": {},
     "output_type": "execute_result"
    }
   ],
   "source": [
    "pow(2,38)"
   ]
  },
  {
   "cell_type": "markdown",
   "metadata": {},
   "source": [
    "## 1\n",
    "http://www.pythonchallenge.com/pc/def/map.html"
   ]
  },
  {
   "cell_type": "code",
   "execution_count": 27,
   "metadata": {},
   "outputs": [
    {
     "name": "stdout",
     "output_type": "stream",
     "text": [
      "i hope you didnt translate it by hand. thats what computers are for. doing it in by hand is inefficient and that's why this text is so long. using string.maketrans() is recommended. now apply on the url.\nocr\n"
     ]
    }
   ],
   "source": [
    "def shift_char(c, shift):\n",
    "    if c.isalpha() == False:\n",
    "        return c \n",
    "    if c.isupper():\n",
    "        return chr( (ord(c)-ord('A') + shift )%26 + ord('A') )\n",
    "    if c.islower():\n",
    "        return chr( (ord(c)-ord('a') + shift )%26 + ord('a')) \n",
    "\n",
    "#shift_char('E', 2 )\n",
    "def str_tran(src):\n",
    "    dst = ''\n",
    "    for c in src:\n",
    "        dst = dst + shift_char(c, 2)\n",
    "    return dst\n",
    "\n",
    "src=r\"g fmnc wms bgblr rpylqjyrc gr zw fylb. rfyrq ufyr amknsrcpq ypc dmp. bmgle gr gl zw fylb gq glcddgagclr ylb rfyr'q ufw rfgq rcvr gq qm jmle. sqgle qrpgle.kyicrpylq() gq pcamkkclbcb. lmu ynnjw ml rfc spj.\"\n",
    "print str_tran(src)\n",
    "url='map'\n",
    "print str_tran(url)"
   ]
  },
  {
   "cell_type": "code",
   "execution_count": 22,
   "metadata": {},
   "outputs": [
    {
     "name": "stdout",
     "output_type": "stream",
     "text": [
      "i hope you didnt translate it by hand. thats what computers are for. doing it in by hand is inefficient and that's why this text is so long. using string.maketrans() is recommended. now apply on the url.\n"
     ]
    }
   ],
   "source": [
    "## 另外的一个解法\n",
    "import string\n",
    "intab='abcdefghijklmnopqrstuvwxyz'\n",
    "outtab='cdefghijklmnopqrstuvwxyzab'\n",
    "transtab=string.maketrans(intab,outtab)  #transtab就是解密表\n",
    "plaintext=src.translate(transtab)\n",
    "print(plaintext)"
   ]
  },
  {
   "cell_type": "markdown",
   "metadata": {},
   "source": [
    "## 2 \n",
    "http://www.pythonchallenge.com/pc/def/ocr.html\n",
    "    "
   ]
  },
  {
   "cell_type": "code",
   "execution_count": 2,
   "metadata": {},
   "outputs": [
    {
     "data": {
      "text/plain": [
       "98764"
      ]
     },
     "execution_count": 2,
     "metadata": {},
     "output_type": "execute_result"
    }
   ],
   "source": [
    "str_2 = ''.join(open('./pythonchallenge/2.txt').readlines())\n",
    "len(str_2)"
   ]
  },
  {
   "cell_type": "code",
   "execution_count": 4,
   "metadata": {
    "collapsed": true
   },
   "outputs": [
    {
     "data": {
      "text/plain": [
       "[('a', 1),\n ('e', 1),\n ('i', 1),\n ('l', 1),\n ('q', 1),\n ('u', 1),\n ('t', 1),\n ('y', 1),\n ('\\n', 1219),\n ('^', 6030),\n ('*', 6034),\n ('&', 6043),\n ('$', 6046),\n ('{', 6046),\n ('+', 6066),\n ('!', 6079),\n ('%', 6104),\n ('}', 6105),\n ('[', 6108),\n ('_', 6112),\n ('#', 6115),\n (']', 6152),\n ('(', 6154),\n ('@', 6157),\n (')', 6186)]"
      ]
     },
     "execution_count": 4,
     "metadata": {},
     "output_type": "execute_result"
    }
   ],
   "source": [
    "def count_char(str):\n",
    "    wc = {}\n",
    "    for c in str:\n",
    "        wc.setdefault(c,0)\n",
    "        wc[c] += 1\n",
    "    return wc \n",
    "\n",
    "wc = count_char(str_2)\n",
    "slist = sorted( wc.items(), lambda x,y: cmp(x[1],y[1]) )\n",
    "slist"
   ]
  },
  {
   "cell_type": "code",
   "execution_count": 5,
   "metadata": {
    "collapsed": true
   },
   "outputs": [
    {
     "data": {
      "text/plain": [
       "[(2421, 'e'),\n (26288, 'q'),\n (33126, 'u'),\n (44797, 'a'),\n (62760, 'l'),\n (84706, 'i'),\n (86239, 't'),\n (87323, 'y')]"
      ]
     },
     "execution_count": 5,
     "metadata": {},
     "output_type": "execute_result"
    }
   ],
   "source": [
    "url_list = []\n",
    "for c in 'aeilquty':\n",
    "    url_list.append((str_2.find(c),c))\n",
    "url_list.sort()\n",
    "url_list"
   ]
  },
  {
   "cell_type": "markdown",
   "metadata": {},
   "source": [
    "## 3 \n",
    "http://www.pythonchallenge.com/pc/def/equality.html\n"
   ]
  },
  {
   "cell_type": "code",
   "execution_count": 15,
   "metadata": {},
   "outputs": [
    {
     "data": {
      "text/plain": [
       "1250"
      ]
     },
     "execution_count": 15,
     "metadata": {},
     "output_type": "execute_result"
    }
   ],
   "source": [
    "str_list = [ line.rstrip() for line in open('./pythonchallenge/3.txt').readlines() ]\n",
    "len(str_list)"
   ]
  },
  {
   "cell_type": "code",
   "execution_count": 31,
   "metadata": {
    "collapsed": true
   },
   "outputs": [
    {
     "name": "stdout",
     "output_type": "stream",
     "text": [
      "1250 80\n54 6\n190 14\n252 37\n352 39\n435 60\n575 48\n588 74\n1014 71\n1041 38\n1144 4\n"
     ]
    },
    {
     "data": {
      "text/plain": [
       "'linkedlist'"
      ]
     },
     "execution_count": 31,
     "metadata": {},
     "output_type": "execute_result"
    }
   ],
   "source": [
    "def check_is_body_gruad(i,j,r_max, c_max, str_list):\n",
    "    #print 'check_is_body_gruad:', i,j,r_max,c_max \n",
    "    if i <0 or i >= r_max:\n",
    "        return False\n",
    "    if j<0 or j >= c_max:\n",
    "        return False\n",
    "    #print str_list[i][j]\n",
    "    return str_list[i][j].isupper()\n",
    "\n",
    "def check_one4(i,j, r_max, c_max, str_list):\n",
    "    dir_list=[-3,-2,-1,1,2,3]\n",
    "    for dir in dir_list:\n",
    "        if check_is_body_gruad(i+dir, j, r_max, c_max, str_list) == False:\n",
    "            return False\n",
    "        if check_is_body_gruad(i, j+dir, r_max, c_max, str_list) == False:\n",
    "            return False\n",
    "        \n",
    "    dir_list=[-4,4]\n",
    "    for dir in dir_list:\n",
    "        if check_is_body_gruad(i+dir, j, r_max, c_max, str_list) == True:\n",
    "            return False\n",
    "        if check_is_body_gruad(i, j+dir, r_max, c_max, str_list) == True:\n",
    "            return False\n",
    "    return True\n",
    "    \n",
    "\n",
    "def check_one2(i,j, r_max, c_max, str_list):\n",
    "    dir_list=[-3,-2,-1,1,2,3]\n",
    "    for dir in dir_list:\n",
    "        if check_is_body_gruad(i, j+dir, r_max, c_max, str_list) == False:\n",
    "            return False\n",
    "      \n",
    "    dir_list=[-4,4]\n",
    "    for dir in dir_list:\n",
    "        if check_is_body_gruad(i, j+dir, r_max, c_max, str_list) == True:\n",
    "            return False\n",
    "    return True\n",
    "    \n",
    "def slv(str_list):\n",
    "    res = ''\n",
    "    r_max = len(str_list)\n",
    "    c_max = len(str_list[0])\n",
    "    print r_max, c_max\n",
    "    for i in range(0, r_max):\n",
    "        for j in range(0, c_max):\n",
    "            c = str_list[i][j]\n",
    "            #print c,i,j \n",
    "            if c.isupper():\n",
    "                continue\n",
    "            #print i,j \n",
    "            if check_one2(i,j,r_max,c_max,str_list) == True:\n",
    "                print i,j \n",
    "                res = res + c \n",
    "    return res \n",
    "\n",
    "res = slv(str_list)\n",
    "res"
   ]
  },
  {
   "cell_type": "code",
   "execution_count": 39,
   "metadata": {},
   "outputs": [
    {
     "data": {
      "text/plain": [
       "'linkedlist'"
      ]
     },
     "execution_count": 39,
     "metadata": {},
     "output_type": "execute_result"
    }
   ],
   "source": [
    "import re\n",
    "text = ''.join(str_list)\n",
    "''.join (re.findall('[^A-Z][A-Z]{3}([a-z])[A-Z]{3}[^A-Z]', text))"
   ]
  },
  {
   "cell_type": "code",
   "execution_count": null,
   "metadata": {},
   "outputs": [],
   "source": [
    ""
   ]
  }
 ],
 "metadata": {
  "kernelspec": {
   "display_name": "Python 2",
   "language": "python",
   "name": "python2"
  },
  "language_info": {
   "codemirror_mode": {
    "name": "ipython",
    "version": 2.0
   },
   "file_extension": ".py",
   "mimetype": "text/x-python",
   "name": "python",
   "nbconvert_exporter": "python",
   "pygments_lexer": "ipython2",
   "version": "2.7.6"
  }
 },
 "nbformat": 4,
 "nbformat_minor": 0
}