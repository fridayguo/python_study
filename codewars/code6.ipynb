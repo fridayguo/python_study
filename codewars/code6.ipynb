{
 "cells": [
  {
   "cell_type": "code",
   "execution_count": 6,
   "metadata": {
    "collapsed": true
   },
   "outputs": [
    {
     "name": "stdout",
     "output_type": "stream",
     "text": [
      "2\n"
     ]
    }
   ],
   "source": [
    "def isValidWalk(walk):\n",
    "    #determine if walk is valid\n",
    "    if len(walk) != 10:\n",
    "        return False\n",
    "    \n",
    "    w = 0\n",
    "    n = 0\n",
    "    for d in walk:\n",
    "        if d == 'w':\n",
    "            w +=1\n",
    "        if d == 'e':\n",
    "            w -=1\n",
    "        if d == 'n':\n",
    "            n +=1\n",
    "        if d == 's':\n",
    "            n -=1\n",
    "    if w==0 and n==0:\n",
    "        return True\n",
    "    else:\n",
    "        return False\n",
    "    \n",
    "walk.count('e')\n",
    "walk = ['e', 'w', 'w', 'e']\n",
    "walk = 'ewwwe'\n",
    "print walk.count('e')"
   ]
  },
  {
   "cell_type": "code",
   "execution_count": 11,
   "metadata": {},
   "outputs": [
    {
     "name": "stdout",
     "output_type": "stream",
     "text": [
      "How Can Mirrors Be Real If Our Eyes Aren't Real\n"
     ]
    }
   ],
   "source": [
    "def toJadenCase2(string):\n",
    "    return ' '.join([ x[0].upper()+x[1:] for x in string.split(' ') ])\n",
    "\n",
    "def toJadenCase(string):\n",
    "    return ' '.join([ x.capitalize() for x in string.split(' ') ])\n",
    "\n",
    "\n",
    "quote = \"How can mirrors be real if our eyes aren't real\"\n",
    "print toJadenCase(quote)"
   ]
  },
  {
   "cell_type": "code",
   "execution_count": 14,
   "metadata": {},
   "outputs": [
    {
     "data": {
      "text/plain": [
       "[1, 2, 3, 6, 11, 20, 37, 68, 125, 230]"
      ]
     },
     "execution_count": 14,
     "metadata": {},
     "output_type": "execute_result"
    }
   ],
   "source": [
    "def tribonacci(signature,n):\n",
    "    for i in range(3,n):\n",
    "         signature.append(  signature[i-1] + signature[i-2] + signature[i-3] )\n",
    "    return signature[:n]\n",
    "    #your code here\n",
    "\n",
    "tribonacci([1,2,3],10)"
   ]
  },
  {
   "cell_type": "code",
   "execution_count": 17,
   "metadata": {},
   "outputs": [
    {
     "name": "stdout",
     "output_type": "stream",
     "text": [
      "0 12\n1 14\n2 21\n"
     ]
    },
    {
     "data": {
      "text/plain": [
       "'ixoyx3452zzzzzzzzzzzz'"
      ]
     },
     "execution_count": 17,
     "metadata": {},
     "output_type": "execute_result"
    }
   ],
   "source": [
    "def longest_consec(s, k):\n",
    "    max = 0\n",
    "    max_index = 0\n",
    "    for i in range(len(s)-k+1):\n",
    "        a = sum([len(x) for x in s[i:i+k]] )\n",
    "        print i,a \n",
    "        if a > max:\n",
    "            max = a \n",
    "            max_index = i \n",
    "    return ''.join(s[max_index:max_index+k])\n",
    "    \n",
    "longest_consec([\"it\",\"wkppv\",\"ixoyx\", \"3452\", \"zzzzzzzzzzzz\"], 3)"
   ]
  },
  {
   "cell_type": "code",
   "execution_count": 27,
   "metadata": {},
   "outputs": [
    {
     "data": {
      "text/plain": [
       "False"
      ]
     },
     "execution_count": 27,
     "metadata": {},
     "output_type": "execute_result"
    }
   ],
   "source": [
    "from math import sqrt \n",
    "def is_square(n):\n",
    "    s = int(sqrt(n))\n",
    "    return n == s*s \n",
    "\n",
    "is_square(17)"
   ]
  },
  {
   "cell_type": "code",
   "execution_count": 37,
   "metadata": {},
   "outputs": [
    {
     "data": {
      "text/plain": [
       "[2, 2]"
      ]
     },
     "execution_count": 37,
     "metadata": {},
     "output_type": "execute_result"
    }
   ],
   "source": [
    "def mineLocation(field):\n",
    "    for i in range(len(field)):\n",
    "        for j in range(len(field[0])):\n",
    "            if field[i][j] == 1:\n",
    "                return [i,j]\n",
    "    return [0,0]\n",
    "    #your code here\n",
    "\n",
    "mineLocation([ [0, 0, 0, 0], [0, 0, 0, 0], [0, 0, 1, 0], [0, 0, 0, 0] ])"
   ]
  },
  {
   "cell_type": "code",
   "execution_count": 44,
   "metadata": {},
   "outputs": [
    {
     "data": {
      "text/plain": [
       "(array([0, 2], dtype=int64), array([0, 2], dtype=int64))"
      ]
     },
     "execution_count": 44,
     "metadata": {},
     "output_type": "execute_result"
    }
   ],
   "source": [
    "from numpy import where, array\n",
    "\n",
    "a = [ [1, 2, 3, 4], [2, 4, 6, 8], [0, 0, 1, 0], [0, 0, 0, 0] ]\n",
    "where( array(a) == 1)"
   ]
  },
  {
   "cell_type": "code",
   "execution_count": 58,
   "metadata": {},
   "outputs": [],
   "source": [
    "def next_step(path, map, row, col, i, j, dir):\n",
    "    x=i\n",
    "    y=j \n",
    "    if dir == 'right': x+=1\n",
    "    if dir == 'left': x-=1\n",
    "    if dir == 'up': y-=1\n",
    "    if dir == 'down': y+=1\n",
    "    if x <0 or x>=row or y<0 or y>=col : return (False,i,j)\n",
    "    \n",
    "    key = x*10000+y\n",
    "    if  path.has_key(key): return (False,i,j)\n",
    "    return (map[x][y], x, y)\n",
    "\n",
    "def find_path(path, map, row, col, i, j):\n",
    "    kij = i*10000+j \n",
    "    path.setdefault(kij, [])\n",
    "    \n",
    "    for dir in ['up', 'down', 'right', 'left']:\n",
    "        step,x,y = next_step(path, map, row, col, i, j, dir)\n",
    "        #print i,j,dir,step,x,y\n",
    "        #print path \n",
    "        if step == True:\n",
    "            kxy = x*10000+y\n",
    "            path[kxy] = path[kij][:]\n",
    "            path[kxy].append(dir)\n",
    "            \n",
    "            find_path(path, map, row, col, x, y)\n",
    "            \n",
    "def solve(map, miner, exit):\n",
    "  path ={}\n",
    "  row = len(map)\n",
    "  col = len(map[0])\n",
    "  find_path(path, map, row, col, miner['x'],miner['y'])\n",
    "  \n",
    "  k_exit = exit['x']*10000+exit['y']\n",
    "  return path[k_exit]"
   ]
  },
  {
   "cell_type": "code",
   "execution_count": 60,
   "metadata": {
    "collapsed": true
   },
   "outputs": [
    {
     "name": "stdout",
     "output_type": "stream",
     "text": [
      "0 0 up False 0 0\n{0: []}\n0 0 down True 0 1\n{0: []}\n0 1 up False 0 1\n{0: [], 1: ['down']}\n0 1 down True 0 2\n{0: [], 1: ['down']}\n0 2 up False 0 2\n{0: [], 1: ['down'], 2: ['down', 'down']}\n0 2 down False 0 2\n{0: [], 1: ['down'], 2: ['down', 'down']}\n0 2 right True 1 2\n{0: [], 1: ['down'], 2: ['down', 'down']}\n1 2 up False 1 1\n{0: [], 1: ['down'], 2: ['down', 'down'], 10002: ['down', 'down', 'right']}\n1 2 down False 1 2\n{0: [], 1: ['down'], 2: ['down', 'down'], 10002: ['down', 'down', 'right']}\n1 2 right True 2 2\n{0: [], 1: ['down'], 2: ['down', 'down'], 10002: ['down', 'down', 'right']}\n2 2 up True 2 1\n{0: [], 1: ['down'], 2: ['down', 'down'], 20002: ['down', 'down', 'right', 'right'], 10002: ['down', 'down', 'right']}\n2 1 up True 2 0\n{0: [], 1: ['down'], 2: ['down', 'down'], 20001: ['down', 'down', 'right', 'right', 'up'], 20002: ['down', 'down', 'right', 'right'], 10002: ['down', 'down', 'right']}\n2 0 up False 2 0\n{0: [], 1: ['down'], 2: ['down', 'down'], 20001: ['down', 'down', 'right', 'right', 'up'], 20002: ['down', 'down', 'right', 'right'], 10002: ['down', 'down', 'right'], 20000: ['down', 'down', 'right', 'right', 'up', 'up']}\n2 0 down False 2 0\n{0: [], 1: ['down'], 2: ['down', 'down'], 20001: ['down', 'down', 'right', 'right', 'up'], 20002: ['down', 'down', 'right', 'right'], 10002: ['down', 'down', 'right'], 20000: ['down', 'down', 'right', 'right', 'up', 'up']}\n2 0 right False 2 0\n{0: [], 1: ['down'], 2: ['down', 'down'], 20001: ['down', 'down', 'right', 'right', 'up'], 20002: ['down', 'down', 'right', 'right'], 10002: ['down', 'down', 'right'], 20000: ['down', 'down', 'right', 'right', 'up', 'up']}\n2 0 left False 1 0\n{0: [], 1: ['down'], 2: ['down', 'down'], 20001: ['down', 'down', 'right', 'right', 'up'], 20002: ['down', 'down', 'right', 'right'], 10002: ['down', 'down', 'right'], 20000: ['down', 'down', 'right', 'right', 'up', 'up']}\n2 1 down False 2 1\n{0: [], 1: ['down'], 2: ['down', 'down'], 20001: ['down', 'down', 'right', 'right', 'up'], 20002: ['down', 'down', 'right', 'right'], 10002: ['down', 'down', 'right'], 20000: ['down', 'down', 'right', 'right', 'up', 'up']}\n2 1 right False 2 1\n{0: [], 1: ['down'], 2: ['down', 'down'], 20001: ['down', 'down', 'right', 'right', 'up'], 20002: ['down', 'down', 'right', 'right'], 10002: ['down', 'down', 'right'], 20000: ['down', 'down', 'right', 'right', 'up', 'up']}\n2 1 left False 1 1\n{0: [], 1: ['down'], 2: ['down', 'down'], 20001: ['down', 'down', 'right', 'right', 'up'], 20002: ['down', 'down', 'right', 'right'], 10002: ['down', 'down', 'right'], 20000: ['down', 'down', 'right', 'right', 'up', 'up']}\n2 2 down False 2 2\n{0: [], 1: ['down'], 2: ['down', 'down'], 20001: ['down', 'down', 'right', 'right', 'up'], 20002: ['down', 'down', 'right', 'right'], 10002: ['down', 'down', 'right'], 20000: ['down', 'down', 'right', 'right', 'up', 'up']}\n2 2 right False 2 2\n{0: [], 1: ['down'], 2: ['down', 'down'], 20001: ['down', 'down', 'right', 'right', 'up'], 20002: ['down', 'down', 'right', 'right'], 10002: ['down', 'down', 'right'], 20000: ['down', 'down', 'right', 'right', 'up', 'up']}\n2 2 left False 2 2\n{0: [], 1: ['down'], 2: ['down', 'down'], 20001: ['down', 'down', 'right', 'right', 'up'], 20002: ['down', 'down', 'right', 'right'], 10002: ['down', 'down', 'right'], 20000: ['down', 'down', 'right', 'right', 'up', 'up']}\n1 2 left False 1 2\n{0: [], 1: ['down'], 2: ['down', 'down'], 20001: ['down', 'down', 'right', 'right', 'up'], 20002: ['down', 'down', 'right', 'right'], 10002: ['down', 'down', 'right'], 20000: ['down', 'down', 'right', 'right', 'up', 'up']}\n0 2 left False 0 2\n{0: [], 1: ['down'], 2: ['down', 'down'], 20001: ['down', 'down', 'right', 'right', 'up'], 20002: ['down', 'down', 'right', 'right'], 10002: ['down', 'down', 'right'], 20000: ['down', 'down', 'right', 'right', 'up', 'up']}\n0 1 right False 1 1\n{0: [], 1: ['down'], 2: ['down', 'down'], 20001: ['down', 'down', 'right', 'right', 'up'], 20002: ['down', 'down', 'right', 'right'], 10002: ['down', 'down', 'right'], 20000: ['down', 'down', 'right', 'right', 'up', 'up']}\n0 1 left False 0 1\n{0: [], 1: ['down'], 2: ['down', 'down'], 20001: ['down', 'down', 'right', 'right', 'up'], 20002: ['down', 'down', 'right', 'right'], 10002: ['down', 'down', 'right'], 20000: ['down', 'down', 'right', 'right', 'up', 'up']}\n0 0 right False 1 0\n{0: [], 1: ['down'], 2: ['down', 'down'], 20001: ['down', 'down', 'right', 'right', 'up'], 20002: ['down', 'down', 'right', 'right'], 10002: ['down', 'down', 'right'], 20000: ['down', 'down', 'right', 'right', 'up', 'up']}\n0 0 left False 0 0\n{0: [], 1: ['down'], 2: ['down', 'down'], 20001: ['down', 'down', 'right', 'right', 'up'], 20002: ['down', 'down', 'right', 'right'], 10002: ['down', 'down', 'right'], 20000: ['down', 'down', 'right', 'right', 'up', 'up']}\n"
     ]
    },
    {
     "data": {
      "text/plain": [
       "['down', 'down', 'right', 'right', 'up', 'up']"
      ]
     },
     "execution_count": 60,
     "metadata": {},
     "output_type": "execute_result"
    }
   ],
   "source": [
    "minemap = [[True, True, True],\n",
    "  [False, False, True],\n",
    "  [True, True, True]]\n",
    "solve(minemap, {'x':0,'y':0}, {'x':2,'y':0})"
   ]
  },
  {
   "cell_type": "code",
   "execution_count": null,
   "metadata": {},
   "outputs": [],
   "source": [
    ""
   ]
  },
  {
   "cell_type": "code",
   "execution_count": 76,
   "metadata": {},
   "outputs": [],
   "source": [
    "def is_checked(path, i, j):\n",
    "    k = i*10000+j \n",
    "    if path.has_key(k):\n",
    "        return True\n",
    "    else:\n",
    "        return False\n",
    "\n",
    "def set_checked(path, i, j):\n",
    "    k = i*10000+j \n",
    "    path[k] = 1\n",
    "\n",
    "def next_step(path, map, row, col, i, j, dir):\n",
    "    x=i\n",
    "    y=j \n",
    "    if dir == 'up': x+=1\n",
    "    if dir == 'down': x-=1\n",
    "    if dir == 'left': y-=1\n",
    "    if dir == 'right': y+=1\n",
    "    if x <0 or x>=row or y<0 or y>=col : return (0,i,j)\n",
    "    return (map[x][y], x, y)\n",
    "\n",
    "def find_path(path, map, row, col, i, j):\n",
    "    if is_checked(path, i, j):\n",
    "        return \n",
    "    set_checked(path, i, j)   \n",
    "    print path \n",
    "    \n",
    "    for dir in ['up', 'right', 'left']:\n",
    "        step,x,y = next_step(path, map, row, col, i, j, dir)\n",
    "        print i,j,dir,step,x,y\n",
    "        if step == 1:            \n",
    "            find_path(path, map, row, col, x, y)\n",
    "            \n",
    "def get_number_of_reachable_fields(map, row, col, i, j):\n",
    "    path ={}\n",
    "    find_path(path, map, row, col, i,j)\n",
    "    \n",
    "    sum = 0\n",
    "    for j in range(col):\n",
    "        k = (row-1)*10000 + j\n",
    "        sum += path.get(k, 0)\n",
    "    return sum"
   ]
  },
  {
   "cell_type": "code",
   "execution_count": 77,
   "metadata": {},
   "outputs": [
    {
     "name": "stdout",
     "output_type": "stream",
     "text": [
      "{10000: 1}\n1 0 up 1 2 0\n{10000: 1, 20000: 1}\n2 0 up 0 2 0\n2 0 right 1 2 1\n{10000: 1, 20000: 1, 20001: 1}\n2 1 up 0 2 1\n2 1 right 0 2 2\n2 1 left 1 2 0\n2 0 left 0 2 0\n1 0 right 0 1 1\n1 0 left 0 1 0\n"
     ]
    },
    {
     "data": {
      "text/plain": [
       "2"
      ]
     },
     "execution_count": 77,
     "metadata": {},
     "output_type": "execute_result"
    }
   ],
   "source": [
    "grid = [[0,0,1],\n",
    "        [1,0,1],\n",
    "        [1,1,0]]\n",
    "get_number_of_reachable_fields(grid, 3, 3, 1, 0)"
   ]
  },
  {
   "cell_type": "code",
   "execution_count": 3,
   "metadata": {},
   "outputs": [
    {
     "data": {
      "text/plain": [
       "256"
      ]
     },
     "execution_count": 3,
     "metadata": {},
     "output_type": "execute_result"
    }
   ],
   "source": [
    "# this is not fast enough!\n",
    "def digit_sum(n):\n",
    "    return sum(int(c) for c in str(n))\n",
    "\n",
    "digit_sum(2**200)"
   ]
  },
  {
   "cell_type": "code",
   "execution_count": 4,
   "metadata": {},
   "outputs": [
    {
     "name": "stdout",
     "output_type": "stream",
     "text": [
      "<COMPLETEDIN::>0.0\n"
     ]
    }
   ],
   "source": [
    "from time import time\n",
    "from math import floor\n",
    "s = time()\n",
    "\n",
    "\n",
    "digit_sum(0)\n",
    "digit_sum(12345)\n",
    "digit_sum(999)\n",
    "digit_sum(4294967295)\n",
    "digit_sum(2**200)\n",
    "print('<COMPLETEDIN::>{}'.format(floor((time()-s)*1000)))"
   ]
  },
  {
   "cell_type": "code",
   "execution_count": 9,
   "metadata": {},
   "outputs": [
    {
     "data": {
      "text/plain": [
       "'&&&&&&&&'"
      ]
     },
     "execution_count": 9,
     "metadata": {},
     "output_type": "execute_result"
    }
   ],
   "source": [
    "import re \n",
    "def contamination(text, char):\n",
    "   return re.sub(r'.', char, text)\n",
    "   \n",
    "\n",
    "contamination(\"_3ebzgh4\",\"&\")"
   ]
  },
  {
   "cell_type": "code",
   "execution_count": 17,
   "metadata": {},
   "outputs": [
    {
     "data": {
      "text/plain": [
       "True"
      ]
     },
     "execution_count": 17,
     "metadata": {},
     "output_type": "execute_result"
    }
   ],
   "source": [
    "None != re.match(r'[123]', str(3) )"
   ]
  },
  {
   "cell_type": "code",
   "execution_count": 26,
   "metadata": {},
   "outputs": [],
   "source": [
    "class Test:\n",
    "    def describe(self,s):\n",
    "        print(s)\n",
    "        \n",
    "    def assert_equals(self,a,b):\n",
    "        if a != b:\n",
    "            print 'ERROR',a,b\n",
    "        else:\n",
    "            print 'SUCC',str(a),b \n",
    "\n",
    "Test = Test()"
   ]
  },
  {
   "cell_type": "code",
   "execution_count": 33,
   "metadata": {},
   "outputs": [
    {
     "name": "stdout",
     "output_type": "stream",
     "text": [
      "Basic tests\nSUCC True True\nSUCC False False\nSUCC False False\nSUCC False False\nSUCC False False\nSUCC True True\nSUCC False False\nSUCC True True\nSUCC False False\nSUCC True True\n"
     ]
    }
   ],
   "source": [
    "def validate_usr(s):\n",
    "    return None != re.match('^[a-z0-9_]{4,16}$', s)\n",
    "\n",
    "Test.describe(\"Basic tests\")\n",
    "Test.assert_equals(validate_usr('asddsa'), True)\n",
    "Test.assert_equals(validate_usr('a'), False)\n",
    "Test.assert_equals(validate_usr('Hass'), False)\n",
    "Test.assert_equals(validate_usr('Hasd_12assssssasasasasasaasasasasas'), False)\n",
    "Test.assert_equals(validate_usr(''), False)\n",
    "Test.assert_equals(validate_usr('____'), True)\n",
    "Test.assert_equals(validate_usr('012'), False)\n",
    "Test.assert_equals(validate_usr('p1pp1'), True)\n",
    "Test.assert_equals(validate_usr('asd43 34'), False)\n",
    "Test.assert_equals(validate_usr('asd43_34'), True)"
   ]
  },
  {
   "cell_type": "code",
   "execution_count": 38,
   "metadata": {},
   "outputs": [
    {
     "name": "stdout",
     "output_type": "stream",
     "text": [
      "lowercase_count\nSUCC 3 3\nSUCC 3 3\nSUCC 3 3\nSUCC 0 0\nSUCC 0 0\nSUCC 26 26\n"
     ]
    }
   ],
   "source": [
    "def lowercase_count(s):\n",
    "    import re \n",
    "    return len(re.findall('[a-z]', s))\n",
    "\n",
    "Test.describe(\"lowercase_count\")\n",
    "\n",
    "\n",
    "Test.assert_equals(lowercase_count(\"abc\"), 3)\n",
    "Test.assert_equals(lowercase_count(\"abcABC123\"), 3)\n",
    "Test.assert_equals(lowercase_count(\"abcABC123!@#$%^&*()_-+=}{[]|\\':;?/>.<,~\"), 3)\n",
    "Test.assert_equals(lowercase_count(\"\"), 0)\n",
    "Test.assert_equals(lowercase_count(\"ABC123!@#$%^&*()_-+=}{[]|\\':;?/>.<,~\"), 0)\n",
    "Test.assert_equals(lowercase_count(\"abcdefghijklmnopqrstuvwxyz\"), 26)"
   ]
  },
  {
   "cell_type": "code",
   "execution_count": null,
   "metadata": {},
   "outputs": [],
   "source": [
    "def wheres_wally(s):\n",
    "    return \n",
    "\n",
    "Test.assert_equals(wheres_wally(\"\"),-1)\n",
    "Test.assert_equals(wheres_wally(\"WAlly\"),-1)\n",
    "Test.assert_equals(wheres_wally(\"wAlly\"),-1)\n",
    "Test.assert_equals(wheres_wally(\"Wally\"),0)\n",
    "Test.assert_equals(wheres_wally(\"Where's Wally\"),8)\n"
   ]
  }
 ],
 "metadata": {
  "kernelspec": {
   "display_name": "Python 2",
   "language": "python",
   "name": "python2"
  },
  "language_info": {
   "codemirror_mode": {
    "name": "ipython",
    "version": 2.0
   },
   "file_extension": ".py",
   "mimetype": "text/x-python",
   "name": "python",
   "nbconvert_exporter": "python",
   "pygments_lexer": "ipython2",
   "version": "2.7.6"
  }
 },
 "nbformat": 4,
 "nbformat_minor": 0
}