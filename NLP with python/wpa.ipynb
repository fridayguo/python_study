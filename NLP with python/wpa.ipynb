{
 "cells": [
  {
   "cell_type": "code",
   "execution_count": 2,
   "metadata": {
    "collapsed": true
   },
   "outputs": [],
   "source": [
    "import pandas as pd\n",
    "import jieba\n",
    "import jieba.posseg as pseg\n",
    "import jieba.analyse\n",
    "\n",
    "import nltk\n",
    "from nltk.book import *\n",
    "\n",
    "# encoding=gbk"
   ]
  },
  {
   "cell_type": "code",
   "execution_count": 3,
   "metadata": {
    "collapsed": true
   },
   "outputs": [
    {
     "name": "stdout",
     "output_type": "stream",
     "text": [
      "<class 'pandas.core.frame.DataFrame'>\nInt64Index: 7501 entries, 0 to 10894\nData columns (total 13 columns):\nstat_day           7501 non-null object\nkfuin              7501 non-null object\nqq                 7501 non-null object\nis_b2c             7501 non-null object\nis_delay           7501 non-null object\nis_not_ack         7501 non-null object\nmsg_c2b            7501 non-null object\nmsg_b2c            7501 non-null object\nrecv_msg_num       7501 non-null object\nsend_msg_num       7501 non-null object\nfirst_recv_date    5795 non-null object\nfirst_send_date    4489 non-null object\nmsg                5795 non-null object\ndtypes: object(13)\nmemory usage: 820.4+ KB\n"
     ]
    }
   ],
   "source": [
    "df = pd.read_csv('D:/CrtFile/crm_req_20171122')\n",
    "df.drop_duplicates(inplace=True)\n",
    "df.info()"
   ]
  },
  {
   "cell_type": "code",
   "execution_count": 4,
   "metadata": {},
   "outputs": [
    {
     "name": "stdout",
     "output_type": "stream",
     "text": [
      "7501\n970938\n"
     ]
    }
   ],
   "source": [
    "msg_list = [ str(msg) for msg in df['msg'] ]\n",
    "print len(msg_list)\n",
    "\n",
    "all_text = ' '.join(msg_list)\n",
    "print len(all_text)"
   ]
  },
  {
   "cell_type": "code",
   "execution_count": 40,
   "metadata": {},
   "outputs": [
    {
     "name": "stdout",
     "output_type": "stream",
     "text": [
      " 下   在   没定单啊   不是   是申请的   网上申请的企业   qq   嗯嗯   多少钱呢   暂时2   个   多少一个企业QQ   你好   企业qq换手机在哪换   网址发一下   谢谢   ?   企业QQ换手机   怎么换   500人的企业号   多少钱一个   嗯   一个工号120?   那100个工号呢   有10个工号的吗   我人不是很多   只需10个工号   价格是多少   这个怎么购买呢   个人现在还不行吗   官网能发下吗   我找不到  nan  zaima   nan nan  我QQ  为啥加不上人？   我给100   300   500   600   1000   500000   56.636   6200000   ko?\\   在？   企业号可以开2000人群？   是的   把你的这么回复关了   0  nan  你好   企业QQ30个多少钱一年   标准的   贵了   你这价格   有人买5000   扯蛋   百度我都查了   你应该是代理   你是代理还是   哦哦   代理也买6000   坑啊   能用一年就好了   不要了   你们自己用吧   那为什么人家买的比你\n"
     ]
    }
   ],
   "source": [
    "import jieba\n",
    "user_dict = './NLP with python/wpa_dict.txt'\n",
    "stop_dict = './NLP with python/stop_word_dict.txt'\n",
    "\n",
    "text = all_text[:1001]\n",
    "print text"
   ]
  },
  {
   "cell_type": "code",
   "execution_count": 41,
   "metadata": {},
   "outputs": [],
   "source": [
    "#去除标点符号\n",
    "#-*-coding:utf-8-*-\n",
    "def trim_puntuation(str):\n",
    "    import re \n",
    "    tmp_str = str.decode(\"utf8\")\n",
    "    #print tmp_str\n",
    "    puntuation = \"[0-9\\s+\\.\\!\\/_,$%^*(+\\\"\\'\\\\]+|[+——！，。？?、~@#￥%……&*（）]+\".decode(\"utf8\")\n",
    "    #print puntuation   \n",
    "    res_str = re.sub(puntuation, \" \".decode(\"utf8\"), tmp_str)\n",
    "    return res_str"
   ]
  },
  {
   "cell_type": "code",
   "execution_count": 42,
   "metadata": {},
   "outputs": [],
   "source": [
    "#过滤停用词  \n",
    "import codecs\n",
    "def trim_stop_word(word_list, stop_word_file):\n",
    "    st = codecs.open(stop_word_file, 'rb',encoding='utf-8')      \n",
    "    stopwords = [ line.strip() for line in st ]  \n",
    "    return [ w for w in word_list if len(w.strip()) >0 and w not in stopwords ]"
   ]
  },
  {
   "cell_type": "code",
   "execution_count": 58,
   "metadata": {},
   "outputs": [],
   "source": [
    "def fen_ci(msg):\n",
    "    text_pun = trim_puntuation(msg)\n",
    "    word_list = trim_stop_word(jieba.lcut(text_pun), stop_dict)\n",
    "    return ' '.join(word_list)"
   ]
  },
  {
   "cell_type": "code",
   "execution_count": 43,
   "metadata": {},
   "outputs": [
    {
     "name": "stdout",
     "output_type": "stream",
     "text": [
      "下/没/定单/不是/申请/网上/申请/企业/qq/多少钱/暂时/一个/企业/QQ/你好/企业/qq/换/手机/哪换/网址/发/一下/谢谢/企业/QQ/换/手机/换/人/企业/号/多少钱/一个/一个/工号/工号/工号/我人/不是/很多/只/需/工号/价格/购买/个人/现在/还/不行/官网/发下/找/不到/nan/zaima/nan/nan/QQ/为啥/加不上/人/ko/\\/企业/号/开/人群/回复/关/nan/你好/企业/QQ/多少钱/一年/标准/贵/价格/有人/买/扯蛋/百度/都/查/应该/代理/代理/代理/买/坑/一年/好/不要/买\n"
     ]
    }
   ],
   "source": [
    "jieba.load_userdict(user_dict)\n",
    "text_pun = trim_puntuation(text)\n",
    "#print text\n",
    "word_list = trim_stop_word(jieba.lcut(text_pun), stop_dict)\n",
    "print ( '/'.join(word_list))"
   ]
  },
  {
   "cell_type": "code",
   "execution_count": 44,
   "metadata": {},
   "outputs": [
    {
     "data": {
      "image/png": "[encoded data removed]",
      "text/plain": [
       "<matplotlib.figure.Figure at 0x1b6277f0>"
      ]
     },
     "metadata": {},
     "output_type": "display_data"
    }
   ],
   "source": [
    "wpa = nltk.Text(word_list)\n",
    "fd = FreqDist(wpa)\n",
    "fd.plot(50, cumulative=True)"
   ]
  },
  {
   "cell_type": "code",
   "execution_count": 50,
   "metadata": {},
   "outputs": [
    {
     "name": "stdout",
     "output_type": "stream",
     "text": [
      "企业 -> 7  nan -> 4  工号 -> 4  QQ -> 4  代理 -> 3  买 -> 3  一个 -> 3  换 -> 3  多少钱 -> 3  手机 -> 2  价格 -> 2  申请 -> 2  人 -> 2  一年 -> 2  不是 -> 2  你好 -> 2  qq -> 2  号 -> 2  很多 -> 1  需 -> 1  zaima -> 1  人群 -> 1  一下 -> 1  下 -> 1  加不上 -> 1  标准 -> 1  网上 -> 1  定单 -> 1  开 -> 1  没 -> 1  不要 -> 1  官网 -> 1  百度 -> 1  个人 -> 1  不行 -> 1  关 -> 1  \\ -> 1  贵 -> 1  购买 -> 1  现在 -> 1  扯蛋 -> 1  谢谢 -> 1  为啥 -> 1  我人 -> 1  发 -> 1  有人 -> 1  不到 -> 1  还 -> 1  应该 -> 1  发下 -> 1 \n"
     ]
    }
   ],
   "source": [
    "# 获取排序\n",
    "sort_list = sorted(fd.items(), key = lambda d:d[1], reverse=True)\n",
    "for w,c in sort_list[:50]:\n",
    "    print \"%s -> %d \" %(w,c),"
   ]
  },
  {
   "cell_type": "code",
   "execution_count": 46,
   "metadata": {
    "collapsed": true
   },
   "outputs": [
    {
     "name": "stdout",
     "output_type": "stream",
     "text": [
      "工号 0.646543146605\nnan 0.556035697809\nQQ 0.417026773357\n企业 0.343632619705\n多少钱 0.279578149553\n500 0.278017848905\n100 0.278017848905\nqq 0.278017848905\n10 0.278017848905\n代理 0.250271311033\n你好 0.185066936671\n手机 0.143530740189\n申请 0.139988266273\n600 0.139008924452\nzaima 0.139008924452\n56.636 0.139008924452\n加不上 0.139008924452\n5000 0.139008924452\n官网 0.139008924452\n6000 0.139008924452\n"
     ]
    }
   ],
   "source": [
    "jieba.load_userdict(user_dict)\n",
    "jieba.analyse.set_stop_words(stop_dict)\n",
    "key_words = jieba.analyse.extract_tags(text, topK=20, withWeight=True)\n",
    "for key, w in key_words:\n",
    "    print key,w"
   ]
  },
  {
   "cell_type": "code",
   "execution_count": 67,
   "metadata": {},
   "outputs": [],
   "source": [
    "jieba.load_userdict(user_dict)\n",
    "#[ fen_ci(str(msg)) for msg in df['msg'] ]\n",
    "\n",
    "df['words'] = map(fen_ci, map(str, df['msg']))"
   ]
  },
  {
   "cell_type": "code",
   "execution_count": 72,
   "metadata": {},
   "outputs": [
    {
     "data": {
      "text/plain": [
       "0                                               下   在 \n1     没定单啊   不是   是申请的   网上申请的企业   qq   嗯嗯   多少钱呢  ...\n2                                            多少一个企业QQ \n3     你好   企业qq换手机在哪换   网址发一下   谢谢   ?   企业QQ换手机   ...\n4                                                  NaN\n5                                              zaima  \n6                                                  NaN\n7                                                  NaN\n8     我QQ  为啥加不上人？   我给100   300   500   600   1000...\n9             在？   企业号可以开2000人群？   是的   把你的这么回复关了   0 \nName: msg, dtype: object"
      ]
     },
     "execution_count": 72,
     "metadata": {},
     "output_type": "execute_result"
    }
   ],
   "source": [
    "df['msg'][:10]"
   ]
  },
  {
   "cell_type": "code",
   "execution_count": 73,
   "metadata": {},
   "outputs": [
    {
     "data": {
      "text/plain": [
       "0                                                    下\n1                           没 定单 申请 网上 申请 企业 qq 多少钱 暂时\n2                                             一个 企业 QQ\n3    你好 企业 qq 换 手机 哪换 网址 发 谢谢 企业 QQ 换 手机 换 人 企业 号 多...\n4                                                  nan\n5                                                zaima\n6                                                  nan\n7                                                  nan\n8                                     QQ 为啥 加不上 人 ko \\\n9                                       企业 号 开 人群 回复 关\nName: words, dtype: object"
      ]
     },
     "execution_count": 73,
     "metadata": {},
     "output_type": "execute_result"
    }
   ],
   "source": [
    "df['words'][:10]"
   ]
  },
  {
   "cell_type": "code",
   "execution_count": 84,
   "metadata": {},
   "outputs": [
    {
     "data": {
      "text/plain": [
       "array([[0, 0, 0, 0, 0, 0, 0, 0, 0, 0, 0, 0, 0, 0, 0, 0, 0, 0, 0, 0, 0, 0,\n        0, 0, 0, 0, 0, 0, 0],\n       [0, 0, 1, 0, 0, 0, 0, 0, 0, 0, 1, 0, 0, 0, 0, 0, 1, 0, 1, 0, 0, 0,\n        0, 1, 1, 1, 0, 0, 0],\n       [0, 0, 1, 0, 1, 0, 0, 0, 0, 0, 1, 0, 0, 0, 0, 0, 0, 0, 0, 0, 0, 0,\n        0, 0, 0, 0, 0, 0, 0],\n       [0, 0, 1, 0, 1, 1, 1, 0, 0, 1, 1, 1, 0, 1, 1, 0, 1, 1, 0, 1, 1, 1,\n        1, 0, 0, 0, 1, 1, 1],\n       [0, 1, 0, 0, 0, 0, 0, 0, 0, 0, 0, 0, 0, 0, 0, 0, 0, 0, 0, 0, 0, 0,\n        0, 0, 0, 0, 0, 0, 0],\n       [0, 0, 0, 1, 0, 0, 0, 0, 0, 0, 0, 0, 0, 0, 0, 0, 0, 0, 0, 0, 0, 0,\n        0, 0, 0, 0, 0, 0, 0],\n       [0, 1, 0, 0, 0, 0, 0, 0, 0, 0, 0, 0, 0, 0, 0, 0, 0, 0, 0, 0, 0, 0,\n        0, 0, 0, 0, 0, 0, 0],\n       [0, 1, 0, 0, 0, 0, 0, 0, 0, 0, 0, 0, 0, 0, 0, 0, 0, 0, 0, 0, 0, 0,\n        0, 0, 0, 0, 0, 0, 0],\n       [1, 0, 1, 0, 0, 0, 0, 1, 0, 0, 0, 0, 1, 0, 0, 0, 0, 0, 0, 0, 0, 0,\n        0, 0, 0, 0, 0, 0, 0],\n       [0, 0, 0, 0, 0, 0, 0, 0, 1, 0, 1, 0, 0, 0, 0, 1, 0, 0, 0, 0, 0, 0,\n        0, 0, 0, 0, 0, 0, 0]], dtype=int64)"
      ]
     },
     "execution_count": 84,
     "metadata": {},
     "output_type": "execute_result"
    }
   ],
   "source": [
    "from sklearn.feature_extraction.text import CountVectorizer\n",
    "corpus = [\n",
    "    'This is the first document.',\n",
    "    'This is the second second document.',\n",
    "    'And the third one.',\n",
    "    'Is this the first document?'\n",
    "]\n",
    "\n",
    "corpus = df['words'][:10]\n",
    "vectorizer = CountVectorizer(ngram_range=(1,1), binary=True)\n",
    "X = vectorizer.fit_transform(corpus)\n",
    "X.toarray()"
   ]
  },
  {
   "cell_type": "code",
   "execution_count": 77,
   "metadata": {},
   "outputs": [
    {
     "data": {
      "text/plain": [
       "(10, 63)"
      ]
     },
     "execution_count": 77,
     "metadata": {},
     "output_type": "execute_result"
    }
   ],
   "source": [
    "X.shape"
   ]
  },
  {
   "cell_type": "code",
   "execution_count": 85,
   "metadata": {
    "collapsed": true
   },
   "outputs": [
    {
     "name": "stdout",
     "output_type": "stream",
     "text": [
      "ko/nan/qq/zaima/一个/不到/不行/为啥/人群/价格/企业/你好/加不上/发下/哪换/回复/多少钱/官网/定单/工号/很多/我人/手机/暂时/申请/网上/网址/谢谢/购买\n"
     ]
    }
   ],
   "source": [
    "print '/'.join(vectorizer.get_feature_names())"
   ]
  }
 ],
 "metadata": {
  "kernelspec": {
   "display_name": "Python 2",
   "language": "python",
   "name": "python2"
  },
  "language_info": {
   "codemirror_mode": {
    "name": "ipython",
    "version": 2.0
   },
   "file_extension": ".py",
   "mimetype": "text/x-python",
   "name": "python",
   "nbconvert_exporter": "python",
   "pygments_lexer": "ipython2",
   "version": "2.7.6"
  }
 },
 "nbformat": 4,
 "nbformat_minor": 0
}