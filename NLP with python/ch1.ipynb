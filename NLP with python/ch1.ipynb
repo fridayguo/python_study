{
 "cells": [
  {
   "cell_type": "code",
   "execution_count": 52,
   "metadata": {
    "collapsed": true
   },
   "outputs": [],
   "source": [
    "# encoding=gbk\n",
    "import nltk\n",
    "\n",
    "#nltk.download()"
   ]
  },
  {
   "cell_type": "code",
   "execution_count": 53,
   "metadata": {
    "collapsed": true
   },
   "outputs": [
    {
     "data": {
      "text/plain": [
       "'\\xe6\\x88\\x91\\xe6\\x98\\xaf\\xe8\\xb6\\x85\\xe4\\xba\\xba'"
      ]
     },
     "execution_count": 53,
     "metadata": {},
     "output_type": "execute_result"
    }
   ],
   "source": [
    "from nltk.book import *\n",
    "eng=['i','am','super','man']\n",
    "ch =r'我是超人' \n",
    "ch"
   ]
  },
  {
   "cell_type": "code",
   "execution_count": 76,
   "metadata": {
    "collapsed": true
   },
   "outputs": [
    {
     "name": "stdout",
     "output_type": "stream",
     "text": [
      "Full Mode: 这是/ 一个/ 深入/ 无人/ 踏足/ 的/ 地下/ 王国/ 去/ 冒险/ 的/ 故事/ ，/ 那里/ 遍布/ 邪恶/ 的/ 怪物/ 、/ 可怕/ 的/ 陷阱/ 和/ 无数/ 珍宝/ ！/ 召集/ 你/ 的/ 小伙伴/ ，/ 准备/ 踏上/ 一趟/ 难忘/ 的/ 冒险/ 吧/ ，/ 因为/ “/ 狗头/ 人/ 与/ 地下/ 世界/ ”/ 正等待/ 着/ 你们/ ！/ \n/ 准备/ 好了吗/  / 召集/ 小队/ 去/ 地下/ 世界/ 寻宝/ 吧/ \n/ \n/ 　/ 　/ 探索/ 地下/ 世界/ ，/ 赢得/ 生死/ 较量/ ，/ 发掘/ 奇珍异宝/ ！/ \n/ 　/ 　/ 艾泽拉斯/ 世界/ 中外/ 貌似/ 鼠/ ，/ 热爱/ 蜡烛/ 的/ 洞穴/ 居民/ 狗头/ 人/ ，/ 已/ 在/ 地表/ 之下/ 挖掘/ 了/ 上千年/ 。/ 它们/ 的/ 地下/ 洞穴/ 如今/ 四通八达/ ，/ 贯穿/ 无数/ 隐秘/ 的/ 宝窟/ 和/ 禁忌/ 的/ 墓穴/ 。/ 那些/ 无人/ 踏足/ 的/ 通道/ 里/ 潜藏着/ 尘封/ 的/ 危险/ 。/ 如果/ 你/ 能/ 幸存/ 下来/ ，/ 便/ 可/ 获得/ 丰厚/ 的/ 战利品/ 。/ \n/ 　/ 　/ “/ 狗头/ 人/ 与/ 地下/ 世界/ ”/ 冒险/ 伴随/ 一个/ 充满/ 惊喜/ 的/ 大/ 宝箱/ ，/ 内含/ ：/ \n/ 　/ 　/ 地下城/ 冒险/ ：/ 可/ 重复/ 的/ 免费/ 单人/ 地下城/ 冒险/ ，/ 我们/ 已/ 预先/ 为/ 你/ 准备/ 好/ 基础/ 套牌/ \n/ 　/ 　/ 每个/ 职业/ 都/ 将/ 新增/ 一张/ 传说/ 武器/ 牌/ \n/ 　/ 　/ 新/ 关键词/ ：/ 招募/ \n/ 　/ 　/ 总计/ 135/ 张新卡牌/ ！/ \n/ 准备/ 好了吗/  / 召集/ 小队/ 去/ 地下/ 世界/ 寻宝/ 吧/ \n/ 　/ 　/ 地下城/ 冒险/ \n/ 　/ 　/ 地下城/ 冒险/ 是/ 一项/ 全新/ 的/ 单人游戏/ 内容/ 。/ 在/ 这种/ 收集/ 型/ 的/ 模式/ 中/ ，/ 你/ 将/ 击败/ 邪恶/ 的/ 敌人/ ，/ 收集/ 惊人/ 的/ 财宝/ 来/ 组建/ 足以/ 匹配/ 英雄/ 的/ 套牌/ ！/ \n/ 准备/ 好了吗/  / 召集/ 小队/ 去/ 地下/ 世界/ 寻宝/ 吧/ \n/ 　/ 　/ 地下城/ 冒险/ 开始/ 后/ ，/ 你/ 将/ 选择/ 一名/ 英雄/ ，/ 然后/ 获得/ 由/ 十张/ 卡牌/ 组成/ 的/ 基础/ 套牌/ 。/ 你/ 需要/ 用/ 这/ 套牌/ 击退/ 8/ 次/ 难度/ 逐渐/ 提升/ 的/ 敌袭/ （/ 从/ 丰富/ 的/ 48/ 个/ 候选/ 战斗/ 中/ 随机/ 选择/ ）/ ，/ 从而/ 完成/ 地下城/ 冒险/ 。/ \n/ 　/ 　/ 当然/ ，/ 最初/ 的/ 套牌/ 可能/ 足以/ 让/ 你/ 轻松/ 击败/ 第一名/ 对手/ ，/ 但/ 若想/ 完成/ 任务/ ，/ 你/ 就/ 必须/ 强大/ 起来/ 。/ 每次/ 在/ 地下城/ 冒险/ 的/ 战斗/ 中/ 获胜/ ，/ 你/ 都/ 将/ 获得/ 一次/ 机会/ ，/ 通过/ 三张/ 相应/ 职业/ 的/ 主题卡/ 牌/ ，/ 有时/ 甚至/ 是/ 强大/ 的/ 宝藏/ 牌来/ “/ 升级/ ”/ 你/ 的/ 地下城/ 冒险/ 套牌/ —/ —/ 宝藏/ 牌/ 是/ 一种/ 不可/ 收集/ 的/ 卡牌/ 和/ 技能/ ，/ 专/ 为此/ 模式/ 定制/ ，/ 在/ 普通/ 的/ 对/ 战中/ 过于/ 强大/ 。/ \n/ 　/ 　/ 你/ 必须/ 发挥/ 所有/ 的/ 力量/ 和/ 智慧/ ，/ 因为/ 这些/ 战斗/ 也许/ 极度/ 艰难/ 。/ 胜利/ 并非/ 必然/ ，/ 而且/ 每场/ 战斗/ 都/ 有/ 自己/ 独特/ 的/ 险要/ 之/ 处/ 。/ 如果/ 在/ 其中/ 一场/ 失利/ ，/ “/ 死亡/ ”/ 将/ 切实/ 降临/ ，/ 你/ 必须/ 用/ 全新/ 的/ 套牌/ 开始/ 新/ 的/ 一轮/ 冒险/ ！/ \n/ 　/ 　/ 如果/ 你/ 能/ 用/ 全部/ 九个/ 职业/ 完成/ 地下城/ 冒险/ （/ 绝非易事/ ）/ ，/ 你/ 将/ 获得/ 一张/ “/ 蜡烛/ 之王/ ”/ 卡牌/ 背面/ 图案/ 。/ \n/ 准备/ 好了吗/  / 召集/ 小队/ 去/ 地下/ 世界/ 寻宝/ 吧/ \n/ 　/ 　/ 传说/ 武器/ ：/ 巨龙/ 之魂/ \n/ 　/ 　/ “/ 狗头/ 人/ 与/ 地下/ 世界/ ”/ 将/ 为/ 《/ 炉石/ 传说/ 》/ 带来/ 传说/ 武器/ 的/ 力量/ 。/ 巨龙/ 之魂/ 只是/ 第一件/ 登场/ 武器/ —/ —/ 还有/ 八件/ 拥有/ 惊人/ 威力/ 的/ 神器/ 将/ 在/ “/ 地下/ 世界/ ”/ 中/ 揭开/ 面纱/ —/ —/ 《/ 炉石/ 传说/ 》/ 中/ 的/ 每个/ 职业/ 各有/ 一件/ 。/ \n/ 准备/ 好了吗/  / 召集/ 小队/ 去/ 地下/ 世界/ 寻宝/ 吧/ \n/ 　/ 　/ “/ 老狐狸/ ”/ 马林/ \n/ 　/ 　/ 传奇/ 冒险/ 怎能/ 少得/ 了/ 传奇/ 冒险家/ ，/ 而/ “/ 老狐狸/ ”/ 马林/ 正是/ 冒险家/ 之/ 最/ ！/ 这个/ 狡猾/ 的/ 家伙/ 精通/ 所有/ 地下城/ 的/ 门路/ ，/ 他/ 正/ 深入/ 地下/ ，/ 搜寻/ 一个/ 传说/ 中/ 的/ 宝箱/ ，/ 内含/ 拥有/ 惊人/ 力量/ 的/ 魔法/ 物品/ 。/ \n/ 准备/ 好了吗/  / 召集/ 小队/ 去/ 地下/ 世界/ 寻宝/ 吧/ \n/ 　/ 　/ 如果/ 想/ 在/ 地下城/ 的/ 冒险/ 中/ 生存/ 下来/ ，/ 你/ 就/ 需要/ 他/ 的/ 专业知识/ 。/ 但/ 命运/ 眷顾/ 于/ 你/ ，/ 因为/ 从/ 11/ 月/ 7/ 日/ （/ 周二/ ）/ 开始/ ，/ 所有人/ 只要/ 登录/ 游戏/ ，/ 就/ 可以/ 免费/ 将/ “/ 马林/ ”/ 加入收藏/ ，/ 直到/ “/ 狗头/ 人/ 与/ 地下/ 世界/ ”/ 正式/ 发布/ 。/ \n/ 　/ 　/ 暴雪/ 嘉年华/ 参与者/ 和/ 虚拟/ 门票/ 持有者/ 还/ 将/ 获得/ 黄金版/ 的/ “/ 老狐狸/ ”/ 马林/ 。/ 参加/ 暴雪/ 嘉年华/ 或/ 购买/ 虚拟/ 门票/ 是/ 获得/ 金色/ 版马林/ 的/ 唯一/ 途径/ —/ —/ 这张/ 金色/ 卡牌/ 不能/ 制作/ 或/ 分解/ 。/ \n/ 　/ 　/ 暴雪/ 嘉年华/ 结束/ 后/ 不久/ */ ，/ 你/ 就/ 可以/ 在/ “/ 狗头/ 人/ 与/ 地下/ 世界/ ”/ 发布/ 之前/ ，/ 将/ “/ 老狐狸/ ”/ 马林/ 加入/ 你/ 的/ 套牌/ ，/ 并/ 在/ 游戏/ 内/ 使用/ ！/ 如果/ 你/ 没能/ 在/ “/ 狗头/ 人/ 与/ 地下/ 世界/ ”/ 上线/ 前/ 获得/ 马林/ ，/ 那么/ 你/ 在/ 扩展/ 包/ 发布/ 后/ 首次/ 获得/ “/ 狗头/ 人/ 与/ 地下/ 世界/ ”/ 卡牌/ 包时/ ，/ 将会/ 得到/ 该卡/ 牌/ 。/ \n/ 　/ 　/ */ “/ 老狐狸/ ”/ 马林/ 和/ “/ 为了/ 财宝/ ”/ 卡牌/ 背面/ 图案/ 将/ 在/ 《/ 炉石/ 传说/ 》/ 9.4/ 版本/ 上线/ 后/ 实装/ 。/ \n/ 　/ 　/ 既然/ 已经/ 知道/ 该/ 怎么/ 获得/ “/ 老狐狸/ ”/ 马林/ 了/ ，/ 那/ 我们/ 接下来/ 看看/ 宝箱/ 里/ 有些/ 什么/ 吧/ ？/ \n/ 准备/ 好了吗/  / 召集/ 小队/ 去/ 地下/ 世界/ 寻宝/ 吧/ \n/ 　/ 　/ 呼朋唤友/ \n/ 　/ 　/ 宝藏/ 是/ “/ 狗头/ 人/ 与/ 地下/ 世界/ ”/ 的/ 闪亮/ 核心/ ，/ 但/ 为了/ 真正/ 获得/ 深入/ 地下城/ 的/ 神奇/ 体验/ ，/ 你/ 需要/ 派遣/ 冒险家/ 去/ 搜寻/ 亮晶晶/ 的/ 宝贝/ ！/ 你/ 将/ 通过/ 一个/ 新/ 的/ 关键词/ 来/ 召集/ 你/ 的/ 队友/ ：/ 招募/ 。/ \n/ 准备/ 好了吗/  / 召集/ 小队/ 去/ 地下/ 世界/ 寻宝/ 吧/ \n/ 　/ 　/ 招募/ 是/ 指/ “/ 从/ 你/ 的/ 套牌/ 中/ 随机/ 召唤/ 一名/ 随从/ ”/ ，/ 只会/ 在/ 与/ “/ 狗头/ 人/ 与/ 地下/ 世界/ ”/ 冒险家/ 相关/ 的/ 卡牌/ 上/ 出现/ 。/ 招募/ 开启/ 了/ 一些/ 有趣/ 的/ 套牌/ 组建/ 决策/ ，/ 因为/ 有时/ 存在/ 法力/ 值/ 等/ 关键/ 限制/ ，/ 所以/ 你/ 必须/ 谨慎/ 选择/ 所/ 选择/ 的/ 随从/ 及其/ 数量/ 。/ \n/ 　/ 　/ 各种各样/ 的/ 狗头/ 人/ ！/ \n/ 　/ 　/ 狗头/ 人/ 是/ 本次/ 扩展/ 包/ 当之无愧/ 的/ 主角/ —/ —/ 毕竟/ 是/ 它们/ 不眠不休/ 地/ 挖掘/ 打造出/ 了/ 这些/ 四通八达/ 的/ 通道/ 和/ 洞窟/ 。/ 尽管/ 一生/ 几乎/ 完全/ 居住/ 在/ 地下/ ，/ 但/ 它们/ 并/ 不/ 喜欢/ 黑暗/ 。/ 它们/ 头上/ 都/ 戴/ 着/ 一根/ 点燃/ 的/ 蜡烛/ 。/ 虽然/ 狗头/ 人会/ 小心翼翼/ 地/ 保护/ 领土/ 中/ 成堆/ 的/ 黄金/ 、/ 珠宝/ 以及/ 神器/ ，/ 但/ 它们/ 最/ 珍视/ 的/ 宝贝/ ，/ 却是/ 那/ 一点/ 蜡/ 和/ 灯芯/ 。/ 如果/ 你/ 深入/ 洞穴/ 冒险/ ，/ 记住/ 以下/ 法则/ ：/ 千万/ 别碰/ 蜡烛/ ！/ \n/ 准备/ 好了吗/  / 召集/ 小队/ 去/ 地下/ 世界/ 寻宝/ 吧/ \n/ 　/ 　/ 整装待发/ ！/ \n/ 　/ 　/ 以上/ 只是/ “/ 狗头/ 人/ 与/ 地下/ 世界/ ”/ 大冒险/ 的/ 惊鸿一瞥/ 。/ 还有/ 许多/ 惊喜/ 在/ 等待/ ，/ 我们/ 会/ 在/ 即将/ 到来/ 的/ 暴雪/ 嘉年华/ “/ 未来/ 展望/ ”/ 研讨会/ 上/ 一一/ 揭晓/ 。/ \n/ 准备/ 好了吗/  / 召集/ 小队/ 去/ 地下/ 世界/ 寻宝/ 吧/ \n/ 　/ 　/ 为/ 你/ 的/ “/ 狗头/ 人/ 与/ 地下/ 世界/ ”/ 大冒险/ 做好/ 准备/ 吧/ 。/ 记得/ 关注/ 《/ 炉石/ 传说/ 》/ 官方网站/ 以及/ 我们/ 的/ 微博/ 和/ 论坛/ 以/ 了解/ 最新/ 的/ 消息/ 。\n"
     ]
    }
   ],
   "source": [
    "import jieba\n",
    "fd = open('./NLP with python/lushi.txt')\n",
    "lushi_raw = fd.read()\n",
    "lushi_list = jieba.cut(lushi_raw)\n",
    "ls_list = [ w for w in lushi_list]\n",
    "print(\"Full Mode: \" + \"/ \".join(ls_list))  # 全模式"
   ]
  },
  {
   "cell_type": "code",
   "execution_count": 78,
   "metadata": {},
   "outputs": [
    {
     "name": "stdout",
     "output_type": "stream",
     "text": [
      "<type 'list'>\n<class 'nltk.text.Text'>\n"
     ]
    }
   ],
   "source": [
    "#lushi_list = ['lushi',u'炉石',u'传说',u'地下城']\n",
    "print type(ls_list)\n",
    "lushi = nltk.Text(ls_list)\n",
    "print type(lushi)"
   ]
  },
  {
   "cell_type": "code",
   "execution_count": 79,
   "metadata": {},
   "outputs": [
    {
     "data": {
      "text/plain": [
       "<Text: \\u8fd9\\u662f \\u4e00\\u4e2a \\u6df1\\u5165 \\u65e0\\u4eba \\u8e0f\\u8db3 \\u7684 \\u5730\\u4e0b \\u738b\\u56fd...>"
      ]
     },
     "execution_count": 79,
     "metadata": {},
     "output_type": "execute_result"
    }
   ],
   "source": [
    "lushi"
   ]
  },
  {
   "cell_type": "code",
   "execution_count": 80,
   "metadata": {
    "collapsed": true
   },
   "outputs": [
    {
     "name": "stdout",
     "output_type": "stream",
     "text": [
      "地下城\nDisplaying 12 of 12 matches:\n ” 冒险 伴随 一个 充满 惊喜 的 大 宝箱 ， 内含 ： \n 　 　 地下城 冒险 ： 可 重复 的 免费 单人 地下城 冒险 ， 我们 已 预先 为 \n宝箱 ， 内含 ： \n 　 　 地下城 冒险 ： 可 重复 的 免费 单人 地下城 冒险 ， 我们 已 预先 为 你 准备 好 基础 套牌 \n 　 　 每个 \n！ \n 准备 好了吗   召集 小队 去 地下 世界 寻宝 吧 \n 　 　 地下城 冒险 \n 　 　 地下城 冒险 是 一项 全新 的 单人游戏 内容 。 在\n召集 小队 去 地下 世界 寻宝 吧 \n 　 　 地下城 冒险 \n 　 　 地下城 冒险 是 一项 全新 的 单人游戏 内容 。 在 这种 收集 型 的 模式\n！ \n 准备 好了吗   召集 小队 去 地下 世界 寻宝 吧 \n 　 　 地下城 冒险 开始 后 ， 你 将 选择 一名 英雄 ， 然后 获得 由 十张 卡\n（ 从 丰富 的 48 个 候选 战斗 中 随机 选择 ） ， 从而 完成 地下城 冒险 。 \n 　 　 当然 ， 最初 的 套牌 可能 足以 让 你 轻松 \n对手 ， 但 若想 完成 任务 ， 你 就 必须 强大 起来 。 每次 在 地下城 冒险 的 战斗 中 获胜 ， 你 都 将 获得 一次 机会 ， 通过 三张\n主题卡 牌 ， 有时 甚至 是 强大 的 宝藏 牌来 “ 升级 ” 你 的 地下城 冒险 套牌 — — 宝藏 牌 是 一种 不可 收集 的 卡牌 和 技能 ，\n 的 一轮 冒险 ！ \n 　 　 如果 你 能 用 全部 九个 职业 完成 地下城 冒险 （ 绝非易事 ） ， 你 将 获得 一张 “ 蜡烛 之王 ” 卡牌 \n狐狸 ” 马林 正是 冒险家 之 最 ！ 这个 狡猾 的 家伙 精通 所有 地下城 的 门路 ， 他 正 深入 地下 ， 搜寻 一个 传说 中 的 宝箱 ， \n好了吗   召集 小队 去 地下 世界 寻宝 吧 \n 　 　 如果 想 在 地下城 的 冒险 中 生存 下来 ， 你 就 需要 他 的 专业知识 。 但 命运\n头 人 与 地下 世界 ” 的 闪亮 核心 ， 但 为了 真正 获得 深入 地下城 的 神奇 体验 ， 你 需要 派遣 冒险家 去 搜寻 亮晶晶 的 宝贝 ！\n"
     ]
    }
   ],
   "source": [
    "s = u'地下城'\n",
    "print s \n",
    "lushi.concordance(s)"
   ]
  },
  {
   "cell_type": "code",
   "execution_count": 85,
   "metadata": {},
   "outputs": [
    {
     "name": "stdout",
     "output_type": "stream",
     "text": [
      "\n"
     ]
    }
   ],
   "source": [
    "lushi.similar(u'地下')"
   ]
  },
  {
   "cell_type": "code",
   "execution_count": 88,
   "metadata": {},
   "outputs": [
    {
     "data": {
      "image/png": "[encoded data removed]",
      "text/plain": [
       "<matplotlib.figure.Figure at 0x201267f0>"
      ]
     },
     "metadata": {},
     "output_type": "display_data"
    }
   ],
   "source": [
    "s = [u'地下',u'狗头',u'炉石']\n",
    "lushi.dispersion_plot(s)"
   ]
  },
  {
   "cell_type": "code",
   "execution_count": 94,
   "metadata": {},
   "outputs": [
    {
     "data": {
      "text/plain": [
       "27"
      ]
     },
     "execution_count": 94,
     "metadata": {},
     "output_type": "execute_result"
    }
   ],
   "source": [
    "lushi.count(u'地下')"
   ]
  },
  {
   "cell_type": "code",
   "execution_count": 98,
   "metadata": {},
   "outputs": [
    {
     "data": {
      "text/plain": [
       "2"
      ]
     },
     "execution_count": 98,
     "metadata": {},
     "output_type": "execute_result"
    }
   ],
   "source": [
    "fd = FreqDist(lushi)\n",
    "len(u'地下')"
   ]
  },
  {
   "cell_type": "code",
   "execution_count": 99,
   "metadata": {},
   "outputs": [
    {
     "name": "stdout",
     "output_type": "stream",
     "text": [
      "RB: adverb\n    occasionally unabatingly maddeningly adventurously professedly\n    stirringly prominently technologically magisterially predominately\n    swiftly fiscally pitilessly ...\n"
     ]
    }
   ],
   "source": [
    "nltk.help.upenn_tagset('RB')"
   ]
  }
 ],
 "metadata": {
  "kernelspec": {
   "display_name": "Python 2",
   "language": "python",
   "name": "python2"
  },
  "language_info": {
   "codemirror_mode": {
    "name": "ipython",
    "version": 2.0
   },
   "file_extension": ".py",
   "mimetype": "text/x-python",
   "name": "python",
   "nbconvert_exporter": "python",
   "pygments_lexer": "ipython2",
   "version": "2.7.6"
  }
 },
 "nbformat": 4,
 "nbformat_minor": 0
}